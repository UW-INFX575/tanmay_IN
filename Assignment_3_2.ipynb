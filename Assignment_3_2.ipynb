{
 "metadata": {
  "name": "",
  "signature": "sha256:80ebc48c53904af6a7d5aecf2dc5f29a959bb8a422eb8cbee99d361599ddf6f8"
 },
 "nbformat": 3,
 "nbformat_minor": 0,
 "worksheets": [
  {
   "cells": [
    {
     "cell_type": "code",
     "collapsed": false,
     "input": [
      "import nltk as n\n",
      "from nltk.corpus import stopwords\n",
      "import re\n",
      "from nltk import bigrams\n",
      "from nltk import ngrams\n",
      "from nltk import stem\n",
      "import collections\n",
      "import gensim\n",
      "import lda\n",
      "import math\n",
      "from decimal import Decimal "
     ],
     "language": "python",
     "metadata": {},
     "outputs": [],
     "prompt_number": 369
    },
    {
     "cell_type": "code",
     "collapsed": false,
     "input": [
      "from gensim import corpora"
     ],
     "language": "python",
     "metadata": {},
     "outputs": [],
     "prompt_number": 269
    },
    {
     "cell_type": "code",
     "collapsed": false,
     "input": [
      "stemmer=stem.snowball.EnglishStemmer()"
     ],
     "language": "python",
     "metadata": {},
     "outputs": [],
     "prompt_number": 270
    },
    {
     "cell_type": "code",
     "collapsed": false,
     "input": [
      "stopwords_list = [\"all\",\"just\",\"being\",\"over\",\"both\",\"through\",\"yourselves\",\"its\",\"before\",\"herself\",\"had\",\"should\",\"to\",\"only\",\"under\",\"ours\",\"has\",\"do\",\"them\",\"his\",\"very\",\"they\",\"not\",\"during\",\"now\",\"him\",\"nor\",\"did\",\"this\",\"she\",\"each\",\"further\",\"where\",\"few\",\"because\",\"doing\",\"some\",\"are\",\"our\",\"ourselves\",\"out\",\"what\",\"for\",\"while\",\"does\",\"above\",\"between\",\"t\",\"be\",\"we\",\"who\",\"were\",\"here\",\"hers\",\"by\",\"on\",\"about\",\"of\",\"against\",\"s\",\"or\",\"own\",\"into\",\"yourself\",\"down\",\"your\",\"from\",\"her\",\"their\",\"there\",\"been\",\"whom\",\"too\",\"themselves\",\"was\",\"until\",\"more\",\"himself\",\"that\",\"but\",\"don\",\"with\",\"than\",\"those\",\"he\",\"me\",\"myself\",\"these\",\"up\",\"will\",\"below\",\"can\",\"theirs\",\"my\",\"and\",\"then\",\"is\",\"am\",\"it\",\"an\",\"as\",\"itself\",\"at\",\"have\",\"in\",\"any\",\"if\",\"again\",\"no\",\"when\",\"same\",\"how\",\"other\",\"which\",\"you\",\"after\",\"most\",\"such\",\"why\",\"a\",\"off\",\"i\",\"yours\",\"so\",\"the\",\"having\",\"once\"]"
     ],
     "language": "python",
     "metadata": {},
     "outputs": [],
     "prompt_number": 271
    },
    {
     "cell_type": "code",
     "collapsed": false,
     "input": [
      "Array = []\n",
      "with open(\"abstracts.txt\") as f:\n",
      "    for l in f:\n",
      "        Array.append(l.strip().split(\"\\t\"))# splitting the given dataset by /t"
     ],
     "language": "python",
     "metadata": {},
     "outputs": [],
     "prompt_number": 274
    },
    {
     "cell_type": "code",
     "collapsed": false,
     "input": [
      "Array1 = []\n",
      "for i,f in enumerate(Array):\n",
      "    if Array[i][1] == 'null':\n",
      "        continue\n",
      "    else:\n",
      "        Array1.append(Array[i])\n"
     ],
     "language": "python",
     "metadata": {},
     "outputs": [],
     "prompt_number": 275
    },
    {
     "cell_type": "code",
     "collapsed": false,
     "input": [
      "abstract_keys = []#the first element of each striped part is the key, which is stored in keys[]\n",
      "for i in range(len(Array1)):\n",
      "    abstract_keys.append(Array1[i][0])"
     ],
     "language": "python",
     "metadata": {},
     "outputs": [],
     "prompt_number": 276
    },
    {
     "cell_type": "code",
     "collapsed": false,
     "input": [
      "abstract_value = []\n",
      "for i in range(len(Array1)):\n",
      "    abstract_value.append(Array1[i][1])"
     ],
     "language": "python",
     "metadata": {},
     "outputs": [],
     "prompt_number": 277
    },
    {
     "cell_type": "code",
     "collapsed": false,
     "input": [
      "for i in range(len(abstract_value)):\n",
      "    abstract_value[i] = abstract_value[i].split()"
     ],
     "language": "python",
     "metadata": {},
     "outputs": [],
     "prompt_number": 279
    },
    {
     "cell_type": "code",
     "collapsed": false,
     "input": [
      "for i in range(len(abstract_value)):\n",
      "    filtered_words = [w for w in abstract_value[i] if not w in stopwords_list]\n",
      "    abstract_value[i] = filtered_words"
     ],
     "language": "python",
     "metadata": {},
     "outputs": [],
     "prompt_number": 280
    },
    {
     "cell_type": "code",
     "collapsed": false,
     "input": [
      "abstract_map = {}#mapping keys to abstracts\n",
      "for i in range(len(abstract_value)):\n",
      "    abstract_map[abstract_keys[i]] = abstract_value[i]"
     ],
     "language": "python",
     "metadata": {},
     "outputs": [],
     "prompt_number": 282
    },
    {
     "cell_type": "code",
     "collapsed": false,
     "input": [
      "index_1 = ['2408678','2459379','2461605','1745369','2825234','2459010','1942661']#keys of abstracts of each field except non null abstracts\n",
      "index_2 = ['67376','66230','70083','1700278','1603658','9298','61400','23751','68319']\n",
      "index_3 = ['1912934','1912352','1914185','1913738','1831029']"
     ],
     "language": "python",
     "metadata": {},
     "outputs": [],
     "prompt_number": 454
    },
    {
     "cell_type": "code",
     "collapsed": false,
     "input": [
      "field1 = []#array storing all unigrams in field 1\n",
      "for i in range(len(index_1)):\n",
      "    temp = abstract_map[index_1[i]]\n",
      "    for j in range(len(temp)):\n",
      "        field1.append(temp[j])"
     ],
     "language": "python",
     "metadata": {},
     "outputs": [],
     "prompt_number": 456
    },
    {
     "cell_type": "code",
     "collapsed": false,
     "input": [
      "field2 = []#array storing all unigrams in field 2\n",
      "for i in range(len(index_2)):\n",
      "    temp = abstract_map[index_2[i]]\n",
      "    for j in range(len(temp)):\n",
      "        field2.append(temp[j])"
     ],
     "language": "python",
     "metadata": {},
     "outputs": [],
     "prompt_number": 457
    },
    {
     "cell_type": "code",
     "collapsed": false,
     "input": [
      "field3 = []#array storing all unigrams in field 3\n",
      "for i in range(len(index_3)):\n",
      "    temp = abstract_map[index_2[i]]\n",
      "    for j in range(len(temp)):\n",
      "        field3.append(temp[j])"
     ],
     "language": "python",
     "metadata": {},
     "outputs": [],
     "prompt_number": 458
    },
    {
     "cell_type": "code",
     "collapsed": false,
     "input": [
      "def cultural_Hole(x, y):#2 sets of unigrams, x and y\n",
      "    alp = 0.01\n",
      "    kld_x_y = 0\n",
      "    shannon_x = 0\n",
      "    \n",
      "    prob_xy = {}#probabilities of a given word across both sets\n",
      "    prob_x = {}#probability of a given word in set x\n",
      "    prob_y = {}#probability of a given word in set y\n",
      "    count_x = collections.defaultdict(int)#map that stores the number of occurences of a given word in set x\n",
      "    count_y = collections.defaultdict(int)#map that stores the number of occurences of a given word in set y\n",
      "    count_xy = collections.defaultdict(int)#map that stores the number of occurences of a given word in set across both sets\n",
      "    xy_words = []#array that stores all words across both sets including repeated ones.\n",
      "    n1 = len(x)#number of unigrams in set x\n",
      "    n2 = len(y)#number of unigrams in set y\n",
      "    \n",
      "    for word in x:\n",
      "        xy_words.append(word)#populating array xy_words\n",
      "    for word in y:\n",
      "        xy_words.append(word)\n",
      "    \n",
      "    for i in xy_words:\n",
      "        count_xy[i]+=1#populating dictionary that keeps track of occurences of each word across both fields\n",
      "        \n",
      "    for i in x:\n",
      "        count_x[i]+=1#populating dictionary that keeps track of number ofoccurences of words in x\n",
      "    for j in y:\n",
      "        count_y[i]+=1#populating dictionary that keeps track of number ofoccurences of words in y\n",
      "    \n",
      "    for word in x:\n",
      "        prob_x[word] = float(count_x[word])/n1#populating dictionaries that keeps track of probabilities of each across sets x, y and xy\n",
      "    for word in y:\n",
      "        prob_y[word] = float(count_y[word])/n2\n",
      "    for word in count_xy:\n",
      "        prob_xy[word] = float(count_xy[word])/(n1+n2)\n",
      "    \n",
      "    for word in prob_x:\n",
      "        shannon_x += float(prob_x[word])*math.log(prob_x[word],2)*(-1)#calculation of shannon entropy\n",
      "    \n",
      "    for word in prob_xy:\n",
      "        if word in prob_x:\n",
      "            p_1=(1-alp)*prob_x[word] + alp*prob_xy[word]\n",
      "        else:\n",
      "            p_1 = alp*prob_xy[word]\n",
      "        if word in prob_y:\n",
      "            p_2=(1-alp)*prob_y[word] + alp*prob_xy[word]\n",
      "        else:\n",
      "            p_2 = alp*prob_xy[word]\n",
      "        kld_x_y+= p_1*math.log(p_2,2)*(-1)#calculation of KLD\n",
      "    E_xy = shannon_x/kld_x_y\n",
      "    C_xy = 1 - E_xy#calculation of cultural hole\n",
      "    return C_xy"
     ],
     "language": "python",
     "metadata": {},
     "outputs": [],
     "prompt_number": 490
    },
    {
     "cell_type": "code",
     "collapsed": false,
     "input": [
      "cultural_Hole(field3,field2)"
     ],
     "language": "python",
     "metadata": {},
     "outputs": [
      {
       "metadata": {},
       "output_type": "pyout",
       "prompt_number": 491,
       "text": [
        "0.4866045523594338"
       ]
      }
     ],
     "prompt_number": 491
    },
    {
     "cell_type": "code",
     "collapsed": false,
     "input": [
      "c12 = cultural_Hole(field1,field2)"
     ],
     "language": "python",
     "metadata": {},
     "outputs": [],
     "prompt_number": 500
    },
    {
     "cell_type": "code",
     "collapsed": false,
     "input": [
      "c21 =cultural_Hole(field2,field1)"
     ],
     "language": "python",
     "metadata": {},
     "outputs": [],
     "prompt_number": 501
    },
    {
     "cell_type": "code",
     "collapsed": false,
     "input": [
      "c13= cultural_Hole(field1,field3)"
     ],
     "language": "python",
     "metadata": {},
     "outputs": [],
     "prompt_number": 502
    },
    {
     "cell_type": "code",
     "collapsed": false,
     "input": [
      "c31 = cultural_Hole(field3,field1)"
     ],
     "language": "python",
     "metadata": {},
     "outputs": [],
     "prompt_number": 503
    },
    {
     "cell_type": "code",
     "collapsed": false,
     "input": [
      "c23 = cultural_Hole(field2,field3)"
     ],
     "language": "python",
     "metadata": {},
     "outputs": [],
     "prompt_number": 504
    },
    {
     "cell_type": "code",
     "collapsed": false,
     "input": [
      "c32 = cultural_Hole(field3,field2)"
     ],
     "language": "python",
     "metadata": {},
     "outputs": [],
     "prompt_number": 505
    },
    {
     "cell_type": "code",
     "collapsed": false,
     "input": [
      "CH = [c12, c21, c13, c31, c23, c32]"
     ],
     "language": "python",
     "metadata": {},
     "outputs": [],
     "prompt_number": 506
    },
    {
     "cell_type": "code",
     "collapsed": false,
     "input": [
      "for i in CH:\n",
      "    print i"
     ],
     "language": "python",
     "metadata": {},
     "outputs": [
      {
       "output_type": "stream",
       "stream": "stdout",
       "text": [
        "0.460178513123\n",
        "0.48212856964\n",
        "0.447786441891\n",
        "0.532742251077\n",
        "0.447382630773\n",
        "0.486604552359\n"
       ]
      }
     ],
     "prompt_number": 507
    },
    {
     "cell_type": "code",
     "collapsed": false,
     "input": [],
     "language": "python",
     "metadata": {},
     "outputs": [],
     "prompt_number": 487
    },
    {
     "cell_type": "code",
     "collapsed": false,
     "input": [],
     "language": "python",
     "metadata": {},
     "outputs": [],
     "prompt_number": 340
    },
    {
     "cell_type": "code",
     "collapsed": false,
     "input": [],
     "language": "python",
     "metadata": {},
     "outputs": [],
     "prompt_number": 487
    },
    {
     "cell_type": "code",
     "collapsed": false,
     "input": [],
     "language": "python",
     "metadata": {},
     "outputs": [],
     "prompt_number": 487
    },
    {
     "cell_type": "code",
     "collapsed": false,
     "input": [],
     "language": "python",
     "metadata": {},
     "outputs": [],
     "prompt_number": 487
    },
    {
     "cell_type": "code",
     "collapsed": false,
     "input": [],
     "language": "python",
     "metadata": {},
     "outputs": [],
     "prompt_number": 487
    },
    {
     "cell_type": "code",
     "collapsed": false,
     "input": [],
     "language": "python",
     "metadata": {},
     "outputs": [],
     "prompt_number": 487
    },
    {
     "cell_type": "code",
     "collapsed": false,
     "input": [],
     "language": "python",
     "metadata": {},
     "outputs": [],
     "prompt_number": 487
    },
    {
     "cell_type": "code",
     "collapsed": false,
     "input": [],
     "language": "python",
     "metadata": {},
     "outputs": [],
     "prompt_number": 487
    },
    {
     "cell_type": "code",
     "collapsed": false,
     "input": [],
     "language": "python",
     "metadata": {},
     "outputs": [],
     "prompt_number": 487
    },
    {
     "cell_type": "code",
     "collapsed": false,
     "input": [],
     "language": "python",
     "metadata": {},
     "outputs": [],
     "prompt_number": 487
    },
    {
     "cell_type": "code",
     "collapsed": false,
     "input": [],
     "language": "python",
     "metadata": {},
     "outputs": [],
     "prompt_number": 487
    },
    {
     "cell_type": "code",
     "collapsed": false,
     "input": [],
     "language": "python",
     "metadata": {},
     "outputs": [],
     "prompt_number": 487
    },
    {
     "cell_type": "code",
     "collapsed": false,
     "input": [],
     "language": "python",
     "metadata": {},
     "outputs": [],
     "prompt_number": 487
    },
    {
     "cell_type": "code",
     "collapsed": false,
     "input": [],
     "language": "python",
     "metadata": {},
     "outputs": [],
     "prompt_number": 487
    },
    {
     "cell_type": "code",
     "collapsed": false,
     "input": [],
     "language": "python",
     "metadata": {},
     "outputs": [],
     "prompt_number": 487
    },
    {
     "cell_type": "code",
     "collapsed": false,
     "input": [],
     "language": "python",
     "metadata": {},
     "outputs": [],
     "prompt_number": 487
    },
    {
     "cell_type": "code",
     "collapsed": false,
     "input": [],
     "language": "python",
     "metadata": {},
     "outputs": [],
     "prompt_number": 487
    },
    {
     "cell_type": "code",
     "collapsed": false,
     "input": [],
     "language": "python",
     "metadata": {},
     "outputs": [],
     "prompt_number": 487
    },
    {
     "cell_type": "code",
     "collapsed": false,
     "input": [],
     "language": "python",
     "metadata": {},
     "outputs": [],
     "prompt_number": 487
    },
    {
     "cell_type": "code",
     "collapsed": false,
     "input": [],
     "language": "python",
     "metadata": {},
     "outputs": [],
     "prompt_number": 487
    },
    {
     "cell_type": "code",
     "collapsed": false,
     "input": [],
     "language": "python",
     "metadata": {},
     "outputs": [],
     "prompt_number": 489
    },
    {
     "cell_type": "code",
     "collapsed": false,
     "input": [],
     "language": "python",
     "metadata": {},
     "outputs": [],
     "prompt_number": 489
    },
    {
     "cell_type": "code",
     "collapsed": false,
     "input": [],
     "language": "python",
     "metadata": {},
     "outputs": [],
     "prompt_number": 489
    },
    {
     "cell_type": "code",
     "collapsed": false,
     "input": [],
     "language": "python",
     "metadata": {},
     "outputs": [],
     "prompt_number": 267
    },
    {
     "cell_type": "code",
     "collapsed": false,
     "input": [],
     "language": "python",
     "metadata": {},
     "outputs": []
    }
   ],
   "metadata": {}
  }
 ]
}