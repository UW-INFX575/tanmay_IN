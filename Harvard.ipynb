{
 "metadata": {
  "name": "",
  "signature": "sha256:f07e5c78d35f0371e54443314b44b8f994d142c13fca322050a7e199dedce901"
 },
 "nbformat": 3,
 "nbformat_minor": 0,
 "worksheets": [
  {
   "cells": [
    {
     "cell_type": "code",
     "collapsed": false,
     "input": [
      "\"\"\"Dataset for Harvard Graduate School\"\"\""
     ],
     "language": "python",
     "metadata": {},
     "outputs": [
      {
       "metadata": {},
       "output_type": "pyout",
       "prompt_number": 166,
       "text": [
        "'Dataset for Harvard Graduate School'"
       ]
      }
     ],
     "prompt_number": 166
    },
    {
     "cell_type": "code",
     "collapsed": false,
     "input": [
      "from bs4 import BeautifulSoup\n",
      "import pandas as pd\n",
      "import re\n",
      "import urllib2\n",
      "import lxml\n",
      "from lxml.html import fromstring\n",
      "import urlparse\n",
      "import numpy as np"
     ],
     "language": "python",
     "metadata": {},
     "outputs": [],
     "prompt_number": 127
    },
    {
     "cell_type": "code",
     "collapsed": false,
     "input": [
      "\"\"\"The URL is stored in the variable harv_url\"\"\""
     ],
     "language": "python",
     "metadata": {},
     "outputs": [
      {
       "metadata": {},
       "output_type": "pyout",
       "prompt_number": 167,
       "text": [
        "'The URL is stored in the variable harv_url'"
       ]
      }
     ],
     "prompt_number": 167
    },
    {
     "cell_type": "code",
     "collapsed": false,
     "input": [
      "harv_url = \"https://www.gse.harvard.edu/directory?title=&type=faculty\"\n"
     ],
     "language": "python",
     "metadata": {},
     "outputs": [],
     "prompt_number": 62
    },
    {
     "cell_type": "code",
     "collapsed": false,
     "input": [
      "\"\"\"Created a soup object using beautifulsoup library\"\"\""
     ],
     "language": "python",
     "metadata": {},
     "outputs": []
    },
    {
     "cell_type": "code",
     "collapsed": false,
     "input": [
      "soup = BeautifulSoup(urllib2.urlopen(harv_url).read())"
     ],
     "language": "python",
     "metadata": {},
     "outputs": [],
     "prompt_number": 63
    },
    {
     "cell_type": "code",
     "collapsed": false,
     "input": [
      "\"\"\"all_url stored the html code segment that has all the metadata of the professors. This HTML file is then converted to a string using \n",
      "str command\"\"\""
     ],
     "language": "python",
     "metadata": {},
     "outputs": [
      {
       "metadata": {},
       "output_type": "pyout",
       "prompt_number": 168,
       "text": [
        "'all_url stored the html code segment that has all the metadata of the professors. This HTML file is then converted to a string using \\nstr command'"
       ]
      }
     ],
     "prompt_number": 168
    },
    {
     "cell_type": "code",
     "collapsed": false,
     "input": [
      "all_url = soup.findAll('div', attrs={'class': 'field-content'})"
     ],
     "language": "python",
     "metadata": {},
     "outputs": [],
     "prompt_number": 215
    },
    {
     "cell_type": "code",
     "collapsed": false,
     "input": [
      "all_url = str(all_url)"
     ],
     "language": "python",
     "metadata": {},
     "outputs": [],
     "prompt_number": 216
    },
    {
     "cell_type": "code",
     "collapsed": false,
     "input": [],
     "language": "python",
     "metadata": {},
     "outputs": [],
     "prompt_number": 217
    },
    {
     "cell_type": "code",
     "collapsed": false,
     "input": [
      "\"\"\"urls is an array that contains all the URLS/links present in the main page\"\"\""
     ],
     "language": "python",
     "metadata": {},
     "outputs": [],
     "prompt_number": 65
    },
    {
     "cell_type": "code",
     "collapsed": false,
     "input": [
      "urls = []\n",
      "for tag in soup.findAll('a', href=True):\n",
      "    tag['href'] = urlparse.urljoin(harv_url, tag['href'])\n",
      "    urls.append(tag['href'])"
     ],
     "language": "python",
     "metadata": {},
     "outputs": [],
     "prompt_number": 78
    },
    {
     "cell_type": "code",
     "collapsed": false,
     "input": [
      "\"\"\"prof_urls is an array that has all the links of the individual professors' home pages.Using the for loop. The links that are\n",
      "in common in all_url and urls are inserted into the prof_urls array\"\"\""
     ],
     "language": "python",
     "metadata": {},
     "outputs": [],
     "prompt_number": 169
    },
    {
     "cell_type": "code",
     "collapsed": false,
     "input": [
      "prof_urls = []"
     ],
     "language": "python",
     "metadata": {},
     "outputs": [],
     "prompt_number": 80
    },
    {
     "cell_type": "code",
     "collapsed": false,
     "input": [
      "for i in range(len(urls)):\n",
      "    if urls[i] in str(all_url):\n",
      "        prof_urls.append(urls[i])\n",
      "        "
     ],
     "language": "python",
     "metadata": {},
     "outputs": [],
     "prompt_number": 81
    },
    {
     "cell_type": "code",
     "collapsed": false,
     "input": [
      "prof_urls = prof_urls[3:]\n"
     ],
     "language": "python",
     "metadata": {},
     "outputs": [],
     "prompt_number": 82
    },
    {
     "cell_type": "code",
     "collapsed": false,
     "input": [
      "prof_urls = prof_urls[0:223]"
     ],
     "language": "python",
     "metadata": {},
     "outputs": [],
     "prompt_number": 83
    },
    {
     "cell_type": "code",
     "collapsed": false,
     "input": [
      "len(prof_urls)"
     ],
     "language": "python",
     "metadata": {},
     "outputs": [
      {
       "metadata": {},
       "output_type": "pyout",
       "prompt_number": 84,
       "text": [
        "223"
       ]
      }
     ],
     "prompt_number": 84
    },
    {
     "cell_type": "code",
     "collapsed": false,
     "input": [
      "prof_degree = []\n",
      "prof_edu = []\n",
      "prof_names = []\n",
      "dummy_array = []\n",
      "prof_department = []\n",
      "first_name = []\n",
      "last_name = []\n",
      "temp_name = []"
     ],
     "language": "python",
     "metadata": {},
     "outputs": [],
     "prompt_number": 85
    },
    {
     "cell_type": "code",
     "collapsed": false,
     "input": [
      "\"\"\"Professor names are extracted by creating a soup object for every professors homepage. The names of the professor are extracted from \n",
      "the title tag\"\"\""
     ],
     "language": "python",
     "metadata": {},
     "outputs": [
      {
       "metadata": {},
       "output_type": "pyout",
       "prompt_number": 170,
       "text": [
        "'Professor names are extracted by creating a soup object for every professors homepage. The names of the professor are extracted from \\nthe title tag'"
       ]
      }
     ],
     "prompt_number": 170
    },
    {
     "cell_type": "code",
     "collapsed": false,
     "input": [
      "for i in range(len(prof_urls)):\n",
      "    soup1 = BeautifulSoup(urllib2.urlopen(prof_urls[i]).read())\n",
      "    name = soup1.find(\"title\").text\n",
      "    name = str(name)\n",
      "    name1 = name.split(\" |\")\n",
      "    prof_names.append(name1[0])\n",
      "    print i, prof_names[i]\n",
      "    \n",
      "    "
     ],
     "language": "python",
     "metadata": {},
     "outputs": [
      {
       "output_type": "stream",
       "stream": "stdout",
       "text": [
        "0 Alberto Abadie\n",
        "1"
       ]
      },
      {
       "output_type": "stream",
       "stream": "stdout",
       "text": [
        " Emily Ackman\n",
        "2"
       ]
      },
      {
       "output_type": "stream",
       "stream": "stdout",
       "text": [
        " Lauren Adams\n",
        "3"
       ]
      },
      {
       "output_type": "stream",
       "stream": "stdout",
       "text": [
        " Mitsue Allen-Tamai\n",
        "4"
       ]
      },
      {
       "output_type": "stream",
       "stream": "stdout",
       "text": [
        " Andres Antonio Alonso\n",
        "5"
       ]
      },
      {
       "output_type": "stream",
       "stream": "stdout",
       "text": [
        " Arif Altun\n",
        "6"
       ]
      },
      {
       "output_type": "stream",
       "stream": "stdout",
       "text": [
        " Chiwen Bao\n",
        "7"
       ]
      },
      {
       "output_type": "stream",
       "stream": "stdout",
       "text": [
        " Dennis J. Barr\n",
        "8"
       ]
      },
      {
       "output_type": "stream",
       "stream": "stdout",
       "text": [
        " Felipe Barrera-Osorio\n",
        "9"
       ]
      },
      {
       "output_type": "stream",
       "stream": "stdout",
       "text": [
        " William R. Beardslee\n",
        "10"
       ]
      },
      {
       "output_type": "stream",
       "stream": "stdout",
       "text": [
        " Janine Bempechat\n",
        "11"
       ]
      },
      {
       "output_type": "stream",
       "stream": "stdout",
       "text": [
        " Ron Berger\n",
        "12"
       ]
      },
      {
       "output_type": "stream",
       "stream": "stdout",
       "text": [
        " Joseph Blatt\n",
        "13"
       ]
      },
      {
       "output_type": "stream",
       "stream": "stdout",
       "text": [
        " Tina Blythe\n",
        "14"
       ]
      },
      {
       "output_type": "stream",
       "stream": "stdout",
       "text": [
        " Candice Esguerra Bocala\n",
        "15"
       ]
      },
      {
       "output_type": "stream",
       "stream": "stdout",
       "text": [
        " Lisa M. Boes\n",
        "16"
       ]
      },
      {
       "output_type": "stream",
       "stream": "stdout",
       "text": [
        " Katherine C. Boles\n",
        "17"
       ]
      },
      {
       "output_type": "stream",
       "stream": "stdout",
       "text": [
        " Kathryn Parker Boudett\n",
        "18"
       ]
      },
      {
       "output_type": "stream",
       "stream": "stdout",
       "text": [
        " Jocelyn Bonnes Bowne\n",
        "19"
       ]
      },
      {
       "output_type": "stream",
       "stream": "stdout",
       "text": [
        " Karen Brennan\n",
        "20"
       ]
      },
      {
       "output_type": "stream",
       "stream": "stdout",
       "text": [
        " Ebony N. Bridwell-Mitchell\n",
        "21"
       ]
      },
      {
       "output_type": "stream",
       "stream": "stdout",
       "text": [
        " Gretchen Brion-Meisels\n",
        "22"
       ]
      },
      {
       "output_type": "stream",
       "stream": "stdout",
       "text": [
        " Mary Alexis Burkhauser\n",
        "23"
       ]
      },
      {
       "output_type": "stream",
       "stream": "stdout",
       "text": [
        " Eduardo Calil de Oliveira\n",
        "24"
       ]
      },
      {
       "output_type": "stream",
       "stream": "stdout",
       "text": [
        " Susan E. Carey\n",
        "25"
       ]
      },
      {
       "output_type": "stream",
       "stream": "stdout",
       "text": [
        " Courtney B. Cazden\n",
        "26"
       ]
      },
      {
       "output_type": "stream",
       "stream": "stdout",
       "text": [
        " Richard Chait\n",
        "27"
       ]
      },
      {
       "output_type": "stream",
       "stream": "stdout",
       "text": [
        " Si Chen\n",
        "28"
       ]
      },
      {
       "output_type": "stream",
       "stream": "stdout",
       "text": [
        " Xinkui Chen\n",
        "29"
       ]
      },
      {
       "output_type": "stream",
       "stream": "stdout",
       "text": [
        " Raj Chetty\n",
        "30"
       ]
      },
      {
       "output_type": "stream",
       "stream": "stdout",
       "text": [
        " Joanna A. Christodoulou\n",
        "31"
       ]
      },
      {
       "output_type": "stream",
       "stream": "stdout",
       "text": [
        " Elizabeth City\n",
        "32"
       ]
      },
      {
       "output_type": "stream",
       "stream": "stdout",
       "text": [
        " Edward Peter Clapp\n",
        "33"
       ]
      },
      {
       "output_type": "stream",
       "stream": "stdout",
       "text": [
        " Lee A. Coffin\n",
        "34"
       ]
      },
      {
       "output_type": "stream",
       "stream": "stdout",
       "text": [
        " David K. Cohen\n",
        "35"
       ]
      },
      {
       "output_type": "stream",
       "stream": "stdout",
       "text": [
        " Eduardo Ramon Contreras Jr\n",
        "36"
       ]
      },
      {
       "output_type": "stream",
       "stream": "stdout",
       "text": [
        " Megan Cotnam-Kappel\n",
        "37"
       ]
      },
      {
       "output_type": "stream",
       "stream": "stdout",
       "text": [
        " Rachel J Currie-Rubin\n",
        "38"
       ]
      },
      {
       "output_type": "stream",
       "stream": "stdout",
       "text": [
        " Christopher Dede\n",
        "39"
       ]
      },
      {
       "output_type": "stream",
       "stream": "stdout",
       "text": [
        " Bruno della Chiesa\n",
        "40"
       ]
      },
      {
       "output_type": "stream",
       "stream": "stdout",
       "text": [
        " David J. Deming\n",
        "41"
       ]
      },
      {
       "output_type": "stream",
       "stream": "stdout",
       "text": [
        " Eleanor Denny\n",
        "42"
       ]
      },
      {
       "output_type": "stream",
       "stream": "stdout",
       "text": [
        " David Dockterman\n",
        "43"
       ]
      },
      {
       "output_type": "stream",
       "stream": "stdout",
       "text": [
        " Sarah Dryden-Peterson\n",
        "44"
       ]
      },
      {
       "output_type": "stream",
       "stream": "stdout",
       "text": [
        " Eleanor R. Duckworth\n",
        "45"
       ]
      },
      {
       "output_type": "stream",
       "stream": "stdout",
       "text": [
        " Elizabeth Dawes Duraisingh\n",
        "46"
       ]
      },
      {
       "output_type": "stream",
       "stream": "stdout",
       "text": [
        " Susan E. Eaton\n",
        "47"
       ]
      },
      {
       "output_type": "stream",
       "stream": "stdout",
       "text": [
        " Hadas Eidelman\n",
        "48"
       ]
      },
      {
       "output_type": "stream",
       "stream": "stdout",
       "text": [
        " Aaliyah El-Amin\n",
        "49"
       ]
      },
      {
       "output_type": "stream",
       "stream": "stdout",
       "text": [
        " Catherine Elgin\n",
        "50"
       ]
      },
      {
       "output_type": "stream",
       "stream": "stdout",
       "text": [
        " Tracy Elizabeth\n",
        "51"
       ]
      },
      {
       "output_type": "stream",
       "stream": "stdout",
       "text": [
        " Richard Elmore\n",
        "52"
       ]
      },
      {
       "output_type": "stream",
       "stream": "stdout",
       "text": [
        " Charles K. Fadel\n",
        "53"
       ]
      },
      {
       "output_type": "stream",
       "stream": "stdout",
       "text": [
        " Beth Faller\n",
        "54"
       ]
      },
      {
       "output_type": "stream",
       "stream": "stdout",
       "text": [
        " Ronald Ferguson\n",
        "55"
       ]
      },
      {
       "output_type": "stream",
       "stream": "stdout",
       "text": [
        " Sarah Edith Fiarman\n",
        "56"
       ]
      },
      {
       "output_type": "stream",
       "stream": "stdout",
       "text": [
        " Kurt Fischer\n",
        "57"
       ]
      },
      {
       "output_type": "stream",
       "stream": "stdout",
       "text": [
        " Susan Fliss\n",
        "58"
       ]
      },
      {
       "output_type": "stream",
       "stream": "stdout",
       "text": [
        " Roland Fryer\n",
        "59"
       ]
      },
      {
       "output_type": "stream",
       "stream": "stdout",
       "text": [
        " Jon Fullerton\n",
        "60"
       ]
      },
      {
       "output_type": "stream",
       "stream": "stdout",
       "text": [
        " Archon Fung\n",
        "61"
       ]
      },
      {
       "output_type": "stream",
       "stream": "stdout",
       "text": [
        " Nadine Gaab\n",
        "62"
       ]
      },
      {
       "output_type": "stream",
       "stream": "stdout",
       "text": [
        " Chris Gabrieli\n",
        "63"
       ]
      },
      {
       "output_type": "stream",
       "stream": "stdout",
       "text": [
        " John Gabrieli\n",
        "64"
       ]
      },
      {
       "output_type": "stream",
       "stream": "stdout",
       "text": [
        " Marshall Ganz\n",
        "65"
       ]
      },
      {
       "output_type": "stream",
       "stream": "stdout",
       "text": [
        " Howard Gardner\n",
        "66"
       ]
      },
      {
       "output_type": "stream",
       "stream": "stdout",
       "text": [
        " Deborah Garson\n",
        "67"
       ]
      },
      {
       "output_type": "stream",
       "stream": "stdout",
       "text": [
        " Hunter Gehlbach\n",
        "68"
       ]
      },
      {
       "output_type": "stream",
       "stream": "stdout",
       "text": [
        " Nathan Glazer\n",
        "69"
       ]
      },
      {
       "output_type": "stream",
       "stream": "stdout",
       "text": [
        " Roberto G. Gonzales\n",
        "70"
       ]
      },
      {
       "output_type": "stream",
       "stream": "stdout",
       "text": [
        " Joshua S. Goodman\n",
        "71"
       ]
      },
      {
       "output_type": "stream",
       "stream": "stdout",
       "text": [
        " Robert Goodman\n",
        "72"
       ]
      },
      {
       "output_type": "stream",
       "stream": "stdout",
       "text": [
        " Adria D. Goodson\n",
        "73"
       ]
      },
      {
       "output_type": "stream",
       "stream": "stdout",
       "text": [
        " Emmanuele Goulon\n",
        "74"
       ]
      },
      {
       "output_type": "stream",
       "stream": "stdout",
       "text": [
        " Patricia Albjerg Graham\n",
        "75"
       ]
      },
      {
       "output_type": "stream",
       "stream": "stdout",
       "text": [
        " Daren Graves\n",
        "76"
       ]
      },
      {
       "output_type": "stream",
       "stream": "stdout",
       "text": [
        " Tina Grotzer\n",
        "77"
       ]
      },
      {
       "output_type": "stream",
       "stream": "stdout",
       "text": [
        " Betsy McAlister Groves\n",
        "78"
       ]
      },
      {
       "output_type": "stream",
       "stream": "stdout",
       "text": [
        " Gregory M. Gunn\n",
        "79"
       ]
      },
      {
       "output_type": "stream",
       "stream": "stdout",
       "text": [
        " Wendy S. Harbour\n",
        "80"
       ]
      },
      {
       "output_type": "stream",
       "stream": "stdout",
       "text": [
        " Houman Harouni\n",
        "81"
       ]
      },
      {
       "output_type": "stream",
       "stream": "stdout",
       "text": [
        " Paul L. Harris\n",
        "82"
       ]
      },
      {
       "output_type": "stream",
       "stream": "stdout",
       "text": [
        " Helen Haste\n",
        "83"
       ]
      },
      {
       "output_type": "stream",
       "stream": "stdout",
       "text": [
        " Thomas Hehir\n",
        "84"
       ]
      },
      {
       "output_type": "stream",
       "stream": "stdout",
       "text": [
        " Deborah Helsing\n",
        "85"
       ]
      },
      {
       "output_type": "stream",
       "stream": "stdout",
       "text": [
        " Frederick M. Hess\n",
        "86"
       ]
      },
      {
       "output_type": "stream",
       "stream": "stdout",
       "text": [
        " Monica C. Higgins\n",
        "87"
       ]
      },
      {
       "output_type": "stream",
       "stream": "stdout",
       "text": [
        " Heather C. Hill\n",
        "88"
       ]
      },
      {
       "output_type": "stream",
       "stream": "stdout",
       "text": [
        " Nancy E. Hill\n",
        "89"
       ]
      },
      {
       "output_type": "stream",
       "stream": "stdout",
       "text": [
        " Christina Hinton\n",
        "90"
       ]
      },
      {
       "output_type": "stream",
       "stream": "stdout",
       "text": [
        " Andrew Ho\n",
        "91"
       ]
      },
      {
       "output_type": "stream",
       "stream": "stdout",
       "text": [
        " Jennifer L. Hochschild\n",
        "92"
       ]
      },
      {
       "output_type": "stream",
       "stream": "stdout",
       "text": [
        " Nancy Hoffman\n",
        "93"
       ]
      },
      {
       "output_type": "stream",
       "stream": "stdout",
       "text": [
        " Dennis Henry Holtschneider\n",
        "94"
       ]
      },
      {
       "output_type": "stream",
       "stream": "stdout",
       "text": [
        " James P. Honan\n",
        "95"
       ]
      },
      {
       "output_type": "stream",
       "stream": "stdout",
       "text": [
        " Haiyan Hua\n",
        "96"
       ]
      },
      {
       "output_type": "stream",
       "stream": "stdout",
       "text": [
        " Robert W. Iuliano\n",
        "97"
       ]
      },
      {
       "output_type": "stream",
       "stream": "stdout",
       "text": [
        " Vicki A. Jacobs\n",
        "98"
       ]
      },
      {
       "output_type": "stream",
       "stream": "stdout",
       "text": [
        " Carrie James\n",
        "99"
       ]
      },
      {
       "output_type": "stream",
       "stream": "stdout",
       "text": [
        " Deborah Jewell-Sherman\n",
        "100"
       ]
      },
      {
       "output_type": "stream",
       "stream": "stdout",
       "text": [
        " Susan Moore Johnson\n",
        "101"
       ]
      },
      {
       "output_type": "stream",
       "stream": "stdout",
       "text": [
        " Stephanie M. Jones\n",
        "102"
       ]
      },
      {
       "output_type": "stream",
       "stream": "stdout",
       "text": [
        " David Kahle\n",
        "103"
       ]
      },
      {
       "output_type": "stream",
       "stream": "stdout",
       "text": [
        " Joseph P. Kalt\n",
        "104"
       ]
      },
      {
       "output_type": "stream",
       "stream": "stdout",
       "text": [
        " Thomas Kane\n",
        "105"
       ]
      },
      {
       "output_type": "stream",
       "stream": "stdout",
       "text": [
        " Robert Kegan\n",
        "106"
       ]
      },
      {
       "output_type": "stream",
       "stream": "stdout",
       "text": [
        " Shabnam Syed Khan\n",
        "107"
       ]
      },
      {
       "output_type": "stream",
       "stream": "stdout",
       "text": [
        " Tarun Khanna\n",
        "108"
       ]
      },
      {
       "output_type": "stream",
       "stream": "stdout",
       "text": [
        " Ha Yeon Kim\n",
        "109"
       ]
      },
      {
       "output_type": "stream",
       "stream": "stdout",
       "text": [
        " James S. Kim\n",
        "110"
       ]
      },
      {
       "output_type": "stream",
       "stream": "stdout",
       "text": [
        " Josephine M. Kim\n",
        "111"
       ]
      },
      {
       "output_type": "stream",
       "stream": "stdout",
       "text": [
        " Daniel Koretz\n",
        "112"
       ]
      },
      {
       "output_type": "stream",
       "stream": "stdout",
       "text": [
        " Lisa Laskow Lahey\n",
        "113"
       ]
      },
      {
       "output_type": "stream",
       "stream": "stdout",
       "text": [
        " Jonathan Lane\n",
        "114"
       ]
      },
      {
       "output_type": "stream",
       "stream": "stdout",
       "text": [
        " Charles William McLeod Lang\n",
        "115"
       ]
      },
      {
       "output_type": "stream",
       "stream": "stdout",
       "text": [
        " Sara Lawrence-Lightfoot\n",
        "116"
       ]
      },
      {
       "output_type": "stream",
       "stream": "stdout",
       "text": [
        " Chad Leith\n",
        "117"
       ]
      },
      {
       "output_type": "stream",
       "stream": "stdout",
       "text": [
        " Holly Lem\n",
        "118"
       ]
      },
      {
       "output_type": "stream",
       "stream": "stdout",
       "text": [
        " Charles Lerner\n",
        "119"
       ]
      },
      {
       "output_type": "stream",
       "stream": "stdout",
       "text": [
        " Nonie K. Lesaux\n",
        "120"
       ]
      },
      {
       "output_type": "stream",
       "stream": "stdout",
       "text": [
        " Robert A. LeVine\n",
        "121"
       ]
      },
      {
       "output_type": "stream",
       "stream": "stdout",
       "text": [
        " Meira Levinson\n",
        "122"
       ]
      },
      {
       "output_type": "stream",
       "stream": "stdout",
       "text": [
        " Richard J. Light\n",
        "123"
       ]
      },
      {
       "output_type": "stream",
       "stream": "stdout",
       "text": [
        " Jed Frank Lippard\n",
        "124"
       ]
      },
      {
       "output_type": "stream",
       "stream": "stdout",
       "text": [
        " Zhi Liu\n",
        "125"
       ]
      },
      {
       "output_type": "stream",
       "stream": "stdout",
       "text": [
        " Bridget Terry Long\n",
        "126"
       ]
      },
      {
       "output_type": "stream",
       "stream": "stdout",
       "text": [
        " Gigi Luk\n",
        "127"
       ]
      },
      {
       "output_type": "stream",
       "stream": "stdout",
       "text": [
        " Stephen Mahoney\n",
        "128"
       ]
      },
      {
       "output_type": "stream",
       "stream": "stdout",
       "text": [
        " David Malan\n",
        "129"
       ]
      },
      {
       "output_type": "stream",
       "stream": "stdout",
       "text": [
        " Karen L. Mapp\n",
        "130"
       ]
      },
      {
       "output_type": "stream",
       "stream": "stdout",
       "text": [
        " Pamela A. Mason\n",
        "131"
       ]
      },
      {
       "output_type": "stream",
       "stream": "stdout",
       "text": [
        " Kathleen McCartney\n",
        "132"
       ]
      },
      {
       "output_type": "stream",
       "stream": "stdout",
       "text": [
        " Dana Charles McCoy\n",
        "133"
       ]
      },
      {
       "output_type": "stream",
       "stream": "stdout",
       "text": [
        " Metta Karuna McGarvey\n",
        "134"
       ]
      },
      {
       "output_type": "stream",
       "stream": "stdout",
       "text": [
        " Noel McGinn\n",
        "135"
       ]
      },
      {
       "output_type": "stream",
       "stream": "stdout",
       "text": [
        " Eileen M. McGowan\n",
        "136"
       ]
      },
      {
       "output_type": "stream",
       "stream": "stdout",
       "text": [
        " Judith Block McLaughlin\n",
        "137"
       ]
      },
      {
       "output_type": "stream",
       "stream": "stdout",
       "text": [
        " Jal Mehta\n",
        "138"
       ]
      },
      {
       "output_type": "stream",
       "stream": "stdout",
       "text": [
        " Lynn Meltzer\n",
        "139"
       ]
      },
      {
       "output_type": "stream",
       "stream": "stdout",
       "text": [
        " Louis Menand\n",
        "140"
       ]
      },
      {
       "output_type": "stream",
       "stream": "stdout",
       "text": [
        " Katherine K. Merseth\n",
        "141"
       ]
      },
      {
       "output_type": "stream",
       "stream": "stdout",
       "text": [
        " Lisa Messina\n",
        "142"
       ]
      },
      {
       "output_type": "stream",
       "stream": "stdout",
       "text": [
        " Matthew Miller\n",
        "143"
       ]
      },
      {
       "output_type": "stream",
       "stream": "stdout",
       "text": [
        " Martha L. Minow\n",
        "144"
       ]
      },
      {
       "output_type": "stream",
       "stream": "stdout",
       "text": [
        " MAK Mitchell\n",
        "145"
       ]
      },
      {
       "output_type": "stream",
       "stream": "stdout",
       "text": [
        " Maria Mody\n",
        "146"
       ]
      },
      {
       "output_type": "stream",
       "stream": "stdout",
       "text": [
        " Mark Moore\n",
        "147"
       ]
      },
      {
       "output_type": "stream",
       "stream": "stdout",
       "text": [
        " Adrienne Marie Mundy-Shephard\n",
        "148"
       ]
      },
      {
       "output_type": "stream",
       "stream": "stdout",
       "text": [
        " Richard J. Murnane\n",
        "149"
       ]
      },
      {
       "output_type": "stream",
       "stream": "stdout",
       "text": [
        " Jerome T. Murphy\n",
        "150"
       ]
      },
      {
       "output_type": "stream",
       "stream": "stdout",
       "text": [
        " Linda Nathan\n",
        "151"
       ]
      },
      {
       "output_type": "stream",
       "stream": "stdout",
       "text": [
        " Charles Nelson, III\n",
        "152"
       ]
      },
      {
       "output_type": "stream",
       "stream": "stdout",
       "text": [
        " Elisa New\n",
        "153"
       ]
      },
      {
       "output_type": "stream",
       "stream": "stdout",
       "text": [
        " Nancy Olivia Nordmann\n",
        "154"
       ]
      },
      {
       "output_type": "stream",
       "stream": "stdout",
       "text": [
        " Dennis Keith Norman\n",
        "155"
       ]
      },
      {
       "output_type": "stream",
       "stream": "stdout",
       "text": [
        " Mary Grassa O'Neill\n",
        "156"
       ]
      },
      {
       "output_type": "stream",
       "stream": "stdout",
       "text": [
        " Ogi Ogas\n",
        "157"
       ]
      },
      {
       "output_type": "stream",
       "stream": "stdout",
       "text": [
        " Victor Pereira, Jr.\n",
        "158"
       ]
      },
      {
       "output_type": "stream",
       "stream": "stdout",
       "text": [
        " David Perkins\n",
        "159"
       ]
      },
      {
       "output_type": "stream",
       "stream": "stdout",
       "text": [
        " Robert S. Peterkin\n",
        "160"
       ]
      },
      {
       "output_type": "stream",
       "stream": "stdout",
       "text": [
        " Chester M. Pierce\n",
        "161"
       ]
      },
      {
       "output_type": "stream",
       "stream": "stdout",
       "text": [
        " Todd Pittinsky\n",
        "162"
       ]
      },
      {
       "output_type": "stream",
       "stream": "stdout",
       "text": [
        " Gabrielle Rappolt-Schlichtmann\n",
        "163"
       ]
      },
      {
       "output_type": "stream",
       "stream": "stdout",
       "text": [
        " Christine A. Reich\n",
        "164"
       ]
      },
      {
       "output_type": "stream",
       "stream": "stdout",
       "text": [
        " Justin Reich\n",
        "165"
       ]
      },
      {
       "output_type": "stream",
       "stream": "stdout",
       "text": [
        " Fernando Reimers\n",
        "166"
       ]
      },
      {
       "output_type": "stream",
       "stream": "stdout",
       "text": [
        " Julie A. Reuben\n",
        "167"
       ]
      },
      {
       "output_type": "stream",
       "stream": "stdout",
       "text": [
        " Paul Reville\n",
        "168"
       ]
      },
      {
       "output_type": "stream",
       "stream": "stdout",
       "text": [
        " Noel Reyes\n",
        "169"
       ]
      },
      {
       "output_type": "stream",
       "stream": "stdout",
       "text": [
        " John Richards\n",
        "170"
       ]
      },
      {
       "output_type": "stream",
       "stream": "stdout",
       "text": [
        " Saiyid Abu Turab Rizvi\n",
        "171"
       ]
      },
      {
       "output_type": "stream",
       "stream": "stdout",
       "text": [
        " Lolly Robinson\n",
        "172"
       ]
      },
      {
       "output_type": "stream",
       "stream": "stdout",
       "text": [
        " Vanessa Rodriguez\n",
        "173"
       ]
      },
      {
       "output_type": "stream",
       "stream": "stdout",
       "text": [
        " David H. Rose\n",
        "174"
       ]
      },
      {
       "output_type": "stream",
       "stream": "stdout",
       "text": [
        " L. Todd Rose\n",
        "175"
       ]
      },
      {
       "output_type": "stream",
       "stream": "stdout",
       "text": [
        " Richard Rothstein\n",
        "176"
       ]
      },
      {
       "output_type": "stream",
       "stream": "stdout",
       "text": [
        " Meredith L. Rowe\n",
        "177"
       ]
      },
      {
       "output_type": "stream",
       "stream": "stdout",
       "text": [
        " Noah A. Rubin\n",
        "178"
       ]
      },
      {
       "output_type": "stream",
       "stream": "stdout",
       "text": [
        " James E. Ryan\n",
        "179"
       ]
      },
      {
       "output_type": "stream",
       "stream": "stdout",
       "text": [
        " Pasi Sahlberg\n",
        "180"
       ]
      },
      {
       "output_type": "stream",
       "stream": "stdout",
       "text": [
        " Mandy Savitz-Romer\n",
        "181"
       ]
      },
      {
       "output_type": "stream",
       "stream": "stdout",
       "text": [
        " Laura A. Schifter\n",
        "182"
       ]
      },
      {
       "output_type": "stream",
       "stream": "stdout",
       "text": [
        " Rhoda Schneider\n",
        "183"
       ]
      },
      {
       "output_type": "stream",
       "stream": "stdout",
       "text": [
        " Lisa Schneier\n",
        "184"
       ]
      },
      {
       "output_type": "stream",
       "stream": "stdout",
       "text": [
        " Matthew Hillel Schneps\n",
        "185"
       ]
      },
      {
       "output_type": "stream",
       "stream": "stdout",
       "text": [
        " Judah L. Schwartz\n",
        "186"
       ]
      },
      {
       "output_type": "stream",
       "stream": "stdout",
       "text": [
        " Robert B. Schwartz\n",
        "187"
       ]
      },
      {
       "output_type": "stream",
       "stream": "stdout",
       "text": [
        " Steven Seidel\n",
        "188"
       ]
      },
      {
       "output_type": "stream",
       "stream": "stdout",
       "text": [
        " Scott C. Seider\n",
        "189"
       ]
      },
      {
       "output_type": "stream",
       "stream": "stdout",
       "text": [
        " Robert L. Selman\n",
        "190"
       ]
      },
      {
       "output_type": "stream",
       "stream": "stdout",
       "text": [
        " Eric Shed\n",
        "191"
       ]
      },
      {
       "output_type": "stream",
       "stream": "stdout",
       "text": [
        " Margaret A. Sheridan\n",
        "192"
       ]
      },
      {
       "output_type": "stream",
       "stream": "stdout",
       "text": [
        " Jack P. Shonkoff, M.D.\n",
        "193"
       ]
      },
      {
       "output_type": "stream",
       "stream": "stdout",
       "text": [
        " Beth A. Simpson\n",
        "194"
       ]
      },
      {
       "output_type": "stream",
       "stream": "stdout",
       "text": [
        " Karl Douglas Sineath\n",
        "195"
       ]
      },
      {
       "output_type": "stream",
       "stream": "stdout",
       "text": [
        " Judith D. Singer\n",
        "196"
       ]
      },
      {
       "output_type": "stream",
       "stream": "stdout",
       "text": [
        " Jonathan Slater\n",
        "197"
       ]
      },
      {
       "output_type": "stream",
       "stream": "stdout",
       "text": [
        " Mike Smith\n",
        "198"
       ]
      },
      {
       "output_type": "stream",
       "stream": "stdout",
       "text": [
        " Catherine Snow\n",
        "199"
       ]
      },
      {
       "output_type": "stream",
       "stream": "stdout",
       "text": [
        " Nancy Sommers\n",
        "200"
       ]
      },
      {
       "output_type": "stream",
       "stream": "stdout",
       "text": [
        " Yingquan Song\n",
        "201"
       ]
      },
      {
       "output_type": "stream",
       "stream": "stdout",
       "text": [
        " Elizabeth Spelke\n",
        "202"
       ]
      },
      {
       "output_type": "stream",
       "stream": "stdout",
       "text": [
        " Jon R. Star\n",
        "203"
       ]
      },
      {
       "output_type": "stream",
       "stream": "stdout",
       "text": [
        " Eric Taylor\n",
        "204"
       ]
      },
      {
       "output_type": "stream",
       "stream": "stdout",
       "text": [
        " Lee Teitel\n",
        "205"
       ]
      },
      {
       "output_type": "stream",
       "stream": "stdout",
       "text": [
        " Meredith Thompson\n",
        "206"
       ]
      },
      {
       "output_type": "stream",
       "stream": "stdout",
       "text": [
        " Shari Tishman\n",
        "207"
       ]
      },
      {
       "output_type": "stream",
       "stream": "stdout",
       "text": [
        " Terrence Tivnan\n",
        "208"
       ]
      },
      {
       "output_type": "stream",
       "stream": "stdout",
       "text": [
        " Barbara Treacy\n",
        "209"
       ]
      },
      {
       "output_type": "stream",
       "stream": "stdout",
       "text": [
        " Kimberly A. Truong\n",
        "210"
       ]
      },
      {
       "output_type": "stream",
       "stream": "stdout",
       "text": [
        " Michael L. Tushman\n",
        "211"
       ]
      },
      {
       "output_type": "stream",
       "stream": "stdout",
       "text": [
        " Michael Shane Tutwiler\n",
        "212"
       ]
      },
      {
       "output_type": "stream",
       "stream": "stdout",
       "text": [
        " Paola Uccelli\n",
        "213"
       ]
      },
      {
       "output_type": "stream",
       "stream": "stdout",
       "text": [
        " David Urion\n",
        "214"
       ]
      },
      {
       "output_type": "stream",
       "stream": "stdout",
       "text": [
        " Marcus Aaron McKinley Walker\n",
        "215"
       ]
      },
      {
       "output_type": "stream",
       "stream": "stdout",
       "text": [
        " Minhong Wang\n",
        "216"
       ]
      },
      {
       "output_type": "stream",
       "stream": "stdout",
       "text": [
        " Natasha Kumar Warikoo\n",
        "217"
       ]
      },
      {
       "output_type": "stream",
       "stream": "stdout",
       "text": [
        " Christina Weiland\n",
        "218"
       ]
      },
      {
       "output_type": "stream",
       "stream": "stdout",
       "text": [
        " Richard Weissbourd\n",
        "219"
       ]
      },
      {
       "output_type": "stream",
       "stream": "stdout",
       "text": [
        " Martin West\n",
        "220"
       ]
      },
      {
       "output_type": "stream",
       "stream": "stdout",
       "text": [
        " Dean Whitla\n",
        "221"
       ]
      },
      {
       "output_type": "stream",
       "stream": "stdout",
       "text": [
        " John B. Willett\n",
        "222"
       ]
      },
      {
       "output_type": "stream",
       "stream": "stdout",
       "text": [
        " Charles V. Willie\n"
       ]
      }
     ],
     "prompt_number": 86
    },
    {
     "cell_type": "code",
     "collapsed": false,
     "input": [
      "\"\"\"The entire text that encompasses the degree is collected by once again creating a soup object for every single professor\n",
      "page. This array, prof_degree, containt string entries that describe the year, degree and the grad school.\"\"\""
     ],
     "language": "python",
     "metadata": {},
     "outputs": [],
     "prompt_number": 39
    },
    {
     "cell_type": "code",
     "collapsed": false,
     "input": [
      "grad_dept = []\n",
      "for i in range(len(prof_names)):\n",
      "    grad_dept.append(name1[1])"
     ],
     "language": "python",
     "metadata": {},
     "outputs": [],
     "prompt_number": 173
    },
    {
     "cell_type": "code",
     "collapsed": false,
     "input": [
      "len(grad_dept)"
     ],
     "language": "python",
     "metadata": {},
     "outputs": [
      {
       "metadata": {},
       "output_type": "pyout",
       "prompt_number": 176,
       "text": [
        "223"
       ]
      }
     ],
     "prompt_number": 176
    },
    {
     "cell_type": "code",
     "collapsed": false,
     "input": [
      "for i in range(len(prof_urls)):\n",
      "    temp_soup = BeautifulSoup(urllib2.urlopen(prof_urls[i]).read())\n",
      "    a1 = temp_soup.findAll('div', attrs={'class': 'detail'})\n",
      "    a1 = str(a1)\n",
      "    a2 = a1.split(\"span\")\n",
      "    a2 = a2[2]\n",
      "    a2 = re.sub('<.*?>', '', str(a2))\n",
      "    a2 = re.sub('\\n', '', str(a2))\n",
      "    if a2[1:][:-1] == '':\n",
      "        prof_degree.append(\"NO INFO AVAILABLE\")\n",
      "    else:\n",
      "        prof_degree.append(a2[1:][:-1])\n",
      "    print i, prof_degree[i]\n",
      "    "
     ],
     "language": "python",
     "metadata": {},
     "outputs": [
      {
       "output_type": "stream",
       "stream": "stdout",
       "text": [
        "0 Ph.D., Massachusetts Institute of Technology, (1999)\n",
        "1"
       ]
      },
      {
       "output_type": "stream",
       "stream": "stdout",
       "text": [
        " Ph.D., Arizona State University, (2013)\n",
        "2"
       ]
      },
      {
       "output_type": "stream",
       "stream": "stdout",
       "text": [
        " M.A., Simmons College, (1995)\n",
        "3"
       ]
      },
      {
       "output_type": "stream",
       "stream": "stdout",
       "text": [
        " NO INFO AVAILABLE\n",
        "4"
       ]
      },
      {
       "output_type": "stream",
       "stream": "stdout",
       "text": [
        " Ed.D., Harvard University, (2006)\n",
        "5"
       ]
      },
      {
       "output_type": "stream",
       "stream": "stdout",
       "text": [
        " NO INFO AVAILABLE\n",
        "6"
       ]
      },
      {
       "output_type": "stream",
       "stream": "stdout",
       "text": [
        " NO INFO AVAILABLE\n",
        "7"
       ]
      },
      {
       "output_type": "stream",
       "stream": "stdout",
       "text": [
        " Ed.D., Harvard University, (1993)\n",
        "8"
       ]
      },
      {
       "output_type": "stream",
       "stream": "stdout",
       "text": [
        " Ph.D., University of Maryland, (2003)\n",
        "9"
       ]
      },
      {
       "output_type": "stream",
       "stream": "stdout",
       "text": [
        " M.D., Case Western Reserve University, (1971)\n",
        "10"
       ]
      },
      {
       "output_type": "stream",
       "stream": "stdout",
       "text": [
        " Ed.D., Harvard University, (1986)\n",
        "11"
       ]
      },
      {
       "output_type": "stream",
       "stream": "stdout",
       "text": [
        " Ed.M., Harvard University, (1990)\n",
        "12"
       ]
      },
      {
       "output_type": "stream",
       "stream": "stdout",
       "text": [
        " Ed.M., Harvard University, (1977)\n",
        "13"
       ]
      },
      {
       "output_type": "stream",
       "stream": "stdout",
       "text": [
        " Ed.M., Harvard University, (2002)\n",
        "14"
       ]
      },
      {
       "output_type": "stream",
       "stream": "stdout",
       "text": [
        " Ed.D., Harvard University, (2014);\u00a0M.A.T., American University, (2004)\n",
        "15"
       ]
      },
      {
       "output_type": "stream",
       "stream": "stdout",
       "text": [
        " Ed.D., Harvard University, (2006)\n",
        "16"
       ]
      },
      {
       "output_type": "stream",
       "stream": "stdout",
       "text": [
        " Ed.D., Harvard University, (1991)\n",
        "17"
       ]
      },
      {
       "output_type": "stream",
       "stream": "stdout",
       "text": [
        " Ph.D., Harvard University, (1998)\n",
        "18"
       ]
      },
      {
       "output_type": "stream",
       "stream": "stdout",
       "text": [
        " NO INFO AVAILABLE\n",
        "19"
       ]
      },
      {
       "output_type": "stream",
       "stream": "stdout",
       "text": [
        " Ph.D., Massachusetts Institute of Technology, (2012);\u00a0M.A., The University of British Columbia, (2007);\u00a0B.Ed., The University of British Columbia, (2005);\u00a0B.S., The University of British Columbia, (2003)\n",
        "20"
       ]
      },
      {
       "output_type": "stream",
       "stream": "stdout",
       "text": [
        " Ph.D., New York University, (2008);\u00a0M.P.P., Harvard University, (1999);\u00a0B.A., Cornell University, (1996)\n",
        "21"
       ]
      },
      {
       "output_type": "stream",
       "stream": "stdout",
       "text": [
        " Ed.D., Harvard Graduate School of Education, (2013);\u00a0Ed.M., Harvard Graduate of School, (2011);\u00a0M.A.T., Johns Hopkins University, (2001)\n",
        "22"
       ]
      },
      {
       "output_type": "stream",
       "stream": "stdout",
       "text": [
        " M.A.T., Pace University, (2007)\n",
        "23"
       ]
      },
      {
       "output_type": "stream",
       "stream": "stdout",
       "text": [
        " NO INFO AVAILABLE\n",
        "24"
       ]
      },
      {
       "output_type": "stream",
       "stream": "stdout",
       "text": [
        " Ph.D., Harvard University, (1971)\n",
        "25"
       ]
      },
      {
       "output_type": "stream",
       "stream": "stdout",
       "text": [
        " Ed.D., Harvard University, (1965)\n",
        "26"
       ]
      },
      {
       "output_type": "stream",
       "stream": "stdout",
       "text": [
        " Ph.D., University of Wisconsin, (1972)\n",
        "27"
       ]
      },
      {
       "output_type": "stream",
       "stream": "stdout",
       "text": [
        " NO INFO AVAILABLE\n",
        "28"
       ]
      },
      {
       "output_type": "stream",
       "stream": "stdout",
       "text": [
        " NO INFO AVAILABLE\n",
        "29"
       ]
      },
      {
       "output_type": "stream",
       "stream": "stdout",
       "text": [
        " Ph.D., Harvard University, (2003)\n",
        "30"
       ]
      },
      {
       "output_type": "stream",
       "stream": "stdout",
       "text": [
        " Ed.D., Harvard University, (2010)\n",
        "31"
       ]
      },
      {
       "output_type": "stream",
       "stream": "stdout",
       "text": [
        " Ed.D., Harvard University, (2007)\n",
        "32"
       ]
      },
      {
       "output_type": "stream",
       "stream": "stdout",
       "text": [
        " Ed.D., Harvard University, (2014);\u00a0Ed.M., Harvard University, (2007)\n",
        "33"
       ]
      },
      {
       "output_type": "stream",
       "stream": "stdout",
       "text": [
        " Ed.M., Harvard University, (1990)\n",
        "34"
       ]
      },
      {
       "output_type": "stream",
       "stream": "stdout",
       "text": [
        " NO INFO AVAILABLE\n",
        "35"
       ]
      },
      {
       "output_type": "stream",
       "stream": "stdout",
       "text": [
        " Ed.M., Harvard University, (2009)\n",
        "36"
       ]
      },
      {
       "output_type": "stream",
       "stream": "stdout",
       "text": [
        " Ph.D., University of Ottawa, (2014)\n",
        "37"
       ]
      },
      {
       "output_type": "stream",
       "stream": "stdout",
       "text": [
        " Ed.D., Harvard University, (2012)\n",
        "38"
       ]
      },
      {
       "output_type": "stream",
       "stream": "stdout",
       "text": [
        " Ed.D., University of Massachusetts, Amherst, (1972)\n",
        "39"
       ]
      },
      {
       "output_type": "stream",
       "stream": "stdout",
       "text": [
        " NO INFO AVAILABLE\n",
        "40"
       ]
      },
      {
       "output_type": "stream",
       "stream": "stdout",
       "text": [
        " Ph.D., Harvard University, (2010)\n",
        "41"
       ]
      },
      {
       "output_type": "stream",
       "stream": "stdout",
       "text": [
        " NO INFO AVAILABLE\n",
        "42"
       ]
      },
      {
       "output_type": "stream",
       "stream": "stdout",
       "text": [
        " Ed.D., Harvard University, (1988)\n",
        "43"
       ]
      },
      {
       "output_type": "stream",
       "stream": "stdout",
       "text": [
        " Ed.D., Harvard University, (2009);\u00a0M.A., Tufts University, (2000);\u00a0M.Phil., University of Cape Town, (2000)\n",
        "44"
       ]
      },
      {
       "output_type": "stream",
       "stream": "stdout",
       "text": [
        " Ph.D., Universit\u00e9 de Gen\u00e8ve, (1977)\n",
        "45"
       ]
      },
      {
       "output_type": "stream",
       "stream": "stdout",
       "text": [
        " Ed.D., Harvard University, (2012)\n",
        "46"
       ]
      },
      {
       "output_type": "stream",
       "stream": "stdout",
       "text": [
        " Ed.D., Harvard University, (1999)\n",
        "47"
       ]
      },
      {
       "output_type": "stream",
       "stream": "stdout",
       "text": [
        " NO INFO AVAILABLE\n",
        "48"
       ]
      },
      {
       "output_type": "stream",
       "stream": "stdout",
       "text": [
        " Ed.M., Harvard University\n",
        "49"
       ]
      },
      {
       "output_type": "stream",
       "stream": "stdout",
       "text": [
        " Ph.D., Brandeis University, (1975)\n",
        "50"
       ]
      },
      {
       "output_type": "stream",
       "stream": "stdout",
       "text": [
        " Ed.M., Harvard University\n",
        "51"
       ]
      },
      {
       "output_type": "stream",
       "stream": "stdout",
       "text": [
        " Ed.D., Harvard University, (1976)\n",
        "52"
       ]
      },
      {
       "output_type": "stream",
       "stream": "stdout",
       "text": [
        " NO INFO AVAILABLE\n",
        "53"
       ]
      },
      {
       "output_type": "stream",
       "stream": "stdout",
       "text": [
        " Ed.D., Harvard University, (2014);\u00a0Ed.M., Harvard University, (2007)\n",
        "54"
       ]
      },
      {
       "output_type": "stream",
       "stream": "stdout",
       "text": [
        " Ph.D., Massachusetts Institute of Technology, (1981)\n",
        "55"
       ]
      },
      {
       "output_type": "stream",
       "stream": "stdout",
       "text": [
        " NO INFO AVAILABLE\n",
        "56"
       ]
      },
      {
       "output_type": "stream",
       "stream": "stdout",
       "text": [
        " Ph.D., Harvard University, (1971)\n",
        "57"
       ]
      },
      {
       "output_type": "stream",
       "stream": "stdout",
       "text": [
        " Ph.D., University of Maine, (2007)\n",
        "58"
       ]
      },
      {
       "output_type": "stream",
       "stream": "stdout",
       "text": [
        " Ph.D., The Pennsylvania State University, (2002)\n",
        "59"
       ]
      },
      {
       "output_type": "stream",
       "stream": "stdout",
       "text": [
        " Ph.D., Harvard University\n",
        "60"
       ]
      },
      {
       "output_type": "stream",
       "stream": "stdout",
       "text": [
        " NO INFO AVAILABLE\n",
        "61"
       ]
      },
      {
       "output_type": "stream",
       "stream": "stdout",
       "text": [
        " Ph.D., University of Z\u00fcrich, Switzerland, (2004)\n",
        "62"
       ]
      },
      {
       "output_type": "stream",
       "stream": "stdout",
       "text": [
        " A.B., , (1981)\n",
        "63"
       ]
      },
      {
       "output_type": "stream",
       "stream": "stdout",
       "text": [
        " Ph.D., Massachusetts Institute of Technology, (1987)\n",
        "64"
       ]
      },
      {
       "output_type": "stream",
       "stream": "stdout",
       "text": [
        " Ph.D., Harvard University, (2000)\n",
        "65"
       ]
      },
      {
       "output_type": "stream",
       "stream": "stdout",
       "text": [
        " Ph.D., Harvard University, (1971)\n",
        "66"
       ]
      },
      {
       "output_type": "stream",
       "stream": "stdout",
       "text": [
        " Ed.M., Harvard University\n",
        "67"
       ]
      },
      {
       "output_type": "stream",
       "stream": "stdout",
       "text": [
        " Ph.D., Stanford University, (2004)\n",
        "68"
       ]
      },
      {
       "output_type": "stream",
       "stream": "stdout",
       "text": [
        " Ph.D., Columbia University, (1962)\n",
        "69"
       ]
      },
      {
       "output_type": "stream",
       "stream": "stdout",
       "text": [
        " Ph.D., University of California, (2008)\n",
        "70"
       ]
      },
      {
       "output_type": "stream",
       "stream": "stdout",
       "text": [
        " NO INFO AVAILABLE\n",
        "71"
       ]
      },
      {
       "output_type": "stream",
       "stream": "stdout",
       "text": [
        " Ed.D., Harvard University, (1983)\n",
        "72"
       ]
      },
      {
       "output_type": "stream",
       "stream": "stdout",
       "text": [
        " Ph.D., Boston College, (2006)\n",
        "73"
       ]
      },
      {
       "output_type": "stream",
       "stream": "stdout",
       "text": [
        " NO INFO AVAILABLE\n",
        "74"
       ]
      },
      {
       "output_type": "stream",
       "stream": "stdout",
       "text": [
        " Ph.D., Columbia University, (1964)\n",
        "75"
       ]
      },
      {
       "output_type": "stream",
       "stream": "stdout",
       "text": [
        " Ed.D., Harvard University, (2006)\n",
        "76"
       ]
      },
      {
       "output_type": "stream",
       "stream": "stdout",
       "text": [
        " Ed.D., Harvard University, (1993);\u00a0Ed.M., Harvard University, (1985)\n",
        "77"
       ]
      },
      {
       "output_type": "stream",
       "stream": "stdout",
       "text": [
        " M.S.W., Boston University, (1975)\n",
        "78"
       ]
      },
      {
       "output_type": "stream",
       "stream": "stdout",
       "text": [
        " NO INFO AVAILABLE\n",
        "79"
       ]
      },
      {
       "output_type": "stream",
       "stream": "stdout",
       "text": [
        " Ed.D., Harvard University, (2008);\u00a0M.A., University of Minnesota, (2000)\n",
        "80"
       ]
      },
      {
       "output_type": "stream",
       "stream": "stdout",
       "text": [
        " NO INFO AVAILABLE\n",
        "81"
       ]
      },
      {
       "output_type": "stream",
       "stream": "stdout",
       "text": [
        " D.Phil., Oxford University, (1971)\n",
        "82"
       ]
      },
      {
       "output_type": "stream",
       "stream": "stdout",
       "text": [
        " Ph.D., University of Bath, (1985)\n",
        "83"
       ]
      },
      {
       "output_type": "stream",
       "stream": "stdout",
       "text": [
        " Ed.D., Harvard University, (1990)\n",
        "84"
       ]
      },
      {
       "output_type": "stream",
       "stream": "stdout",
       "text": [
        " Ed.D., Harvard Graduate School of Education, (2003);\u00a0Ed.M., University of Michigan, (1991)\n",
        "85"
       ]
      },
      {
       "output_type": "stream",
       "stream": "stdout",
       "text": [
        " Ph.D., Harvard University, (1997)\n",
        "86"
       ]
      },
      {
       "output_type": "stream",
       "stream": "stdout",
       "text": [
        " M.B.A., Amos Tuck School of Business Administration;\u00a0M.A., Psychology, Harvard University;\u00a0A.B., Dartmouth College;\u00a0Ph.D., Harvard University, (1995)\n",
        "87"
       ]
      },
      {
       "output_type": "stream",
       "stream": "stdout",
       "text": [
        " Ph.D., University of Michigan, (2000)\n",
        "88"
       ]
      },
      {
       "output_type": "stream",
       "stream": "stdout",
       "text": [
        " Ph.D., Michigan State University, (1994)\n",
        "89"
       ]
      },
      {
       "output_type": "stream",
       "stream": "stdout",
       "text": [
        " Ed.D., Harvard University, (2012)\n",
        "90"
       ]
      },
      {
       "output_type": "stream",
       "stream": "stdout",
       "text": [
        " Ph.D., Stanford University, (2005)\n",
        "91"
       ]
      },
      {
       "output_type": "stream",
       "stream": "stdout",
       "text": [
        " Ph.D., Yale University, (1979)\n",
        "92"
       ]
      },
      {
       "output_type": "stream",
       "stream": "stdout",
       "text": [
        " Ph.D., University of California, (1971)\n",
        "93"
       ]
      },
      {
       "output_type": "stream",
       "stream": "stdout",
       "text": [
        " NO INFO AVAILABLE\n",
        "94"
       ]
      },
      {
       "output_type": "stream",
       "stream": "stdout",
       "text": [
        " Ed.D., Harvard University, (1989)\n",
        "95"
       ]
      },
      {
       "output_type": "stream",
       "stream": "stdout",
       "text": [
        " Ed.D., Harvard University, (1995)\n",
        "96"
       ]
      },
      {
       "output_type": "stream",
       "stream": "stdout",
       "text": [
        " J.D., University of Virginia, (1986)\n",
        "97"
       ]
      },
      {
       "output_type": "stream",
       "stream": "stdout",
       "text": [
        " Ed.D., Harvard University, (1986)\n",
        "98"
       ]
      },
      {
       "output_type": "stream",
       "stream": "stdout",
       "text": [
        " Ph.D., New York University, (2003)\n",
        "99"
       ]
      },
      {
       "output_type": "stream",
       "stream": "stdout",
       "text": [
        " Ed.D., Harvard University, (1995)\n",
        "100"
       ]
      },
      {
       "output_type": "stream",
       "stream": "stdout",
       "text": [
        " Ed.D., Harvard University, (1981)\n",
        "101"
       ]
      },
      {
       "output_type": "stream",
       "stream": "stdout",
       "text": [
        " Ph.D., Yale University, (2002)\n",
        "102"
       ]
      },
      {
       "output_type": "stream",
       "stream": "stdout",
       "text": [
        " Ed.M., Harvard University, (1996)\n",
        "103"
       ]
      },
      {
       "output_type": "stream",
       "stream": "stdout",
       "text": [
        " Ph.D., University of California, Los Angeles, (1980)\n",
        "104"
       ]
      },
      {
       "output_type": "stream",
       "stream": "stdout",
       "text": [
        " Ph.D., Harvard University, (1991)\n",
        "105"
       ]
      },
      {
       "output_type": "stream",
       "stream": "stdout",
       "text": [
        " Ph.D., Harvard University, (1977)\n",
        "106"
       ]
      },
      {
       "output_type": "stream",
       "stream": "stdout",
       "text": [
        " NO INFO AVAILABLE\n",
        "107"
       ]
      },
      {
       "output_type": "stream",
       "stream": "stdout",
       "text": [
        " Ph.D., Harvard University, (1993)\n",
        "108"
       ]
      },
      {
       "output_type": "stream",
       "stream": "stdout",
       "text": [
        " NO INFO AVAILABLE\n",
        "109"
       ]
      },
      {
       "output_type": "stream",
       "stream": "stdout",
       "text": [
        " Ed.D., Harvard University, (2002)\n",
        "110"
       ]
      },
      {
       "output_type": "stream",
       "stream": "stdout",
       "text": [
        " Ph.D., University of Virginia, (2005)\n",
        "111"
       ]
      },
      {
       "output_type": "stream",
       "stream": "stdout",
       "text": [
        " Ph.D., Cornell University, (1978)\n",
        "112"
       ]
      },
      {
       "output_type": "stream",
       "stream": "stdout",
       "text": [
        " Ed.D., Harvard University, (1986)\n",
        "113"
       ]
      },
      {
       "output_type": "stream",
       "stream": "stdout",
       "text": [
        " Larsen 512 \n",
        "114"
       ]
      },
      {
       "output_type": "stream",
       "stream": "stdout",
       "text": [
        " Ed.M., Harvard University\n",
        "115"
       ]
      },
      {
       "output_type": "stream",
       "stream": "stdout",
       "text": [
        " Ed.D., Harvard University, (1972)\n",
        "116"
       ]
      },
      {
       "output_type": "stream",
       "stream": "stdout",
       "text": [
        " Ed.D., Harvard University, (2011)\n",
        "117"
       ]
      },
      {
       "output_type": "stream",
       "stream": "stdout",
       "text": [
        " Ph.D., New School for Social Research, (2003)\n",
        "118"
       ]
      },
      {
       "output_type": "stream",
       "stream": "stdout",
       "text": [
        " M.A., The Ohio State University, (2001)\n",
        "119"
       ]
      },
      {
       "output_type": "stream",
       "stream": "stdout",
       "text": [
        " Ph.D., University of British Columbia, (2003)\n",
        "120"
       ]
      },
      {
       "output_type": "stream",
       "stream": "stdout",
       "text": [
        " Ph.D., Harvard University, (1958)\n",
        "121"
       ]
      },
      {
       "output_type": "stream",
       "stream": "stdout",
       "text": [
        " Ph.D., University of Oxford, (1997)\n",
        "122"
       ]
      },
      {
       "output_type": "stream",
       "stream": "stdout",
       "text": [
        " Ph.D., Harvard University, (1969)\n",
        "123"
       ]
      },
      {
       "output_type": "stream",
       "stream": "stdout",
       "text": [
        " Ed.D., Harvard University, (2014)\n",
        "124"
       ]
      },
      {
       "output_type": "stream",
       "stream": "stdout",
       "text": [
        " NO INFO AVAILABLE\n",
        "125"
       ]
      },
      {
       "output_type": "stream",
       "stream": "stdout",
       "text": [
        " Ph.D., Harvard University, (2000)\n",
        "126"
       ]
      },
      {
       "output_type": "stream",
       "stream": "stdout",
       "text": [
        " Ph.D., York University, (2008)\n",
        "127"
       ]
      },
      {
       "output_type": "stream",
       "stream": "stdout",
       "text": [
        " Ed.D., Boston College, (2006)\n",
        "128"
       ]
      },
      {
       "output_type": "stream",
       "stream": "stdout",
       "text": [
        " Ph.D., Harvard University, (2007)\n",
        "129"
       ]
      },
      {
       "output_type": "stream",
       "stream": "stdout",
       "text": [
        " Ed.D., Harvard University, (1999)\n",
        "130"
       ]
      },
      {
       "output_type": "stream",
       "stream": "stdout",
       "text": [
        " Ed.D., Harvard University, (1975)\n",
        "131"
       ]
      },
      {
       "output_type": "stream",
       "stream": "stdout",
       "text": [
        " Ph.D., Yale University, (1982)\n",
        "132"
       ]
      },
      {
       "output_type": "stream",
       "stream": "stdout",
       "text": [
        " Ph.D., New York University, (2013)\n",
        "133"
       ]
      },
      {
       "output_type": "stream",
       "stream": "stdout",
       "text": [
        " Ed.D., Harvard University, (2010)\n",
        "134"
       ]
      },
      {
       "output_type": "stream",
       "stream": "stdout",
       "text": [
        " Ph.D., University of Michigan, (1963)\n",
        "135"
       ]
      },
      {
       "output_type": "stream",
       "stream": "stdout",
       "text": [
        " Ed.D., Harvard University, (2004)\n",
        "136"
       ]
      },
      {
       "output_type": "stream",
       "stream": "stdout",
       "text": [
        " Ed.D., Harvard University, (1983)\n",
        "137"
       ]
      },
      {
       "output_type": "stream",
       "stream": "stdout",
       "text": [
        " Ph.D., Harvard University, (2006)\n",
        "138"
       ]
      },
      {
       "output_type": "stream",
       "stream": "stdout",
       "text": [
        " Ph.D., University of Witwatersrand, (1977)\n",
        "139"
       ]
      },
      {
       "output_type": "stream",
       "stream": "stdout",
       "text": [
        " Ph.D., Columbia University, (1980)\n",
        "140"
       ]
      },
      {
       "output_type": "stream",
       "stream": "stdout",
       "text": [
        " Ed.D., Harvard University, (1982)\n",
        "141"
       ]
      },
      {
       "output_type": "stream",
       "stream": "stdout",
       "text": [
        " Ed.M., Harvard Univesity, (2007)\n",
        "142"
       ]
      },
      {
       "output_type": "stream",
       "stream": "stdout",
       "text": [
        " Ed.D., Harvard University;\u00a0B.A., Yale University\n",
        "143"
       ]
      },
      {
       "output_type": "stream",
       "stream": "stdout",
       "text": [
        " J.D., Yale University; Ed.M., Harvard University, (1979)\n",
        "144"
       ]
      },
      {
       "output_type": "stream",
       "stream": "stdout",
       "text": [
        " Ed.D., Harvard University, (1989)\n",
        "145"
       ]
      },
      {
       "output_type": "stream",
       "stream": "stdout",
       "text": [
        " Ph.D., City University of New York, (1993)\n",
        "146"
       ]
      },
      {
       "output_type": "stream",
       "stream": "stdout",
       "text": [
        " Ph.D., Harvard University, (1973)\n",
        "147"
       ]
      },
      {
       "output_type": "stream",
       "stream": "stdout",
       "text": [
        " J.D., Georgetown University\n",
        "148"
       ]
      },
      {
       "output_type": "stream",
       "stream": "stdout",
       "text": [
        " Ph.D., Yale University, (1974)\n",
        "149"
       ]
      },
      {
       "output_type": "stream",
       "stream": "stdout",
       "text": [
        " Ed.D., Harvard University, (1973)\n",
        "150"
       ]
      },
      {
       "output_type": "stream",
       "stream": "stdout",
       "text": [
        " Ed.D., Harvard University, (1995)\n",
        "151"
       ]
      },
      {
       "output_type": "stream",
       "stream": "stdout",
       "text": [
        " Ph.D., University of Kansas, (1981)\n",
        "152"
       ]
      },
      {
       "output_type": "stream",
       "stream": "stdout",
       "text": [
        " Ph.D., Columbia University, (1988)\n",
        "153"
       ]
      },
      {
       "output_type": "stream",
       "stream": "stdout",
       "text": [
        " Ph.D., University of Chicago, (1991)\n",
        "154"
       ]
      },
      {
       "output_type": "stream",
       "stream": "stdout",
       "text": [
        " Ed.D., Harvard University, (1981)\n",
        "155"
       ]
      },
      {
       "output_type": "stream",
       "stream": "stdout",
       "text": [
        " Ed.D., University of Massachusetts, (1990)\n",
        "156"
       ]
      },
      {
       "output_type": "stream",
       "stream": "stdout",
       "text": [
        " NO INFO AVAILABLE\n",
        "157"
       ]
      },
      {
       "output_type": "stream",
       "stream": "stdout",
       "text": [
        " M.A., Boston College, (2004)\n",
        "158"
       ]
      },
      {
       "output_type": "stream",
       "stream": "stdout",
       "text": [
        " Ph.D., Massachusetts Institute of Technology, (1970)\n",
        "159"
       ]
      },
      {
       "output_type": "stream",
       "stream": "stdout",
       "text": [
        " Ed.D., University of Massachusetts, Amherst, (1981)\n",
        "160"
       ]
      },
      {
       "output_type": "stream",
       "stream": "stdout",
       "text": [
        " M.D., Harvard University, (1952)\n",
        "161"
       ]
      },
      {
       "output_type": "stream",
       "stream": "stdout",
       "text": [
        " Ph.D., Harvard University, (2001)\n",
        "162"
       ]
      },
      {
       "output_type": "stream",
       "stream": "stdout",
       "text": [
        " Ed.D., Harvard University, (2007)\n",
        "163"
       ]
      },
      {
       "output_type": "stream",
       "stream": "stdout",
       "text": [
        " M.Ed., Lesley University, (2005)\n",
        "164"
       ]
      },
      {
       "output_type": "stream",
       "stream": "stdout",
       "text": [
        " NO INFO AVAILABLE\n",
        "165"
       ]
      },
      {
       "output_type": "stream",
       "stream": "stdout",
       "text": [
        " Ed.D., Harvard University, (1988)\n",
        "166"
       ]
      },
      {
       "output_type": "stream",
       "stream": "stdout",
       "text": [
        " Ph.D., Stanford University, (1990)\n",
        "167"
       ]
      },
      {
       "output_type": "stream",
       "stream": "stdout",
       "text": [
        " Ed.M., Stanford University, (1974)\n",
        "168"
       ]
      },
      {
       "output_type": "stream",
       "stream": "stdout",
       "text": [
        " M.Ed., University of Massachusetts, (2007)\n",
        "169"
       ]
      },
      {
       "output_type": "stream",
       "stream": "stdout",
       "text": [
        " Ph.D., SUNY Buffalo, (1971)\n",
        "170"
       ]
      },
      {
       "output_type": "stream",
       "stream": "stdout",
       "text": [
        " Ph.D., New School for Social Research, (1990)\n",
        "171"
       ]
      },
      {
       "output_type": "stream",
       "stream": "stdout",
       "text": [
        " M.A., Simmons College, (1991)\n",
        "172"
       ]
      },
      {
       "output_type": "stream",
       "stream": "stdout",
       "text": [
        " NO INFO AVAILABLE\n",
        "173"
       ]
      },
      {
       "output_type": "stream",
       "stream": "stdout",
       "text": [
        " Ed.D., Harvard University, (1976)\n",
        "174"
       ]
      },
      {
       "output_type": "stream",
       "stream": "stdout",
       "text": [
        " Ed.D., Harvard University, (2007)\n",
        "175"
       ]
      },
      {
       "output_type": "stream",
       "stream": "stdout",
       "text": [
        " B.A., Harvard College, (1963)\n",
        "176"
       ]
      },
      {
       "output_type": "stream",
       "stream": "stdout",
       "text": [
        " Ed.D., Harvard University, (2003)\n",
        "177"
       ]
      },
      {
       "output_type": "stream",
       "stream": "stdout",
       "text": [
        " Ed.D., Harvard University;\u00a0M.Sc., Bank Street College of Education\n",
        "178"
       ]
      },
      {
       "output_type": "stream",
       "stream": "stdout",
       "text": [
        " J.D., University of Virginia, (1992);\u00a0B.A., Yale University, (1988)\n",
        "179"
       ]
      },
      {
       "output_type": "stream",
       "stream": "stdout",
       "text": [
        " Ph.D., University of Jyvaskyla, (1996)\n",
        "180"
       ]
      },
      {
       "output_type": "stream",
       "stream": "stdout",
       "text": [
        " Ph.D., Boston College, (2004)\n",
        "181"
       ]
      },
      {
       "output_type": "stream",
       "stream": "stdout",
       "text": [
        " Ed.D., Harvard University, (2014);\u00a0Ed.M., Harvard University, (2007)\n",
        "182"
       ]
      },
      {
       "output_type": "stream",
       "stream": "stdout",
       "text": [
        " NO INFO AVAILABLE\n",
        "183"
       ]
      },
      {
       "output_type": "stream",
       "stream": "stdout",
       "text": [
        " Ed.D., Harvard University, (1995)\n",
        "184"
       ]
      },
      {
       "output_type": "stream",
       "stream": "stdout",
       "text": [
        " NO INFO AVAILABLE\n",
        "185"
       ]
      },
      {
       "output_type": "stream",
       "stream": "stdout",
       "text": [
        " Ph.D., New York University, (1963)\n",
        "186"
       ]
      },
      {
       "output_type": "stream",
       "stream": "stdout",
       "text": [
        " M.A., Brandeis University, (1962)\n",
        "187"
       ]
      },
      {
       "output_type": "stream",
       "stream": "stdout",
       "text": [
        " Ed.D., Harvard University, (1995)\n",
        "188"
       ]
      },
      {
       "output_type": "stream",
       "stream": "stdout",
       "text": [
        " Ed.D., Harvard University, (2008);\u00a0Ed.M., Harvard University, (2002)\n",
        "189"
       ]
      },
      {
       "output_type": "stream",
       "stream": "stdout",
       "text": [
        " Ph.D., Boston University, (1969)\n",
        "190"
       ]
      },
      {
       "output_type": "stream",
       "stream": "stdout",
       "text": [
        " Ph.D., Stanford University, (2013)\n",
        "191"
       ]
      },
      {
       "output_type": "stream",
       "stream": "stdout",
       "text": [
        " NO INFO AVAILABLE\n",
        "192"
       ]
      },
      {
       "output_type": "stream",
       "stream": "stdout",
       "text": [
        " M.D., New York University, (1972)\n",
        "193"
       ]
      },
      {
       "output_type": "stream",
       "stream": "stdout",
       "text": [
        " Ed.M., Harvard University, (2010)\n",
        "194"
       ]
      },
      {
       "output_type": "stream",
       "stream": "stdout",
       "text": [
        " M.T.S., Harvard University, (2005)\n",
        "195"
       ]
      },
      {
       "output_type": "stream",
       "stream": "stdout",
       "text": [
        " Ph.D., Harvard University, (1983)\n",
        "196"
       ]
      },
      {
       "output_type": "stream",
       "stream": "stdout",
       "text": [
        " NO INFO AVAILABLE\n",
        "197"
       ]
      },
      {
       "output_type": "stream",
       "stream": "stdout",
       "text": [
        " Ed.D., Harvard University, (1970)\n",
        "198"
       ]
      },
      {
       "output_type": "stream",
       "stream": "stdout",
       "text": [
        " Ph.D., McGill University, (1971)\n",
        "199"
       ]
      },
      {
       "output_type": "stream",
       "stream": "stdout",
       "text": [
        " Ed.D., Boston University, (1978)\n",
        "200"
       ]
      },
      {
       "output_type": "stream",
       "stream": "stdout",
       "text": [
        " NO INFO AVAILABLE\n",
        "201"
       ]
      },
      {
       "output_type": "stream",
       "stream": "stdout",
       "text": [
        " Ph.D., Cornell University, (1978)\n",
        "202"
       ]
      },
      {
       "output_type": "stream",
       "stream": "stdout",
       "text": [
        " Ph.D., University of Michigan, (2001)\n",
        "203"
       ]
      },
      {
       "output_type": "stream",
       "stream": "stdout",
       "text": [
        " NO INFO AVAILABLE\n",
        "204"
       ]
      },
      {
       "output_type": "stream",
       "stream": "stdout",
       "text": [
        " Ed.D., Harvard University, (1988)\n",
        "205"
       ]
      },
      {
       "output_type": "stream",
       "stream": "stdout",
       "text": [
        " NO INFO AVAILABLE\n",
        "206"
       ]
      },
      {
       "output_type": "stream",
       "stream": "stdout",
       "text": [
        " Ed.D., Harvard University, (1991)\n",
        "207"
       ]
      },
      {
       "output_type": "stream",
       "stream": "stdout",
       "text": [
        " Ed.D., Harvard University, (1980)\n",
        "208"
       ]
      },
      {
       "output_type": "stream",
       "stream": "stdout",
       "text": [
        " Ed.M., Harvard University, (1998)\n",
        "209"
       ]
      },
      {
       "output_type": "stream",
       "stream": "stdout",
       "text": [
        " Ph.D., University of Pennsylvania, (2010)\n",
        "210"
       ]
      },
      {
       "output_type": "stream",
       "stream": "stdout",
       "text": [
        " Ph.D., Massachusetts Institute of Technology, (1976)\n",
        "211"
       ]
      },
      {
       "output_type": "stream",
       "stream": "stdout",
       "text": [
        " NO INFO AVAILABLE\n",
        "212"
       ]
      },
      {
       "output_type": "stream",
       "stream": "stdout",
       "text": [
        " Ed.D., Harvard University, (2003)\n",
        "213"
       ]
      },
      {
       "output_type": "stream",
       "stream": "stdout",
       "text": [
        " M.D., Stanford University, (1980)\n",
        "214"
       ]
      },
      {
       "output_type": "stream",
       "stream": "stdout",
       "text": [
        " NO INFO AVAILABLE\n",
        "215"
       ]
      },
      {
       "output_type": "stream",
       "stream": "stdout",
       "text": [
        " NO INFO AVAILABLE\n",
        "216"
       ]
      },
      {
       "output_type": "stream",
       "stream": "stdout",
       "text": [
        " Ph.D., Harvard University, (2005)\n",
        "217"
       ]
      },
      {
       "output_type": "stream",
       "stream": "stdout",
       "text": [
        " NO INFO AVAILABLE\n",
        "218"
       ]
      },
      {
       "output_type": "stream",
       "stream": "stdout",
       "text": [
        " Ed.D., Harvard University, (1987)\n",
        "219"
       ]
      },
      {
       "output_type": "stream",
       "stream": "stdout",
       "text": [
        " Ph.D., Harvard University, (2006)\n",
        "220"
       ]
      },
      {
       "output_type": "stream",
       "stream": "stdout",
       "text": [
        " Ph.D., University of Nebraska, (1957)\n",
        "221"
       ]
      },
      {
       "output_type": "stream",
       "stream": "stdout",
       "text": [
        " Ph.D., Stanford University, (1985)\n",
        "222"
       ]
      },
      {
       "output_type": "stream",
       "stream": "stdout",
       "text": [
        " Ph.D., Syracuse University, (1957);\u00a0M.A., Atlanta University, (1949);\u00a0B.A., Morehouse College, (1948)\n"
       ]
      }
     ],
     "prompt_number": 87
    },
    {
     "cell_type": "code",
     "collapsed": false,
     "input": [
      "\"\"\"Below, degree array has the name of the highest degree earned, for example, PhD. The university array has the name of the \n",
      "university in which the professor is teaching, which in this case is Harvard University.\"\"\""
     ],
     "language": "python",
     "metadata": {},
     "outputs": []
    },
    {
     "cell_type": "code",
     "collapsed": false,
     "input": [
      "degree = []\n"
     ],
     "language": "python",
     "metadata": {},
     "outputs": [],
     "prompt_number": 88
    },
    {
     "cell_type": "code",
     "collapsed": false,
     "input": [
      "university = []"
     ],
     "language": "python",
     "metadata": {},
     "outputs": [],
     "prompt_number": 89
    },
    {
     "cell_type": "code",
     "collapsed": false,
     "input": [
      "for i in range(len(prof_degree)):\n",
      "    temp = prof_degree[i].split(\",\")\n",
      "    degree.append(temp[0])\n",
      "    \n",
      "    "
     ],
     "language": "python",
     "metadata": {},
     "outputs": [],
     "prompt_number": 90
    },
    {
     "cell_type": "code",
     "collapsed": false,
     "input": [
      "university = []\n",
      "for i in range(len(prof_names)):\n",
      "    university.append(\"HARVARD UNIVERSITY\")"
     ],
     "language": "python",
     "metadata": {},
     "outputs": [],
     "prompt_number": 91
    },
    {
     "cell_type": "code",
     "collapsed": false,
     "input": [
      "\"\"\"The years array contains all the years that are present in the prof_degree array. This array might contain multiple entries for \n",
      "multiple degrees. Later on, this data will be cleaned to present the most recent degree.\"\"\""
     ],
     "language": "python",
     "metadata": {},
     "outputs": []
    },
    {
     "cell_type": "code",
     "collapsed": false,
     "input": [
      "years = []"
     ],
     "language": "python",
     "metadata": {},
     "outputs": [],
     "prompt_number": 92
    },
    {
     "cell_type": "code",
     "collapsed": false,
     "input": [
      "for i,j in enumerate(prof_degree):\n",
      "    g = re.findall('\\d+',prof_degree[i]) \n",
      "    years.append(g)"
     ],
     "language": "python",
     "metadata": {},
     "outputs": [],
     "prompt_number": 93
    },
    {
     "cell_type": "code",
     "collapsed": false,
     "input": [],
     "language": "python",
     "metadata": {},
     "outputs": [],
     "prompt_number": 58
    },
    {
     "cell_type": "code",
     "collapsed": false,
     "input": [
      "\"\"\"The college[] array contains the institution from which the professor obtained his most recent degree. This data is obtsined by cleanin\n",
      "the data from the prof_degree array\"\"\""
     ],
     "language": "python",
     "metadata": {},
     "outputs": [],
     "prompt_number": 104
    },
    {
     "cell_type": "raw",
     "metadata": {},
     "source": []
    },
    {
     "cell_type": "code",
     "collapsed": false,
     "input": [
      "college = []"
     ],
     "language": "python",
     "metadata": {},
     "outputs": [],
     "prompt_number": 94
    },
    {
     "cell_type": "code",
     "collapsed": false,
     "input": [
      "\"\"\"Below is the code for cleaning the data from the array pro_degree to obtain the name of the undergraduate school. I have used\n",
      "string manipulation to split the entire text entry based on the presence of commas. Unfortunately, some web pages do not have the \n",
      "information of the professors graduate school, and I have entered NO INFO AVAILABLE accordingly.\"\"\""
     ],
     "language": "python",
     "metadata": {},
     "outputs": []
    },
    {
     "cell_type": "code",
     "collapsed": false,
     "input": [
      "for i in range(len(prof_degree)):\n",
      "    if prof_degree[i] == \"NO INFO AVAILABLE\":\n",
      "        college.append(\"NO INFO AVAILABLE\")\n",
      "    else:\n",
      "        split = str(prof_degree[i]).split(\",\")\n",
      "        if len(split)>1: \n",
      "            college.append(split[1])\n",
      "        else:\n",
      "            college.append(\"NA\")\n",
      "    \n",
      "    "
     ],
     "language": "python",
     "metadata": {},
     "outputs": [],
     "prompt_number": 95
    },
    {
     "cell_type": "raw",
     "metadata": {},
     "source": []
    },
    {
     "cell_type": "code",
     "collapsed": false,
     "input": [
      "\"\"\"The code below extracts the textual information about the professors position at the graduate school she/he is currently4 tagat. This is \n",
      "found using the findAll command on the main page of the website under the h4 tag, and then inserted into the prof_position array\"\"\""
     ],
     "language": "python",
     "metadata": {},
     "outputs": []
    },
    {
     "cell_type": "code",
     "collapsed": false,
     "input": [
      "temp_array = soup.findAll(\"h4\")"
     ],
     "language": "python",
     "metadata": {},
     "outputs": [],
     "prompt_number": 96
    },
    {
     "cell_type": "code",
     "collapsed": false,
     "input": [
      "temp_array = temp_array[0:223]"
     ],
     "language": "python",
     "metadata": {},
     "outputs": [],
     "prompt_number": 97
    },
    {
     "cell_type": "code",
     "collapsed": false,
     "input": [
      "prof_position = []"
     ],
     "language": "python",
     "metadata": {},
     "outputs": [],
     "prompt_number": 98
    },
    {
     "cell_type": "code",
     "collapsed": false,
     "input": [
      "for i in range(len(temp_array)):\n",
      "    j = str(temp_array[i])\n",
      "    prof_position.append(j[5:][:-5])\n",
      "    print i"
     ],
     "language": "python",
     "metadata": {},
     "outputs": [
      {
       "output_type": "stream",
       "stream": "stdout",
       "text": [
        "0\n",
        "1\n",
        "2\n",
        "3\n",
        "4\n",
        "5\n",
        "6\n",
        "7\n",
        "8\n",
        "9\n",
        "10\n",
        "11\n",
        "12\n",
        "13\n",
        "14\n",
        "15\n",
        "16\n",
        "17\n",
        "18\n",
        "19\n",
        "20\n",
        "21\n",
        "22\n",
        "23\n",
        "24\n",
        "25\n",
        "26\n",
        "27\n",
        "28\n",
        "29\n",
        "30\n",
        "31\n",
        "32\n",
        "33\n",
        "34\n",
        "35\n",
        "36\n",
        "37\n",
        "38\n",
        "39\n",
        "40\n",
        "41\n",
        "42\n",
        "43\n",
        "44\n",
        "45\n",
        "46\n",
        "47\n",
        "48\n",
        "49\n",
        "50\n",
        "51\n",
        "52\n",
        "53\n",
        "54\n",
        "55\n",
        "56\n",
        "57\n",
        "58\n",
        "59\n",
        "60\n",
        "61\n",
        "62\n",
        "63\n",
        "64\n",
        "65\n",
        "66\n",
        "67\n",
        "68\n",
        "69\n",
        "70\n",
        "71\n",
        "72\n",
        "73\n",
        "74\n",
        "75\n",
        "76\n",
        "77\n",
        "78\n",
        "79\n",
        "80\n",
        "81\n",
        "82\n",
        "83\n",
        "84\n",
        "85\n",
        "86\n",
        "87\n",
        "88\n",
        "89\n",
        "90\n",
        "91\n",
        "92\n",
        "93\n",
        "94\n",
        "95\n",
        "96\n",
        "97\n",
        "98\n",
        "99\n",
        "100\n",
        "101\n",
        "102\n",
        "103\n",
        "104\n",
        "105\n",
        "106\n",
        "107\n",
        "108\n",
        "109\n",
        "110\n",
        "111\n",
        "112\n",
        "113\n",
        "114\n",
        "115\n",
        "116\n",
        "117\n",
        "118\n",
        "119\n",
        "120\n",
        "121\n",
        "122\n",
        "123\n",
        "124\n",
        "125\n",
        "126\n",
        "127\n",
        "128\n",
        "129\n",
        "130\n",
        "131\n",
        "132\n",
        "133\n",
        "134\n",
        "135\n",
        "136\n",
        "137\n",
        "138\n",
        "139\n",
        "140\n",
        "141\n",
        "142\n",
        "143\n",
        "144\n",
        "145\n",
        "146\n",
        "147\n",
        "148\n",
        "149\n",
        "150\n",
        "151\n",
        "152\n",
        "153\n",
        "154\n",
        "155\n",
        "156\n",
        "157\n",
        "158\n",
        "159\n",
        "160\n",
        "161\n",
        "162\n",
        "163\n",
        "164\n",
        "165\n",
        "166\n",
        "167\n",
        "168\n",
        "169\n",
        "170\n",
        "171\n",
        "172\n",
        "173\n",
        "174\n",
        "175\n",
        "176\n",
        "177\n",
        "178\n",
        "179\n",
        "180\n",
        "181\n",
        "182\n",
        "183\n",
        "184\n",
        "185\n",
        "186\n",
        "187\n",
        "188\n",
        "189\n",
        "190\n",
        "191\n",
        "192\n",
        "193\n",
        "194\n",
        "195\n",
        "196\n",
        "197\n",
        "198\n",
        "199\n",
        "200\n",
        "201\n",
        "202\n",
        "203\n",
        "204\n",
        "205\n",
        "206\n",
        "207\n",
        "208\n",
        "209\n",
        "210\n",
        "211\n",
        "212\n",
        "213\n",
        "214\n",
        "215\n",
        "216\n",
        "217\n",
        "218\n",
        "219\n",
        "220\n",
        "221\n",
        "222\n"
       ]
      }
     ],
     "prompt_number": 99
    },
    {
     "cell_type": "code",
     "collapsed": false,
     "input": [
      "\"\"\"The professor names are split using the split function for string manipulation. The first names and last names are obtained, and \n",
      "inserted into arrays first_name and last_name\"\"\""
     ],
     "language": "python",
     "metadata": {},
     "outputs": [],
     "prompt_number": 76
    },
    {
     "cell_type": "code",
     "collapsed": false,
     "input": [
      "for i in range(len(prof_names)):\n",
      "    first_name.append(prof_names[i].split(\" \")[0])\n",
      "    last_name.append(prof_names[i].split(\" \")[-1])"
     ],
     "language": "python",
     "metadata": {},
     "outputs": [],
     "prompt_number": 102
    },
    {
     "cell_type": "code",
     "collapsed": false,
     "input": [
      "\"\"\"As mentioned earlier, it is important to obtain data about the most recent degree obtained by the professor. This is done below, and\n",
      "the year of the most recent degree obtained is inserted into the years_recent array. For fields where the information is not \n",
      "available the field is left blank.\"\"\"\n",
      "    "
     ],
     "language": "python",
     "metadata": {},
     "outputs": [],
     "prompt_number": 70
    },
    {
     "cell_type": "code",
     "collapsed": false,
     "input": [
      "years_recent = []\n",
      "len(years)\n"
     ],
     "language": "python",
     "metadata": {},
     "outputs": [
      {
       "metadata": {},
       "output_type": "pyout",
       "prompt_number": 188,
       "text": [
        "223"
       ]
      }
     ],
     "prompt_number": 188
    },
    {
     "cell_type": "code",
     "collapsed": false,
     "input": [
      "for i in range(len(years)):\n",
      "    if years[i] is None:\n",
      "        num = 0\n",
      "        years_recent.append(num)\n",
      "    else:\n",
      "        years_recent.append(''.join(years[i][:1]))\n",
      "        \n",
      "    print years_recent[i]"
     ],
     "language": "python",
     "metadata": {},
     "outputs": [
      {
       "output_type": "stream",
       "stream": "stdout",
       "text": [
        "1999\n",
        "2013\n",
        "1995\n",
        "\n",
        "2006\n",
        "\n",
        "\n",
        "1993\n",
        "2003\n",
        "1971\n",
        "1986\n",
        "1990\n",
        "1977\n",
        "2002\n",
        "2014\n",
        "2006\n",
        "1991\n",
        "1998\n",
        "\n",
        "2012\n",
        "2008\n",
        "2013\n",
        "2007\n",
        "\n",
        "1971\n",
        "1965\n",
        "1972\n",
        "\n",
        "\n",
        "2003\n",
        "2010\n",
        "2007\n",
        "2014\n",
        "1990\n",
        "\n",
        "2009\n",
        "2014\n",
        "2012\n",
        "1972\n",
        "\n",
        "2010\n",
        "\n",
        "1988\n",
        "2009\n",
        "1977\n",
        "2012\n",
        "1999\n",
        "\n",
        "\n",
        "1975\n",
        "\n",
        "1976\n",
        "\n",
        "2014\n",
        "1981\n",
        "\n",
        "1971\n",
        "2007\n",
        "2002\n",
        "\n",
        "\n",
        "2004\n",
        "1981\n",
        "1987\n",
        "2000\n",
        "1971\n",
        "\n",
        "2004\n",
        "1962\n",
        "2008\n",
        "\n",
        "1983\n",
        "2006\n",
        "\n",
        "1964\n",
        "2006\n",
        "1993\n",
        "1975\n",
        "\n",
        "2008\n",
        "\n",
        "1971\n",
        "1985\n",
        "1990\n",
        "2003\n",
        "1997\n",
        "1995\n",
        "2000\n",
        "1994\n",
        "2012\n"
       ]
      },
      {
       "output_type": "stream",
       "stream": "stdout",
       "text": [
        "2005\n",
        "1979\n",
        "1971\n",
        "\n",
        "1989\n",
        "1995\n",
        "1986\n",
        "1986\n",
        "2003\n",
        "1995\n",
        "1981\n",
        "2002\n",
        "1996\n",
        "1980\n",
        "1991\n",
        "1977\n",
        "\n",
        "1993\n",
        "\n",
        "2002\n",
        "2005\n",
        "1978\n",
        "1986\n",
        "512\n",
        "\n",
        "1972\n",
        "2011\n",
        "2003\n",
        "2001\n",
        "2003\n",
        "1958\n",
        "1997\n",
        "1969\n",
        "2014\n",
        "\n",
        "2000\n",
        "2008\n",
        "2006\n",
        "2007\n",
        "1999\n",
        "1975\n",
        "1982\n",
        "2013\n",
        "2010\n",
        "1963\n",
        "2004\n",
        "1983\n",
        "2006\n",
        "1977\n",
        "1980\n",
        "1982\n",
        "2007\n",
        "\n",
        "1979\n",
        "1989\n",
        "1993\n",
        "1973\n",
        "\n",
        "1974\n",
        "1973\n",
        "1995\n",
        "1981\n",
        "1988\n",
        "1991\n",
        "1981\n",
        "1990\n",
        "\n",
        "2004\n",
        "1970\n",
        "1981\n",
        "1952\n",
        "2001\n",
        "2007\n",
        "2005\n",
        "\n",
        "1988\n",
        "1990\n",
        "1974\n",
        "2007\n",
        "1971\n",
        "1990\n",
        "1991\n",
        "\n",
        "1976\n",
        "2007\n",
        "1963\n",
        "2003\n",
        "\n",
        "1992\n",
        "1996\n",
        "2004\n",
        "2014\n",
        "\n",
        "1995\n",
        "\n",
        "1963\n",
        "1962\n",
        "1995\n",
        "2008\n",
        "1969\n",
        "2013\n",
        "\n",
        "1972\n",
        "2010\n",
        "2005\n",
        "1983\n",
        "\n",
        "1970\n",
        "1971\n",
        "1978\n",
        "\n",
        "1978\n",
        "2001\n",
        "\n",
        "1988\n",
        "\n",
        "1991\n",
        "1980\n",
        "1998\n",
        "2010\n",
        "1976\n",
        "\n",
        "2003\n",
        "1980\n",
        "\n",
        "\n",
        "2005\n",
        "\n",
        "1987\n",
        "2006\n",
        "1957\n",
        "1985\n",
        "1957\n"
       ]
      }
     ],
     "prompt_number": 189
    },
    {
     "cell_type": "code",
     "collapsed": false,
     "input": [
      "\"\"\"The data is now aggregated and combined into a dataframe, and exported to a CSV. There are 223 entries in the file\"\"\"\n",
      "    "
     ],
     "language": "python",
     "metadata": {},
     "outputs": [
      {
       "metadata": {},
       "output_type": "pyout",
       "prompt_number": 158,
       "text": [
        "223"
       ]
      }
     ],
     "prompt_number": 158
    },
    {
     "cell_type": "code",
     "collapsed": false,
     "input": [],
     "language": "python",
     "metadata": {},
     "outputs": [],
     "prompt_number": 208
    },
    {
     "cell_type": "code",
     "collapsed": false,
     "input": [],
     "language": "python",
     "metadata": {},
     "outputs": [],
     "prompt_number": 217
    },
    {
     "cell_type": "code",
     "collapsed": false,
     "input": [
      "dict = {}\n",
      "dict[\"firstname\"] = []\n",
      "dict[\"lastname\"] = []\n",
      "dict[\"university\"] = []\n",
      "dict[\"department\"] = []\n",
      "dict[\"grad_school\"] = []\n",
      "dict[\"title\"] = []\n",
      "dict[\"highest_degree\"] = []\n",
      "dict[\"Grad_Yr\"] = []"
     ],
     "language": "python",
     "metadata": {},
     "outputs": [],
     "prompt_number": 218
    },
    {
     "cell_type": "code",
     "collapsed": false,
     "input": [
      "for x in years_recent:\n",
      "    dict[\"Grad_Yr\"].append(x)\n",
      "\n",
      "for x in first_name:\n",
      "    dict[\"firstname\"].append(x)\n",
      "\n",
      "for x in last_name:\n",
      "    dict[\"lastname\"].append(x)\n",
      "\n",
      "for x in degree:\n",
      "    dict[\"highest_degree\"].append(x)\n",
      "    \n",
      "for x in college :\n",
      "    dict[\"grad_school\"].append(x)\n",
      "\n",
      "for x in prof_position:\n",
      "    dict[\"title\"].append(x)\n",
      "\n",
      "for x in university:\n",
      "    dict[\"university\"].append(x)\n",
      "\n",
      "for x in grad_dept:\n",
      "    dict[\"department\"].append(x)\n",
      "\n",
      "\n",
      "\n",
      "\n",
      "\n",
      "\n"
     ],
     "language": "python",
     "metadata": {},
     "outputs": [],
     "prompt_number": 219
    },
    {
     "cell_type": "code",
     "collapsed": false,
     "input": [
      "df"
     ],
     "language": "python",
     "metadata": {},
     "outputs": [
      {
       "html": [
        "<div style=\"max-height:1000px;max-width:1500px;overflow:auto;\">\n",
        "<table border=\"1\" class=\"dataframe\">\n",
        "  <thead>\n",
        "    <tr style=\"text-align: right;\">\n",
        "      <th></th>\n",
        "      <th>Grad_Yr</th>\n",
        "      <th>department</th>\n",
        "      <th>firstname</th>\n",
        "      <th>grad_school</th>\n",
        "      <th>highest_degree</th>\n",
        "      <th>lastname</th>\n",
        "      <th>title</th>\n",
        "      <th>university</th>\n",
        "    </tr>\n",
        "  </thead>\n",
        "  <tbody>\n",
        "    <tr>\n",
        "      <th>0  </th>\n",
        "      <td> 1999</td>\n",
        "      <td>  Harvard Graduate School of Education</td>\n",
        "      <td>   Alberto</td>\n",
        "      <td>  Massachusetts Institute of Technology</td>\n",
        "      <td>             Ph.D.</td>\n",
        "      <td>            Abadie</td>\n",
        "      <td>                Member of the Faculty of Education</td>\n",
        "      <td> HARVARD UNIVERSITY</td>\n",
        "    </tr>\n",
        "    <tr>\n",
        "      <th>1  </th>\n",
        "      <td> 2013</td>\n",
        "      <td>  Harvard Graduate School of Education</td>\n",
        "      <td>     Emily</td>\n",
        "      <td>               Arizona State University</td>\n",
        "      <td>             Ph.D.</td>\n",
        "      <td>            Ackman</td>\n",
        "      <td>                  Postdoctoral Fellow in Education</td>\n",
        "      <td> HARVARD UNIVERSITY</td>\n",
        "    </tr>\n",
        "    <tr>\n",
        "      <th>2  </th>\n",
        "      <td> 1995</td>\n",
        "      <td>  Harvard Graduate School of Education</td>\n",
        "      <td>    Lauren</td>\n",
        "      <td>                        Simmons College</td>\n",
        "      <td>              M.A.</td>\n",
        "      <td>             Adams</td>\n",
        "      <td>                     Adjunct Lecturer on Education</td>\n",
        "      <td> HARVARD UNIVERSITY</td>\n",
        "    </tr>\n",
        "    <tr>\n",
        "      <th>3  </th>\n",
        "      <td>     </td>\n",
        "      <td>  Harvard Graduate School of Education</td>\n",
        "      <td>    Mitsue</td>\n",
        "      <td>                      NO INFO AVAILABLE</td>\n",
        "      <td> NO INFO AVAILABLE</td>\n",
        "      <td>       Allen-Tamai</td>\n",
        "      <td>                             Professor of Practice</td>\n",
        "      <td> HARVARD UNIVERSITY</td>\n",
        "    </tr>\n",
        "    <tr>\n",
        "      <th>4  </th>\n",
        "      <td> 2006</td>\n",
        "      <td>  Harvard Graduate School of Education</td>\n",
        "      <td>    Andres</td>\n",
        "      <td>                     Harvard University</td>\n",
        "      <td>             Ed.D.</td>\n",
        "      <td>            Alonso</td>\n",
        "      <td>                     Visiting Scholar in Education</td>\n",
        "      <td> HARVARD UNIVERSITY</td>\n",
        "    </tr>\n",
        "    <tr>\n",
        "      <th>5  </th>\n",
        "      <td>     </td>\n",
        "      <td>  Harvard Graduate School of Education</td>\n",
        "      <td>      Arif</td>\n",
        "      <td>                      NO INFO AVAILABLE</td>\n",
        "      <td> NO INFO AVAILABLE</td>\n",
        "      <td>             Altun</td>\n",
        "      <td>                      Visiting Fellow in Education</td>\n",
        "      <td> HARVARD UNIVERSITY</td>\n",
        "    </tr>\n",
        "    <tr>\n",
        "      <th>6  </th>\n",
        "      <td>     </td>\n",
        "      <td>  Harvard Graduate School of Education</td>\n",
        "      <td>    Chiwen</td>\n",
        "      <td>                      NO INFO AVAILABLE</td>\n",
        "      <td> NO INFO AVAILABLE</td>\n",
        "      <td>               Bao</td>\n",
        "      <td>                     Adjunct Lecturer on Education</td>\n",
        "      <td> HARVARD UNIVERSITY</td>\n",
        "    </tr>\n",
        "    <tr>\n",
        "      <th>7  </th>\n",
        "      <td> 1993</td>\n",
        "      <td>  Harvard Graduate School of Education</td>\n",
        "      <td>    Dennis</td>\n",
        "      <td>                     Harvard University</td>\n",
        "      <td>             Ed.D.</td>\n",
        "      <td>              Barr</td>\n",
        "      <td>    Assistant Professor of Education and Economics</td>\n",
        "      <td> HARVARD UNIVERSITY</td>\n",
        "    </tr>\n",
        "    <tr>\n",
        "      <th>8  </th>\n",
        "      <td> 2003</td>\n",
        "      <td>  Harvard Graduate School of Education</td>\n",
        "      <td>    Felipe</td>\n",
        "      <td>                 University of Maryland</td>\n",
        "      <td>             Ph.D.</td>\n",
        "      <td>    Barrera-Osorio</td>\n",
        "      <td>                Member of the Faculty of Education</td>\n",
        "      <td> HARVARD UNIVERSITY</td>\n",
        "    </tr>\n",
        "    <tr>\n",
        "      <th>9  </th>\n",
        "      <td> 1971</td>\n",
        "      <td>  Harvard Graduate School of Education</td>\n",
        "      <td>   William</td>\n",
        "      <td>        Case Western Reserve University</td>\n",
        "      <td>              M.D.</td>\n",
        "      <td>         Beardslee</td>\n",
        "      <td>                     Visiting Scholar in Education</td>\n",
        "      <td> HARVARD UNIVERSITY</td>\n",
        "    </tr>\n",
        "    <tr>\n",
        "      <th>10 </th>\n",
        "      <td> 1986</td>\n",
        "      <td>  Harvard Graduate School of Education</td>\n",
        "      <td>    Janine</td>\n",
        "      <td>                     Harvard University</td>\n",
        "      <td>             Ed.D.</td>\n",
        "      <td>         Bempechat</td>\n",
        "      <td>                     Adjunct Lecturer on Education</td>\n",
        "      <td> HARVARD UNIVERSITY</td>\n",
        "    </tr>\n",
        "    <tr>\n",
        "      <th>11 </th>\n",
        "      <td> 1990</td>\n",
        "      <td>  Harvard Graduate School of Education</td>\n",
        "      <td>       Ron</td>\n",
        "      <td>                     Harvard University</td>\n",
        "      <td>             Ed.M.</td>\n",
        "      <td>            Berger</td>\n",
        "      <td>                      Senior Lecturer on Education</td>\n",
        "      <td> HARVARD UNIVERSITY</td>\n",
        "    </tr>\n",
        "    <tr>\n",
        "      <th>12 </th>\n",
        "      <td> 1977</td>\n",
        "      <td>  Harvard Graduate School of Education</td>\n",
        "      <td>    Joseph</td>\n",
        "      <td>                     Harvard University</td>\n",
        "      <td>             Ed.M.</td>\n",
        "      <td>             Blatt</td>\n",
        "      <td>                     Adjunct Lecturer on Education</td>\n",
        "      <td> HARVARD UNIVERSITY</td>\n",
        "    </tr>\n",
        "    <tr>\n",
        "      <th>13 </th>\n",
        "      <td> 2002</td>\n",
        "      <td>  Harvard Graduate School of Education</td>\n",
        "      <td>      Tina</td>\n",
        "      <td>                     Harvard University</td>\n",
        "      <td>             Ed.M.</td>\n",
        "      <td>            Blythe</td>\n",
        "      <td>                     Adjunct Lecturer on Education</td>\n",
        "      <td> HARVARD UNIVERSITY</td>\n",
        "    </tr>\n",
        "    <tr>\n",
        "      <th>14 </th>\n",
        "      <td> 2014</td>\n",
        "      <td>  Harvard Graduate School of Education</td>\n",
        "      <td>   Candice</td>\n",
        "      <td>                     Harvard University</td>\n",
        "      <td>             Ed.D.</td>\n",
        "      <td>            Bocala</td>\n",
        "      <td>                     Adjunct Lecturer on Education</td>\n",
        "      <td> HARVARD UNIVERSITY</td>\n",
        "    </tr>\n",
        "    <tr>\n",
        "      <th>15 </th>\n",
        "      <td> 2006</td>\n",
        "      <td>  Harvard Graduate School of Education</td>\n",
        "      <td>      Lisa</td>\n",
        "      <td>                     Harvard University</td>\n",
        "      <td>             Ed.D.</td>\n",
        "      <td>              Boes</td>\n",
        "      <td>                      Senior Lecturer on Education</td>\n",
        "      <td> HARVARD UNIVERSITY</td>\n",
        "    </tr>\n",
        "    <tr>\n",
        "      <th>16 </th>\n",
        "      <td> 1991</td>\n",
        "      <td>  Harvard Graduate School of Education</td>\n",
        "      <td> Katherine</td>\n",
        "      <td>                     Harvard University</td>\n",
        "      <td>             Ed.D.</td>\n",
        "      <td>             Boles</td>\n",
        "      <td>                             Lecturer on Education</td>\n",
        "      <td> HARVARD UNIVERSITY</td>\n",
        "    </tr>\n",
        "    <tr>\n",
        "      <th>17 </th>\n",
        "      <td> 1998</td>\n",
        "      <td>  Harvard Graduate School of Education</td>\n",
        "      <td>   Kathryn</td>\n",
        "      <td>                     Harvard University</td>\n",
        "      <td>             Ph.D.</td>\n",
        "      <td>           Boudett</td>\n",
        "      <td>                  Postdoctoral Fellow in Education</td>\n",
        "      <td> HARVARD UNIVERSITY</td>\n",
        "    </tr>\n",
        "    <tr>\n",
        "      <th>18 </th>\n",
        "      <td>     </td>\n",
        "      <td>  Harvard Graduate School of Education</td>\n",
        "      <td>   Jocelyn</td>\n",
        "      <td>                      NO INFO AVAILABLE</td>\n",
        "      <td> NO INFO AVAILABLE</td>\n",
        "      <td>             Bowne</td>\n",
        "      <td>                  Assistant Professor of Education</td>\n",
        "      <td> HARVARD UNIVERSITY</td>\n",
        "    </tr>\n",
        "    <tr>\n",
        "      <th>19 </th>\n",
        "      <td> 2012</td>\n",
        "      <td>  Harvard Graduate School of Education</td>\n",
        "      <td>     Karen</td>\n",
        "      <td>  Massachusetts Institute of Technology</td>\n",
        "      <td>             Ph.D.</td>\n",
        "      <td>           Brennan</td>\n",
        "      <td>                  Assistant Professor of Education</td>\n",
        "      <td> HARVARD UNIVERSITY</td>\n",
        "    </tr>\n",
        "    <tr>\n",
        "      <th>20 </th>\n",
        "      <td> 2008</td>\n",
        "      <td>  Harvard Graduate School of Education</td>\n",
        "      <td>     Ebony</td>\n",
        "      <td>                    New York University</td>\n",
        "      <td>             Ph.D.</td>\n",
        "      <td> Bridwell-Mitchell</td>\n",
        "      <td>                             Lecturer on Education</td>\n",
        "      <td> HARVARD UNIVERSITY</td>\n",
        "    </tr>\n",
        "    <tr>\n",
        "      <th>21 </th>\n",
        "      <td> 2013</td>\n",
        "      <td>  Harvard Graduate School of Education</td>\n",
        "      <td>  Gretchen</td>\n",
        "      <td>   Harvard Graduate School of Education</td>\n",
        "      <td>             Ed.D.</td>\n",
        "      <td>     Brion-Meisels</td>\n",
        "      <td>                           Instructor in Education</td>\n",
        "      <td> HARVARD UNIVERSITY</td>\n",
        "    </tr>\n",
        "    <tr>\n",
        "      <th>22 </th>\n",
        "      <td> 2007</td>\n",
        "      <td>  Harvard Graduate School of Education</td>\n",
        "      <td>      Mary</td>\n",
        "      <td>                        Pace University</td>\n",
        "      <td>            M.A.T.</td>\n",
        "      <td>        Burkhauser</td>\n",
        "      <td>                     Visiting Scholar in Education</td>\n",
        "      <td> HARVARD UNIVERSITY</td>\n",
        "    </tr>\n",
        "    <tr>\n",
        "      <th>23 </th>\n",
        "      <td>     </td>\n",
        "      <td>  Harvard Graduate School of Education</td>\n",
        "      <td>   Eduardo</td>\n",
        "      <td>                      NO INFO AVAILABLE</td>\n",
        "      <td> NO INFO AVAILABLE</td>\n",
        "      <td>          Oliveira</td>\n",
        "      <td>                Member of the Faculty of Education</td>\n",
        "      <td> HARVARD UNIVERSITY</td>\n",
        "    </tr>\n",
        "    <tr>\n",
        "      <th>24 </th>\n",
        "      <td> 1971</td>\n",
        "      <td>  Harvard Graduate School of Education</td>\n",
        "      <td>     Susan</td>\n",
        "      <td>                     Harvard University</td>\n",
        "      <td>             Ph.D.</td>\n",
        "      <td>             Carey</td>\n",
        "      <td> Charles William Eliot Professor of Education, ...</td>\n",
        "      <td> HARVARD UNIVERSITY</td>\n",
        "    </tr>\n",
        "    <tr>\n",
        "      <th>25 </th>\n",
        "      <td> 1965</td>\n",
        "      <td>  Harvard Graduate School of Education</td>\n",
        "      <td>  Courtney</td>\n",
        "      <td>                     Harvard University</td>\n",
        "      <td>             Ed.D.</td>\n",
        "      <td>            Cazden</td>\n",
        "      <td>                  Professor of Education, Emeritus</td>\n",
        "      <td> HARVARD UNIVERSITY</td>\n",
        "    </tr>\n",
        "    <tr>\n",
        "      <th>26 </th>\n",
        "      <td> 1972</td>\n",
        "      <td>  Harvard Graduate School of Education</td>\n",
        "      <td>   Richard</td>\n",
        "      <td>                University of Wisconsin</td>\n",
        "      <td>             Ph.D.</td>\n",
        "      <td>             Chait</td>\n",
        "      <td>                  Postdoctoral Fellow in Education</td>\n",
        "      <td> HARVARD UNIVERSITY</td>\n",
        "    </tr>\n",
        "    <tr>\n",
        "      <th>27 </th>\n",
        "      <td>     </td>\n",
        "      <td>  Harvard Graduate School of Education</td>\n",
        "      <td>        Si</td>\n",
        "      <td>                      NO INFO AVAILABLE</td>\n",
        "      <td> NO INFO AVAILABLE</td>\n",
        "      <td>              Chen</td>\n",
        "      <td>                     Visiting Scholar in Education</td>\n",
        "      <td> HARVARD UNIVERSITY</td>\n",
        "    </tr>\n",
        "    <tr>\n",
        "      <th>28 </th>\n",
        "      <td>     </td>\n",
        "      <td>  Harvard Graduate School of Education</td>\n",
        "      <td>    Xinkui</td>\n",
        "      <td>                      NO INFO AVAILABLE</td>\n",
        "      <td> NO INFO AVAILABLE</td>\n",
        "      <td>              Chen</td>\n",
        "      <td>                Member of the Faculty of Education</td>\n",
        "      <td> HARVARD UNIVERSITY</td>\n",
        "    </tr>\n",
        "    <tr>\n",
        "      <th>29 </th>\n",
        "      <td> 2003</td>\n",
        "      <td>  Harvard Graduate School of Education</td>\n",
        "      <td>       Raj</td>\n",
        "      <td>                     Harvard University</td>\n",
        "      <td>             Ph.D.</td>\n",
        "      <td>            Chetty</td>\n",
        "      <td>                     Adjunct Lecturer on Education</td>\n",
        "      <td> HARVARD UNIVERSITY</td>\n",
        "    </tr>\n",
        "    <tr>\n",
        "      <th>...</th>\n",
        "      <td>...</td>\n",
        "      <td>...</td>\n",
        "      <td>...</td>\n",
        "      <td>...</td>\n",
        "      <td>...</td>\n",
        "      <td>...</td>\n",
        "      <td>...</td>\n",
        "      <td>...</td>\n",
        "    </tr>\n",
        "    <tr>\n",
        "      <th>193</th>\n",
        "      <td> 2010</td>\n",
        "      <td>  Harvard Graduate School of Education</td>\n",
        "      <td>      Beth</td>\n",
        "      <td>                     Harvard University</td>\n",
        "      <td>             Ed.M.</td>\n",
        "      <td>           Simpson</td>\n",
        "      <td>    Patricia Albjerg Graham Professor of Education</td>\n",
        "      <td> HARVARD UNIVERSITY</td>\n",
        "    </tr>\n",
        "    <tr>\n",
        "      <th>194</th>\n",
        "      <td> 2005</td>\n",
        "      <td>  Harvard Graduate School of Education</td>\n",
        "      <td>      Karl</td>\n",
        "      <td>                     Harvard University</td>\n",
        "      <td>            M.T.S.</td>\n",
        "      <td>           Sineath</td>\n",
        "      <td>                     Adjunct Lecturer on Education</td>\n",
        "      <td> HARVARD UNIVERSITY</td>\n",
        "    </tr>\n",
        "    <tr>\n",
        "      <th>195</th>\n",
        "      <td> 1983</td>\n",
        "      <td>  Harvard Graduate School of Education</td>\n",
        "      <td>    Judith</td>\n",
        "      <td>                     Harvard University</td>\n",
        "      <td>             Ph.D.</td>\n",
        "      <td>            Singer</td>\n",
        "      <td>                     Visiting Scholar in Education</td>\n",
        "      <td> HARVARD UNIVERSITY</td>\n",
        "    </tr>\n",
        "    <tr>\n",
        "      <th>196</th>\n",
        "      <td>     </td>\n",
        "      <td>  Harvard Graduate School of Education</td>\n",
        "      <td>  Jonathan</td>\n",
        "      <td>                      NO INFO AVAILABLE</td>\n",
        "      <td> NO INFO AVAILABLE</td>\n",
        "      <td>            Slater</td>\n",
        "      <td>                Member of the Faculty of Education</td>\n",
        "      <td> HARVARD UNIVERSITY</td>\n",
        "    </tr>\n",
        "    <tr>\n",
        "      <th>197</th>\n",
        "      <td> 1970</td>\n",
        "      <td>  Harvard Graduate School of Education</td>\n",
        "      <td>      Mike</td>\n",
        "      <td>                     Harvard University</td>\n",
        "      <td>             Ed.D.</td>\n",
        "      <td>             Smith</td>\n",
        "      <td> Nancy Pforzheimer Aronson Associate Professor ...</td>\n",
        "      <td> HARVARD UNIVERSITY</td>\n",
        "    </tr>\n",
        "    <tr>\n",
        "      <th>198</th>\n",
        "      <td> 1971</td>\n",
        "      <td>  Harvard Graduate School of Education</td>\n",
        "      <td> Catherine</td>\n",
        "      <td>                      McGill University</td>\n",
        "      <td>             Ph.D.</td>\n",
        "      <td>              Snow</td>\n",
        "      <td>                             Lecturer on Education</td>\n",
        "      <td> HARVARD UNIVERSITY</td>\n",
        "    </tr>\n",
        "    <tr>\n",
        "      <th>199</th>\n",
        "      <td> 1978</td>\n",
        "      <td>  Harvard Graduate School of Education</td>\n",
        "      <td>     Nancy</td>\n",
        "      <td>                      Boston University</td>\n",
        "      <td>             Ed.D.</td>\n",
        "      <td>           Sommers</td>\n",
        "      <td>                  Postdoctoral Fellow in Education</td>\n",
        "      <td> HARVARD UNIVERSITY</td>\n",
        "    </tr>\n",
        "    <tr>\n",
        "      <th>200</th>\n",
        "      <td>     </td>\n",
        "      <td>  Harvard Graduate School of Education</td>\n",
        "      <td>  Yingquan</td>\n",
        "      <td>                      NO INFO AVAILABLE</td>\n",
        "      <td> NO INFO AVAILABLE</td>\n",
        "      <td>              Song</td>\n",
        "      <td>                             Lecturer on Education</td>\n",
        "      <td> HARVARD UNIVERSITY</td>\n",
        "    </tr>\n",
        "    <tr>\n",
        "      <th>201</th>\n",
        "      <td> 1978</td>\n",
        "      <td>  Harvard Graduate School of Education</td>\n",
        "      <td> Elizabeth</td>\n",
        "      <td>                     Cornell University</td>\n",
        "      <td>             Ph.D.</td>\n",
        "      <td>            Spelke</td>\n",
        "      <td>                             Lecturer on Education</td>\n",
        "      <td> HARVARD UNIVERSITY</td>\n",
        "    </tr>\n",
        "    <tr>\n",
        "      <th>202</th>\n",
        "      <td> 2001</td>\n",
        "      <td>  Harvard Graduate School of Education</td>\n",
        "      <td>       Jon</td>\n",
        "      <td>                 University of Michigan</td>\n",
        "      <td>             Ph.D.</td>\n",
        "      <td>              Star</td>\n",
        "      <td>                     Adjunct Lecturer on Education</td>\n",
        "      <td> HARVARD UNIVERSITY</td>\n",
        "    </tr>\n",
        "    <tr>\n",
        "      <th>203</th>\n",
        "      <td>     </td>\n",
        "      <td>  Harvard Graduate School of Education</td>\n",
        "      <td>      Eric</td>\n",
        "      <td>                      NO INFO AVAILABLE</td>\n",
        "      <td> NO INFO AVAILABLE</td>\n",
        "      <td>            Taylor</td>\n",
        "      <td>                     Adjunct Lecturer on Education</td>\n",
        "      <td> HARVARD UNIVERSITY</td>\n",
        "    </tr>\n",
        "    <tr>\n",
        "      <th>204</th>\n",
        "      <td> 1988</td>\n",
        "      <td>  Harvard Graduate School of Education</td>\n",
        "      <td>       Lee</td>\n",
        "      <td>                     Harvard University</td>\n",
        "      <td>             Ed.D.</td>\n",
        "      <td>            Teitel</td>\n",
        "      <td>                Member of the Faculty of Education</td>\n",
        "      <td> HARVARD UNIVERSITY</td>\n",
        "    </tr>\n",
        "    <tr>\n",
        "      <th>205</th>\n",
        "      <td>     </td>\n",
        "      <td>  Harvard Graduate School of Education</td>\n",
        "      <td>  Meredith</td>\n",
        "      <td>                      NO INFO AVAILABLE</td>\n",
        "      <td> NO INFO AVAILABLE</td>\n",
        "      <td>          Thompson</td>\n",
        "      <td> Lecturer on Education, Postdoctoral Fellow in ...</td>\n",
        "      <td> HARVARD UNIVERSITY</td>\n",
        "    </tr>\n",
        "    <tr>\n",
        "      <th>206</th>\n",
        "      <td> 1991</td>\n",
        "      <td>  Harvard Graduate School of Education</td>\n",
        "      <td>     Shari</td>\n",
        "      <td>                     Harvard University</td>\n",
        "      <td>             Ed.D.</td>\n",
        "      <td>           Tishman</td>\n",
        "      <td>                  Associate Professor of Education</td>\n",
        "      <td> HARVARD UNIVERSITY</td>\n",
        "    </tr>\n",
        "    <tr>\n",
        "      <th>207</th>\n",
        "      <td> 1980</td>\n",
        "      <td>  Harvard Graduate School of Education</td>\n",
        "      <td>  Terrence</td>\n",
        "      <td>                     Harvard University</td>\n",
        "      <td>             Ed.D.</td>\n",
        "      <td>            Tivnan</td>\n",
        "      <td>                Member of the Faculty of Education</td>\n",
        "      <td> HARVARD UNIVERSITY</td>\n",
        "    </tr>\n",
        "    <tr>\n",
        "      <th>208</th>\n",
        "      <td> 1998</td>\n",
        "      <td>  Harvard Graduate School of Education</td>\n",
        "      <td>   Barbara</td>\n",
        "      <td>                     Harvard University</td>\n",
        "      <td>             Ed.M.</td>\n",
        "      <td>            Treacy</td>\n",
        "      <td>                     Adjunct Lecturer on Education</td>\n",
        "      <td> HARVARD UNIVERSITY</td>\n",
        "    </tr>\n",
        "    <tr>\n",
        "      <th>209</th>\n",
        "      <td> 2010</td>\n",
        "      <td>  Harvard Graduate School of Education</td>\n",
        "      <td>  Kimberly</td>\n",
        "      <td>             University of Pennsylvania</td>\n",
        "      <td>             Ph.D.</td>\n",
        "      <td>            Truong</td>\n",
        "      <td>                     Visiting Scholar in Education</td>\n",
        "      <td> HARVARD UNIVERSITY</td>\n",
        "    </tr>\n",
        "    <tr>\n",
        "      <th>210</th>\n",
        "      <td> 1976</td>\n",
        "      <td>  Harvard Graduate School of Education</td>\n",
        "      <td>   Michael</td>\n",
        "      <td>  Massachusetts Institute of Technology</td>\n",
        "      <td>             Ph.D.</td>\n",
        "      <td>           Tushman</td>\n",
        "      <td>                  Associate Professor of Education</td>\n",
        "      <td> HARVARD UNIVERSITY</td>\n",
        "    </tr>\n",
        "    <tr>\n",
        "      <th>211</th>\n",
        "      <td>     </td>\n",
        "      <td>  Harvard Graduate School of Education</td>\n",
        "      <td>   Michael</td>\n",
        "      <td>                      NO INFO AVAILABLE</td>\n",
        "      <td> NO INFO AVAILABLE</td>\n",
        "      <td>          Tutwiler</td>\n",
        "      <td>                     Visiting Scholar in Education</td>\n",
        "      <td> HARVARD UNIVERSITY</td>\n",
        "    </tr>\n",
        "    <tr>\n",
        "      <th>212</th>\n",
        "      <td> 2003</td>\n",
        "      <td>  Harvard Graduate School of Education</td>\n",
        "      <td>     Paola</td>\n",
        "      <td>                     Harvard University</td>\n",
        "      <td>             Ed.D.</td>\n",
        "      <td>           Uccelli</td>\n",
        "      <td>                      Senior Lecturer on Education</td>\n",
        "      <td> HARVARD UNIVERSITY</td>\n",
        "    </tr>\n",
        "    <tr>\n",
        "      <th>213</th>\n",
        "      <td> 1980</td>\n",
        "      <td>  Harvard Graduate School of Education</td>\n",
        "      <td>     David</td>\n",
        "      <td>                    Stanford University</td>\n",
        "      <td>              M.D.</td>\n",
        "      <td>             Urion</td>\n",
        "      <td>                  Associate Professor of Education</td>\n",
        "      <td> HARVARD UNIVERSITY</td>\n",
        "    </tr>\n",
        "    <tr>\n",
        "      <th>214</th>\n",
        "      <td>     </td>\n",
        "      <td>  Harvard Graduate School of Education</td>\n",
        "      <td>    Marcus</td>\n",
        "      <td>                      NO INFO AVAILABLE</td>\n",
        "      <td> NO INFO AVAILABLE</td>\n",
        "      <td>            Walker</td>\n",
        "      <td> Charles William Eliot Research Professor of Ed...</td>\n",
        "      <td> HARVARD UNIVERSITY</td>\n",
        "    </tr>\n",
        "    <tr>\n",
        "      <th>215</th>\n",
        "      <td>     </td>\n",
        "      <td>  Harvard Graduate School of Education</td>\n",
        "      <td>   Minhong</td>\n",
        "      <td>                      NO INFO AVAILABLE</td>\n",
        "      <td> NO INFO AVAILABLE</td>\n",
        "      <td>              Wang</td>\n",
        "      <td> Charles William Eliot Professor of Education, ...</td>\n",
        "      <td> HARVARD UNIVERSITY</td>\n",
        "    </tr>\n",
        "    <tr>\n",
        "      <th>216</th>\n",
        "      <td> 2005</td>\n",
        "      <td>  Harvard Graduate School of Education</td>\n",
        "      <td>   Natasha</td>\n",
        "      <td>                     Harvard University</td>\n",
        "      <td>             Ph.D.</td>\n",
        "      <td>           Warikoo</td>\n",
        "      <td>                             Lecturer on Education</td>\n",
        "      <td> HARVARD UNIVERSITY</td>\n",
        "    </tr>\n",
        "    <tr>\n",
        "      <th>217</th>\n",
        "      <td>     </td>\n",
        "      <td>  Harvard Graduate School of Education</td>\n",
        "      <td> Christina</td>\n",
        "      <td>                      NO INFO AVAILABLE</td>\n",
        "      <td> NO INFO AVAILABLE</td>\n",
        "      <td>           Weiland</td>\n",
        "      <td>            Senior Research Associate in Education</td>\n",
        "      <td> HARVARD UNIVERSITY</td>\n",
        "    </tr>\n",
        "    <tr>\n",
        "      <th>218</th>\n",
        "      <td> 1987</td>\n",
        "      <td>  Harvard Graduate School of Education</td>\n",
        "      <td>   Richard</td>\n",
        "      <td>                     Harvard University</td>\n",
        "      <td>             Ed.D.</td>\n",
        "      <td>        Weissbourd</td>\n",
        "      <td>                     Visiting Scholar in Education</td>\n",
        "      <td> HARVARD UNIVERSITY</td>\n",
        "    </tr>\n",
        "    <tr>\n",
        "      <th>219</th>\n",
        "      <td> 2006</td>\n",
        "      <td>  Harvard Graduate School of Education</td>\n",
        "      <td>    Martin</td>\n",
        "      <td>                     Harvard University</td>\n",
        "      <td>             Ph.D.</td>\n",
        "      <td>              West</td>\n",
        "      <td>                     Visiting Scholar in Education</td>\n",
        "      <td> HARVARD UNIVERSITY</td>\n",
        "    </tr>\n",
        "    <tr>\n",
        "      <th>220</th>\n",
        "      <td> 1957</td>\n",
        "      <td>  Harvard Graduate School of Education</td>\n",
        "      <td>      Dean</td>\n",
        "      <td>                 University of Nebraska</td>\n",
        "      <td>             Ph.D.</td>\n",
        "      <td>            Whitla</td>\n",
        "      <td>                             Lecturer on Education</td>\n",
        "      <td> HARVARD UNIVERSITY</td>\n",
        "    </tr>\n",
        "    <tr>\n",
        "      <th>221</th>\n",
        "      <td> 1985</td>\n",
        "      <td>  Harvard Graduate School of Education</td>\n",
        "      <td>      John</td>\n",
        "      <td>                    Stanford University</td>\n",
        "      <td>             Ph.D.</td>\n",
        "      <td>           Willett</td>\n",
        "      <td>                     Visiting Scholar in Education</td>\n",
        "      <td> HARVARD UNIVERSITY</td>\n",
        "    </tr>\n",
        "    <tr>\n",
        "      <th>222</th>\n",
        "      <td> 1957</td>\n",
        "      <td>  Harvard Graduate School of Education</td>\n",
        "      <td>   Charles</td>\n",
        "      <td>                    Syracuse University</td>\n",
        "      <td>             Ph.D.</td>\n",
        "      <td>            Willie</td>\n",
        "      <td>                     Visiting Scholar in Education</td>\n",
        "      <td> HARVARD UNIVERSITY</td>\n",
        "    </tr>\n",
        "  </tbody>\n",
        "</table>\n",
        "<p>223 rows \u00d7 8 columns</p>\n",
        "</div>"
       ],
       "metadata": {},
       "output_type": "pyout",
       "prompt_number": 212,
       "text": [
        "    Grad_Yr                             department  firstname  \\\n",
        "0      1999   Harvard Graduate School of Education    Alberto   \n",
        "1      2013   Harvard Graduate School of Education      Emily   \n",
        "2      1995   Harvard Graduate School of Education     Lauren   \n",
        "3             Harvard Graduate School of Education     Mitsue   \n",
        "4      2006   Harvard Graduate School of Education     Andres   \n",
        "5             Harvard Graduate School of Education       Arif   \n",
        "6             Harvard Graduate School of Education     Chiwen   \n",
        "7      1993   Harvard Graduate School of Education     Dennis   \n",
        "8      2003   Harvard Graduate School of Education     Felipe   \n",
        "9      1971   Harvard Graduate School of Education    William   \n",
        "10     1986   Harvard Graduate School of Education     Janine   \n",
        "11     1990   Harvard Graduate School of Education        Ron   \n",
        "12     1977   Harvard Graduate School of Education     Joseph   \n",
        "13     2002   Harvard Graduate School of Education       Tina   \n",
        "14     2014   Harvard Graduate School of Education    Candice   \n",
        "15     2006   Harvard Graduate School of Education       Lisa   \n",
        "16     1991   Harvard Graduate School of Education  Katherine   \n",
        "17     1998   Harvard Graduate School of Education    Kathryn   \n",
        "18            Harvard Graduate School of Education    Jocelyn   \n",
        "19     2012   Harvard Graduate School of Education      Karen   \n",
        "20     2008   Harvard Graduate School of Education      Ebony   \n",
        "21     2013   Harvard Graduate School of Education   Gretchen   \n",
        "22     2007   Harvard Graduate School of Education       Mary   \n",
        "23            Harvard Graduate School of Education    Eduardo   \n",
        "24     1971   Harvard Graduate School of Education      Susan   \n",
        "25     1965   Harvard Graduate School of Education   Courtney   \n",
        "26     1972   Harvard Graduate School of Education    Richard   \n",
        "27            Harvard Graduate School of Education         Si   \n",
        "28            Harvard Graduate School of Education     Xinkui   \n",
        "29     2003   Harvard Graduate School of Education        Raj   \n",
        "..      ...                                    ...        ...   \n",
        "193    2010   Harvard Graduate School of Education       Beth   \n",
        "194    2005   Harvard Graduate School of Education       Karl   \n",
        "195    1983   Harvard Graduate School of Education     Judith   \n",
        "196           Harvard Graduate School of Education   Jonathan   \n",
        "197    1970   Harvard Graduate School of Education       Mike   \n",
        "198    1971   Harvard Graduate School of Education  Catherine   \n",
        "199    1978   Harvard Graduate School of Education      Nancy   \n",
        "200           Harvard Graduate School of Education   Yingquan   \n",
        "201    1978   Harvard Graduate School of Education  Elizabeth   \n",
        "202    2001   Harvard Graduate School of Education        Jon   \n",
        "203           Harvard Graduate School of Education       Eric   \n",
        "204    1988   Harvard Graduate School of Education        Lee   \n",
        "205           Harvard Graduate School of Education   Meredith   \n",
        "206    1991   Harvard Graduate School of Education      Shari   \n",
        "207    1980   Harvard Graduate School of Education   Terrence   \n",
        "208    1998   Harvard Graduate School of Education    Barbara   \n",
        "209    2010   Harvard Graduate School of Education   Kimberly   \n",
        "210    1976   Harvard Graduate School of Education    Michael   \n",
        "211           Harvard Graduate School of Education    Michael   \n",
        "212    2003   Harvard Graduate School of Education      Paola   \n",
        "213    1980   Harvard Graduate School of Education      David   \n",
        "214           Harvard Graduate School of Education     Marcus   \n",
        "215           Harvard Graduate School of Education    Minhong   \n",
        "216    2005   Harvard Graduate School of Education    Natasha   \n",
        "217           Harvard Graduate School of Education  Christina   \n",
        "218    1987   Harvard Graduate School of Education    Richard   \n",
        "219    2006   Harvard Graduate School of Education     Martin   \n",
        "220    1957   Harvard Graduate School of Education       Dean   \n",
        "221    1985   Harvard Graduate School of Education       John   \n",
        "222    1957   Harvard Graduate School of Education    Charles   \n",
        "\n",
        "                                grad_school     highest_degree  \\\n",
        "0     Massachusetts Institute of Technology              Ph.D.   \n",
        "1                  Arizona State University              Ph.D.   \n",
        "2                           Simmons College               M.A.   \n",
        "3                         NO INFO AVAILABLE  NO INFO AVAILABLE   \n",
        "4                        Harvard University              Ed.D.   \n",
        "5                         NO INFO AVAILABLE  NO INFO AVAILABLE   \n",
        "6                         NO INFO AVAILABLE  NO INFO AVAILABLE   \n",
        "7                        Harvard University              Ed.D.   \n",
        "8                    University of Maryland              Ph.D.   \n",
        "9           Case Western Reserve University               M.D.   \n",
        "10                       Harvard University              Ed.D.   \n",
        "11                       Harvard University              Ed.M.   \n",
        "12                       Harvard University              Ed.M.   \n",
        "13                       Harvard University              Ed.M.   \n",
        "14                       Harvard University              Ed.D.   \n",
        "15                       Harvard University              Ed.D.   \n",
        "16                       Harvard University              Ed.D.   \n",
        "17                       Harvard University              Ph.D.   \n",
        "18                        NO INFO AVAILABLE  NO INFO AVAILABLE   \n",
        "19    Massachusetts Institute of Technology              Ph.D.   \n",
        "20                      New York University              Ph.D.   \n",
        "21     Harvard Graduate School of Education              Ed.D.   \n",
        "22                          Pace University             M.A.T.   \n",
        "23                        NO INFO AVAILABLE  NO INFO AVAILABLE   \n",
        "24                       Harvard University              Ph.D.   \n",
        "25                       Harvard University              Ed.D.   \n",
        "26                  University of Wisconsin              Ph.D.   \n",
        "27                        NO INFO AVAILABLE  NO INFO AVAILABLE   \n",
        "28                        NO INFO AVAILABLE  NO INFO AVAILABLE   \n",
        "29                       Harvard University              Ph.D.   \n",
        "..                                      ...                ...   \n",
        "193                      Harvard University              Ed.M.   \n",
        "194                      Harvard University             M.T.S.   \n",
        "195                      Harvard University              Ph.D.   \n",
        "196                       NO INFO AVAILABLE  NO INFO AVAILABLE   \n",
        "197                      Harvard University              Ed.D.   \n",
        "198                       McGill University              Ph.D.   \n",
        "199                       Boston University              Ed.D.   \n",
        "200                       NO INFO AVAILABLE  NO INFO AVAILABLE   \n",
        "201                      Cornell University              Ph.D.   \n",
        "202                  University of Michigan              Ph.D.   \n",
        "203                       NO INFO AVAILABLE  NO INFO AVAILABLE   \n",
        "204                      Harvard University              Ed.D.   \n",
        "205                       NO INFO AVAILABLE  NO INFO AVAILABLE   \n",
        "206                      Harvard University              Ed.D.   \n",
        "207                      Harvard University              Ed.D.   \n",
        "208                      Harvard University              Ed.M.   \n",
        "209              University of Pennsylvania              Ph.D.   \n",
        "210   Massachusetts Institute of Technology              Ph.D.   \n",
        "211                       NO INFO AVAILABLE  NO INFO AVAILABLE   \n",
        "212                      Harvard University              Ed.D.   \n",
        "213                     Stanford University               M.D.   \n",
        "214                       NO INFO AVAILABLE  NO INFO AVAILABLE   \n",
        "215                       NO INFO AVAILABLE  NO INFO AVAILABLE   \n",
        "216                      Harvard University              Ph.D.   \n",
        "217                       NO INFO AVAILABLE  NO INFO AVAILABLE   \n",
        "218                      Harvard University              Ed.D.   \n",
        "219                      Harvard University              Ph.D.   \n",
        "220                  University of Nebraska              Ph.D.   \n",
        "221                     Stanford University              Ph.D.   \n",
        "222                     Syracuse University              Ph.D.   \n",
        "\n",
        "              lastname                                              title  \\\n",
        "0               Abadie                 Member of the Faculty of Education   \n",
        "1               Ackman                   Postdoctoral Fellow in Education   \n",
        "2                Adams                      Adjunct Lecturer on Education   \n",
        "3          Allen-Tamai                              Professor of Practice   \n",
        "4               Alonso                      Visiting Scholar in Education   \n",
        "5                Altun                       Visiting Fellow in Education   \n",
        "6                  Bao                      Adjunct Lecturer on Education   \n",
        "7                 Barr     Assistant Professor of Education and Economics   \n",
        "8       Barrera-Osorio                 Member of the Faculty of Education   \n",
        "9            Beardslee                      Visiting Scholar in Education   \n",
        "10           Bempechat                      Adjunct Lecturer on Education   \n",
        "11              Berger                       Senior Lecturer on Education   \n",
        "12               Blatt                      Adjunct Lecturer on Education   \n",
        "13              Blythe                      Adjunct Lecturer on Education   \n",
        "14              Bocala                      Adjunct Lecturer on Education   \n",
        "15                Boes                       Senior Lecturer on Education   \n",
        "16               Boles                              Lecturer on Education   \n",
        "17             Boudett                   Postdoctoral Fellow in Education   \n",
        "18               Bowne                   Assistant Professor of Education   \n",
        "19             Brennan                   Assistant Professor of Education   \n",
        "20   Bridwell-Mitchell                              Lecturer on Education   \n",
        "21       Brion-Meisels                            Instructor in Education   \n",
        "22          Burkhauser                      Visiting Scholar in Education   \n",
        "23            Oliveira                 Member of the Faculty of Education   \n",
        "24               Carey  Charles William Eliot Professor of Education, ...   \n",
        "25              Cazden                   Professor of Education, Emeritus   \n",
        "26               Chait                   Postdoctoral Fellow in Education   \n",
        "27                Chen                      Visiting Scholar in Education   \n",
        "28                Chen                 Member of the Faculty of Education   \n",
        "29              Chetty                      Adjunct Lecturer on Education   \n",
        "..                 ...                                                ...   \n",
        "193            Simpson     Patricia Albjerg Graham Professor of Education   \n",
        "194            Sineath                      Adjunct Lecturer on Education   \n",
        "195             Singer                      Visiting Scholar in Education   \n",
        "196             Slater                 Member of the Faculty of Education   \n",
        "197              Smith  Nancy Pforzheimer Aronson Associate Professor ...   \n",
        "198               Snow                              Lecturer on Education   \n",
        "199            Sommers                   Postdoctoral Fellow in Education   \n",
        "200               Song                              Lecturer on Education   \n",
        "201             Spelke                              Lecturer on Education   \n",
        "202               Star                      Adjunct Lecturer on Education   \n",
        "203             Taylor                      Adjunct Lecturer on Education   \n",
        "204             Teitel                 Member of the Faculty of Education   \n",
        "205           Thompson  Lecturer on Education, Postdoctoral Fellow in ...   \n",
        "206            Tishman                   Associate Professor of Education   \n",
        "207             Tivnan                 Member of the Faculty of Education   \n",
        "208             Treacy                      Adjunct Lecturer on Education   \n",
        "209             Truong                      Visiting Scholar in Education   \n",
        "210            Tushman                   Associate Professor of Education   \n",
        "211           Tutwiler                      Visiting Scholar in Education   \n",
        "212            Uccelli                       Senior Lecturer on Education   \n",
        "213              Urion                   Associate Professor of Education   \n",
        "214             Walker  Charles William Eliot Research Professor of Ed...   \n",
        "215               Wang  Charles William Eliot Professor of Education, ...   \n",
        "216            Warikoo                              Lecturer on Education   \n",
        "217            Weiland             Senior Research Associate in Education   \n",
        "218         Weissbourd                      Visiting Scholar in Education   \n",
        "219               West                      Visiting Scholar in Education   \n",
        "220             Whitla                              Lecturer on Education   \n",
        "221            Willett                      Visiting Scholar in Education   \n",
        "222             Willie                      Visiting Scholar in Education   \n",
        "\n",
        "             university  \n",
        "0    HARVARD UNIVERSITY  \n",
        "1    HARVARD UNIVERSITY  \n",
        "2    HARVARD UNIVERSITY  \n",
        "3    HARVARD UNIVERSITY  \n",
        "4    HARVARD UNIVERSITY  \n",
        "5    HARVARD UNIVERSITY  \n",
        "6    HARVARD UNIVERSITY  \n",
        "7    HARVARD UNIVERSITY  \n",
        "8    HARVARD UNIVERSITY  \n",
        "9    HARVARD UNIVERSITY  \n",
        "10   HARVARD UNIVERSITY  \n",
        "11   HARVARD UNIVERSITY  \n",
        "12   HARVARD UNIVERSITY  \n",
        "13   HARVARD UNIVERSITY  \n",
        "14   HARVARD UNIVERSITY  \n",
        "15   HARVARD UNIVERSITY  \n",
        "16   HARVARD UNIVERSITY  \n",
        "17   HARVARD UNIVERSITY  \n",
        "18   HARVARD UNIVERSITY  \n",
        "19   HARVARD UNIVERSITY  \n",
        "20   HARVARD UNIVERSITY  \n",
        "21   HARVARD UNIVERSITY  \n",
        "22   HARVARD UNIVERSITY  \n",
        "23   HARVARD UNIVERSITY  \n",
        "24   HARVARD UNIVERSITY  \n",
        "25   HARVARD UNIVERSITY  \n",
        "26   HARVARD UNIVERSITY  \n",
        "27   HARVARD UNIVERSITY  \n",
        "28   HARVARD UNIVERSITY  \n",
        "29   HARVARD UNIVERSITY  \n",
        "..                  ...  \n",
        "193  HARVARD UNIVERSITY  \n",
        "194  HARVARD UNIVERSITY  \n",
        "195  HARVARD UNIVERSITY  \n",
        "196  HARVARD UNIVERSITY  \n",
        "197  HARVARD UNIVERSITY  \n",
        "198  HARVARD UNIVERSITY  \n",
        "199  HARVARD UNIVERSITY  \n",
        "200  HARVARD UNIVERSITY  \n",
        "201  HARVARD UNIVERSITY  \n",
        "202  HARVARD UNIVERSITY  \n",
        "203  HARVARD UNIVERSITY  \n",
        "204  HARVARD UNIVERSITY  \n",
        "205  HARVARD UNIVERSITY  \n",
        "206  HARVARD UNIVERSITY  \n",
        "207  HARVARD UNIVERSITY  \n",
        "208  HARVARD UNIVERSITY  \n",
        "209  HARVARD UNIVERSITY  \n",
        "210  HARVARD UNIVERSITY  \n",
        "211  HARVARD UNIVERSITY  \n",
        "212  HARVARD UNIVERSITY  \n",
        "213  HARVARD UNIVERSITY  \n",
        "214  HARVARD UNIVERSITY  \n",
        "215  HARVARD UNIVERSITY  \n",
        "216  HARVARD UNIVERSITY  \n",
        "217  HARVARD UNIVERSITY  \n",
        "218  HARVARD UNIVERSITY  \n",
        "219  HARVARD UNIVERSITY  \n",
        "220  HARVARD UNIVERSITY  \n",
        "221  HARVARD UNIVERSITY  \n",
        "222  HARVARD UNIVERSITY  \n",
        "\n",
        "[223 rows x 8 columns]"
       ]
      }
     ],
     "prompt_number": 212
    },
    {
     "cell_type": "code",
     "collapsed": false,
     "input": [],
     "language": "python",
     "metadata": {},
     "outputs": []
    },
    {
     "cell_type": "code",
     "collapsed": false,
     "input": [
      "df.to_csv(\"C:\\Users\\Win7\\Desktop\\\\tanmay_final.csv\")"
     ],
     "language": "python",
     "metadata": {},
     "outputs": [],
     "prompt_number": 196
    },
    {
     "cell_type": "code",
     "collapsed": false,
     "input": [
      "dict"
     ],
     "language": "python",
     "metadata": {},
     "outputs": [
      {
       "metadata": {},
       "output_type": "pyout",
       "prompt_number": 220,
       "text": [
        "{'Grad_Yr': ['1999',\n",
        "  '2013',\n",
        "  '1995',\n",
        "  '',\n",
        "  '2006',\n",
        "  '',\n",
        "  '',\n",
        "  '1993',\n",
        "  '2003',\n",
        "  '1971',\n",
        "  '1986',\n",
        "  '1990',\n",
        "  '1977',\n",
        "  '2002',\n",
        "  '2014',\n",
        "  '2006',\n",
        "  '1991',\n",
        "  '1998',\n",
        "  '',\n",
        "  '2012',\n",
        "  '2008',\n",
        "  '2013',\n",
        "  '2007',\n",
        "  '',\n",
        "  '1971',\n",
        "  '1965',\n",
        "  '1972',\n",
        "  '',\n",
        "  '',\n",
        "  '2003',\n",
        "  '2010',\n",
        "  '2007',\n",
        "  '2014',\n",
        "  '1990',\n",
        "  '',\n",
        "  '2009',\n",
        "  '2014',\n",
        "  '2012',\n",
        "  '1972',\n",
        "  '',\n",
        "  '2010',\n",
        "  '',\n",
        "  '1988',\n",
        "  '2009',\n",
        "  '1977',\n",
        "  '2012',\n",
        "  '1999',\n",
        "  '',\n",
        "  '',\n",
        "  '1975',\n",
        "  '',\n",
        "  '1976',\n",
        "  '',\n",
        "  '2014',\n",
        "  '1981',\n",
        "  '',\n",
        "  '1971',\n",
        "  '2007',\n",
        "  '2002',\n",
        "  '',\n",
        "  '',\n",
        "  '2004',\n",
        "  '1981',\n",
        "  '1987',\n",
        "  '2000',\n",
        "  '1971',\n",
        "  '',\n",
        "  '2004',\n",
        "  '1962',\n",
        "  '2008',\n",
        "  '',\n",
        "  '1983',\n",
        "  '2006',\n",
        "  '',\n",
        "  '1964',\n",
        "  '2006',\n",
        "  '1993',\n",
        "  '1975',\n",
        "  '',\n",
        "  '2008',\n",
        "  '',\n",
        "  '1971',\n",
        "  '1985',\n",
        "  '1990',\n",
        "  '2003',\n",
        "  '1997',\n",
        "  '1995',\n",
        "  '2000',\n",
        "  '1994',\n",
        "  '2012',\n",
        "  '2005',\n",
        "  '1979',\n",
        "  '1971',\n",
        "  '',\n",
        "  '1989',\n",
        "  '1995',\n",
        "  '1986',\n",
        "  '1986',\n",
        "  '2003',\n",
        "  '1995',\n",
        "  '1981',\n",
        "  '2002',\n",
        "  '1996',\n",
        "  '1980',\n",
        "  '1991',\n",
        "  '1977',\n",
        "  '',\n",
        "  '1993',\n",
        "  '',\n",
        "  '2002',\n",
        "  '2005',\n",
        "  '1978',\n",
        "  '1986',\n",
        "  '512',\n",
        "  '',\n",
        "  '1972',\n",
        "  '2011',\n",
        "  '2003',\n",
        "  '2001',\n",
        "  '2003',\n",
        "  '1958',\n",
        "  '1997',\n",
        "  '1969',\n",
        "  '2014',\n",
        "  '',\n",
        "  '2000',\n",
        "  '2008',\n",
        "  '2006',\n",
        "  '2007',\n",
        "  '1999',\n",
        "  '1975',\n",
        "  '1982',\n",
        "  '2013',\n",
        "  '2010',\n",
        "  '1963',\n",
        "  '2004',\n",
        "  '1983',\n",
        "  '2006',\n",
        "  '1977',\n",
        "  '1980',\n",
        "  '1982',\n",
        "  '2007',\n",
        "  '',\n",
        "  '1979',\n",
        "  '1989',\n",
        "  '1993',\n",
        "  '1973',\n",
        "  '',\n",
        "  '1974',\n",
        "  '1973',\n",
        "  '1995',\n",
        "  '1981',\n",
        "  '1988',\n",
        "  '1991',\n",
        "  '1981',\n",
        "  '1990',\n",
        "  '',\n",
        "  '2004',\n",
        "  '1970',\n",
        "  '1981',\n",
        "  '1952',\n",
        "  '2001',\n",
        "  '2007',\n",
        "  '2005',\n",
        "  '',\n",
        "  '1988',\n",
        "  '1990',\n",
        "  '1974',\n",
        "  '2007',\n",
        "  '1971',\n",
        "  '1990',\n",
        "  '1991',\n",
        "  '',\n",
        "  '1976',\n",
        "  '2007',\n",
        "  '1963',\n",
        "  '2003',\n",
        "  '',\n",
        "  '1992',\n",
        "  '1996',\n",
        "  '2004',\n",
        "  '2014',\n",
        "  '',\n",
        "  '1995',\n",
        "  '',\n",
        "  '1963',\n",
        "  '1962',\n",
        "  '1995',\n",
        "  '2008',\n",
        "  '1969',\n",
        "  '2013',\n",
        "  '',\n",
        "  '1972',\n",
        "  '2010',\n",
        "  '2005',\n",
        "  '1983',\n",
        "  '',\n",
        "  '1970',\n",
        "  '1971',\n",
        "  '1978',\n",
        "  '',\n",
        "  '1978',\n",
        "  '2001',\n",
        "  '',\n",
        "  '1988',\n",
        "  '',\n",
        "  '1991',\n",
        "  '1980',\n",
        "  '1998',\n",
        "  '2010',\n",
        "  '1976',\n",
        "  '',\n",
        "  '2003',\n",
        "  '1980',\n",
        "  '',\n",
        "  '',\n",
        "  '2005',\n",
        "  '',\n",
        "  '1987',\n",
        "  '2006',\n",
        "  '1957',\n",
        "  '1985',\n",
        "  '1957'],\n",
        " 'department': [' Harvard Graduate School of Education',\n",
        "  ' Harvard Graduate School of Education',\n",
        "  ' Harvard Graduate School of Education',\n",
        "  ' Harvard Graduate School of Education',\n",
        "  ' Harvard Graduate School of Education',\n",
        "  ' Harvard Graduate School of Education',\n",
        "  ' Harvard Graduate School of Education',\n",
        "  ' Harvard Graduate School of Education',\n",
        "  ' Harvard Graduate School of Education',\n",
        "  ' Harvard Graduate School of Education',\n",
        "  ' Harvard Graduate School of Education',\n",
        "  ' Harvard Graduate School of Education',\n",
        "  ' Harvard Graduate School of Education',\n",
        "  ' Harvard Graduate School of Education',\n",
        "  ' Harvard Graduate School of Education',\n",
        "  ' Harvard Graduate School of Education',\n",
        "  ' Harvard Graduate School of Education',\n",
        "  ' Harvard Graduate School of Education',\n",
        "  ' Harvard Graduate School of Education',\n",
        "  ' Harvard Graduate School of Education',\n",
        "  ' Harvard Graduate School of Education',\n",
        "  ' Harvard Graduate School of Education',\n",
        "  ' Harvard Graduate School of Education',\n",
        "  ' Harvard Graduate School of Education',\n",
        "  ' Harvard Graduate School of Education',\n",
        "  ' Harvard Graduate School of Education',\n",
        "  ' Harvard Graduate School of Education',\n",
        "  ' Harvard Graduate School of Education',\n",
        "  ' Harvard Graduate School of Education',\n",
        "  ' Harvard Graduate School of Education',\n",
        "  ' Harvard Graduate School of Education',\n",
        "  ' Harvard Graduate School of Education',\n",
        "  ' Harvard Graduate School of Education',\n",
        "  ' Harvard Graduate School of Education',\n",
        "  ' Harvard Graduate School of Education',\n",
        "  ' Harvard Graduate School of Education',\n",
        "  ' Harvard Graduate School of Education',\n",
        "  ' Harvard Graduate School of Education',\n",
        "  ' Harvard Graduate School of Education',\n",
        "  ' Harvard Graduate School of Education',\n",
        "  ' Harvard Graduate School of Education',\n",
        "  ' Harvard Graduate School of Education',\n",
        "  ' Harvard Graduate School of Education',\n",
        "  ' Harvard Graduate School of Education',\n",
        "  ' Harvard Graduate School of Education',\n",
        "  ' Harvard Graduate School of Education',\n",
        "  ' Harvard Graduate School of Education',\n",
        "  ' Harvard Graduate School of Education',\n",
        "  ' Harvard Graduate School of Education',\n",
        "  ' Harvard Graduate School of Education',\n",
        "  ' Harvard Graduate School of Education',\n",
        "  ' Harvard Graduate School of Education',\n",
        "  ' Harvard Graduate School of Education',\n",
        "  ' Harvard Graduate School of Education',\n",
        "  ' Harvard Graduate School of Education',\n",
        "  ' Harvard Graduate School of Education',\n",
        "  ' Harvard Graduate School of Education',\n",
        "  ' Harvard Graduate School of Education',\n",
        "  ' Harvard Graduate School of Education',\n",
        "  ' Harvard Graduate School of Education',\n",
        "  ' Harvard Graduate School of Education',\n",
        "  ' Harvard Graduate School of Education',\n",
        "  ' Harvard Graduate School of Education',\n",
        "  ' Harvard Graduate School of Education',\n",
        "  ' Harvard Graduate School of Education',\n",
        "  ' Harvard Graduate School of Education',\n",
        "  ' Harvard Graduate School of Education',\n",
        "  ' Harvard Graduate School of Education',\n",
        "  ' Harvard Graduate School of Education',\n",
        "  ' Harvard Graduate School of Education',\n",
        "  ' Harvard Graduate School of Education',\n",
        "  ' Harvard Graduate School of Education',\n",
        "  ' Harvard Graduate School of Education',\n",
        "  ' Harvard Graduate School of Education',\n",
        "  ' Harvard Graduate School of Education',\n",
        "  ' Harvard Graduate School of Education',\n",
        "  ' Harvard Graduate School of Education',\n",
        "  ' Harvard Graduate School of Education',\n",
        "  ' Harvard Graduate School of Education',\n",
        "  ' Harvard Graduate School of Education',\n",
        "  ' Harvard Graduate School of Education',\n",
        "  ' Harvard Graduate School of Education',\n",
        "  ' Harvard Graduate School of Education',\n",
        "  ' Harvard Graduate School of Education',\n",
        "  ' Harvard Graduate School of Education',\n",
        "  ' Harvard Graduate School of Education',\n",
        "  ' Harvard Graduate School of Education',\n",
        "  ' Harvard Graduate School of Education',\n",
        "  ' Harvard Graduate School of Education',\n",
        "  ' Harvard Graduate School of Education',\n",
        "  ' Harvard Graduate School of Education',\n",
        "  ' Harvard Graduate School of Education',\n",
        "  ' Harvard Graduate School of Education',\n",
        "  ' Harvard Graduate School of Education',\n",
        "  ' Harvard Graduate School of Education',\n",
        "  ' Harvard Graduate School of Education',\n",
        "  ' Harvard Graduate School of Education',\n",
        "  ' Harvard Graduate School of Education',\n",
        "  ' Harvard Graduate School of Education',\n",
        "  ' Harvard Graduate School of Education',\n",
        "  ' Harvard Graduate School of Education',\n",
        "  ' Harvard Graduate School of Education',\n",
        "  ' Harvard Graduate School of Education',\n",
        "  ' Harvard Graduate School of Education',\n",
        "  ' Harvard Graduate School of Education',\n",
        "  ' Harvard Graduate School of Education',\n",
        "  ' Harvard Graduate School of Education',\n",
        "  ' Harvard Graduate School of Education',\n",
        "  ' Harvard Graduate School of Education',\n",
        "  ' Harvard Graduate School of Education',\n",
        "  ' Harvard Graduate School of Education',\n",
        "  ' Harvard Graduate School of Education',\n",
        "  ' Harvard Graduate School of Education',\n",
        "  ' Harvard Graduate School of Education',\n",
        "  ' Harvard Graduate School of Education',\n",
        "  ' Harvard Graduate School of Education',\n",
        "  ' Harvard Graduate School of Education',\n",
        "  ' Harvard Graduate School of Education',\n",
        "  ' Harvard Graduate School of Education',\n",
        "  ' Harvard Graduate School of Education',\n",
        "  ' Harvard Graduate School of Education',\n",
        "  ' Harvard Graduate School of Education',\n",
        "  ' Harvard Graduate School of Education',\n",
        "  ' Harvard Graduate School of Education',\n",
        "  ' Harvard Graduate School of Education',\n",
        "  ' Harvard Graduate School of Education',\n",
        "  ' Harvard Graduate School of Education',\n",
        "  ' Harvard Graduate School of Education',\n",
        "  ' Harvard Graduate School of Education',\n",
        "  ' Harvard Graduate School of Education',\n",
        "  ' Harvard Graduate School of Education',\n",
        "  ' Harvard Graduate School of Education',\n",
        "  ' Harvard Graduate School of Education',\n",
        "  ' Harvard Graduate School of Education',\n",
        "  ' Harvard Graduate School of Education',\n",
        "  ' Harvard Graduate School of Education',\n",
        "  ' Harvard Graduate School of Education',\n",
        "  ' Harvard Graduate School of Education',\n",
        "  ' Harvard Graduate School of Education',\n",
        "  ' Harvard Graduate School of Education',\n",
        "  ' Harvard Graduate School of Education',\n",
        "  ' Harvard Graduate School of Education',\n",
        "  ' Harvard Graduate School of Education',\n",
        "  ' Harvard Graduate School of Education',\n",
        "  ' Harvard Graduate School of Education',\n",
        "  ' Harvard Graduate School of Education',\n",
        "  ' Harvard Graduate School of Education',\n",
        "  ' Harvard Graduate School of Education',\n",
        "  ' Harvard Graduate School of Education',\n",
        "  ' Harvard Graduate School of Education',\n",
        "  ' Harvard Graduate School of Education',\n",
        "  ' Harvard Graduate School of Education',\n",
        "  ' Harvard Graduate School of Education',\n",
        "  ' Harvard Graduate School of Education',\n",
        "  ' Harvard Graduate School of Education',\n",
        "  ' Harvard Graduate School of Education',\n",
        "  ' Harvard Graduate School of Education',\n",
        "  ' Harvard Graduate School of Education',\n",
        "  ' Harvard Graduate School of Education',\n",
        "  ' Harvard Graduate School of Education',\n",
        "  ' Harvard Graduate School of Education',\n",
        "  ' Harvard Graduate School of Education',\n",
        "  ' Harvard Graduate School of Education',\n",
        "  ' Harvard Graduate School of Education',\n",
        "  ' Harvard Graduate School of Education',\n",
        "  ' Harvard Graduate School of Education',\n",
        "  ' Harvard Graduate School of Education',\n",
        "  ' Harvard Graduate School of Education',\n",
        "  ' Harvard Graduate School of Education',\n",
        "  ' Harvard Graduate School of Education',\n",
        "  ' Harvard Graduate School of Education',\n",
        "  ' Harvard Graduate School of Education',\n",
        "  ' Harvard Graduate School of Education',\n",
        "  ' Harvard Graduate School of Education',\n",
        "  ' Harvard Graduate School of Education',\n",
        "  ' Harvard Graduate School of Education',\n",
        "  ' Harvard Graduate School of Education',\n",
        "  ' Harvard Graduate School of Education',\n",
        "  ' Harvard Graduate School of Education',\n",
        "  ' Harvard Graduate School of Education',\n",
        "  ' Harvard Graduate School of Education',\n",
        "  ' Harvard Graduate School of Education',\n",
        "  ' Harvard Graduate School of Education',\n",
        "  ' Harvard Graduate School of Education',\n",
        "  ' Harvard Graduate School of Education',\n",
        "  ' Harvard Graduate School of Education',\n",
        "  ' Harvard Graduate School of Education',\n",
        "  ' Harvard Graduate School of Education',\n",
        "  ' Harvard Graduate School of Education',\n",
        "  ' Harvard Graduate School of Education',\n",
        "  ' Harvard Graduate School of Education',\n",
        "  ' Harvard Graduate School of Education',\n",
        "  ' Harvard Graduate School of Education',\n",
        "  ' Harvard Graduate School of Education',\n",
        "  ' Harvard Graduate School of Education',\n",
        "  ' Harvard Graduate School of Education',\n",
        "  ' Harvard Graduate School of Education',\n",
        "  ' Harvard Graduate School of Education',\n",
        "  ' Harvard Graduate School of Education',\n",
        "  ' Harvard Graduate School of Education',\n",
        "  ' Harvard Graduate School of Education',\n",
        "  ' Harvard Graduate School of Education',\n",
        "  ' Harvard Graduate School of Education',\n",
        "  ' Harvard Graduate School of Education',\n",
        "  ' Harvard Graduate School of Education',\n",
        "  ' Harvard Graduate School of Education',\n",
        "  ' Harvard Graduate School of Education',\n",
        "  ' Harvard Graduate School of Education',\n",
        "  ' Harvard Graduate School of Education',\n",
        "  ' Harvard Graduate School of Education',\n",
        "  ' Harvard Graduate School of Education',\n",
        "  ' Harvard Graduate School of Education',\n",
        "  ' Harvard Graduate School of Education',\n",
        "  ' Harvard Graduate School of Education',\n",
        "  ' Harvard Graduate School of Education',\n",
        "  ' Harvard Graduate School of Education',\n",
        "  ' Harvard Graduate School of Education',\n",
        "  ' Harvard Graduate School of Education',\n",
        "  ' Harvard Graduate School of Education',\n",
        "  ' Harvard Graduate School of Education',\n",
        "  ' Harvard Graduate School of Education',\n",
        "  ' Harvard Graduate School of Education',\n",
        "  ' Harvard Graduate School of Education'],\n",
        " 'firstname': ['Alberto',\n",
        "  'Emily',\n",
        "  'Lauren',\n",
        "  'Mitsue',\n",
        "  'Andres',\n",
        "  'Arif',\n",
        "  'Chiwen',\n",
        "  'Dennis',\n",
        "  'Felipe',\n",
        "  'William',\n",
        "  'Janine',\n",
        "  'Ron',\n",
        "  'Joseph',\n",
        "  'Tina',\n",
        "  'Candice',\n",
        "  'Lisa',\n",
        "  'Katherine',\n",
        "  'Kathryn',\n",
        "  'Jocelyn',\n",
        "  'Karen',\n",
        "  'Ebony',\n",
        "  'Gretchen',\n",
        "  'Mary',\n",
        "  'Eduardo',\n",
        "  'Susan',\n",
        "  'Courtney',\n",
        "  'Richard',\n",
        "  'Si',\n",
        "  'Xinkui',\n",
        "  'Raj',\n",
        "  'Joanna',\n",
        "  'Elizabeth',\n",
        "  'Edward',\n",
        "  'Lee',\n",
        "  'David',\n",
        "  'Eduardo',\n",
        "  'Megan',\n",
        "  'Rachel',\n",
        "  'Christopher',\n",
        "  'Bruno',\n",
        "  'David',\n",
        "  'Eleanor',\n",
        "  'David',\n",
        "  'Sarah',\n",
        "  'Eleanor',\n",
        "  'Elizabeth',\n",
        "  'Susan',\n",
        "  'Hadas',\n",
        "  'Aaliyah',\n",
        "  'Catherine',\n",
        "  'Tracy',\n",
        "  'Richard',\n",
        "  'Charles',\n",
        "  'Beth',\n",
        "  'Ronald',\n",
        "  'Sarah',\n",
        "  'Kurt',\n",
        "  'Susan',\n",
        "  'Roland',\n",
        "  'Jon',\n",
        "  'Archon',\n",
        "  'Nadine',\n",
        "  'Chris',\n",
        "  'John',\n",
        "  'Marshall',\n",
        "  'Howard',\n",
        "  'Deborah',\n",
        "  'Hunter',\n",
        "  'Nathan',\n",
        "  'Roberto',\n",
        "  'Joshua',\n",
        "  'Robert',\n",
        "  'Adria',\n",
        "  'Emmanuele',\n",
        "  'Patricia',\n",
        "  'Daren',\n",
        "  'Tina',\n",
        "  'Betsy',\n",
        "  'Gregory',\n",
        "  'Wendy',\n",
        "  'Houman',\n",
        "  'Paul',\n",
        "  'Helen',\n",
        "  'Thomas',\n",
        "  'Deborah',\n",
        "  'Frederick',\n",
        "  'Monica',\n",
        "  'Heather',\n",
        "  'Nancy',\n",
        "  'Christina',\n",
        "  'Andrew',\n",
        "  'Jennifer',\n",
        "  'Nancy',\n",
        "  'Dennis',\n",
        "  'James',\n",
        "  'Haiyan',\n",
        "  'Robert',\n",
        "  'Vicki',\n",
        "  'Carrie',\n",
        "  'Deborah',\n",
        "  'Susan',\n",
        "  'Stephanie',\n",
        "  'David',\n",
        "  'Joseph',\n",
        "  'Thomas',\n",
        "  'Robert',\n",
        "  'Shabnam',\n",
        "  'Tarun',\n",
        "  'Ha',\n",
        "  'James',\n",
        "  'Josephine',\n",
        "  'Daniel',\n",
        "  'Lisa',\n",
        "  'Jonathan',\n",
        "  'Charles',\n",
        "  'Sara',\n",
        "  'Chad',\n",
        "  'Holly',\n",
        "  'Charles',\n",
        "  'Nonie',\n",
        "  'Robert',\n",
        "  'Meira',\n",
        "  'Richard',\n",
        "  'Jed',\n",
        "  'Zhi',\n",
        "  'Bridget',\n",
        "  'Gigi',\n",
        "  'Stephen',\n",
        "  'David',\n",
        "  'Karen',\n",
        "  'Pamela',\n",
        "  'Kathleen',\n",
        "  'Dana',\n",
        "  'Metta',\n",
        "  'Noel',\n",
        "  'Eileen',\n",
        "  'Judith',\n",
        "  'Jal',\n",
        "  'Lynn',\n",
        "  'Louis',\n",
        "  'Katherine',\n",
        "  'Lisa',\n",
        "  'Matthew',\n",
        "  'Martha',\n",
        "  'MAK',\n",
        "  'Maria',\n",
        "  'Mark',\n",
        "  'Adrienne',\n",
        "  'Richard',\n",
        "  'Jerome',\n",
        "  'Linda',\n",
        "  'Charles',\n",
        "  'Elisa',\n",
        "  'Nancy',\n",
        "  'Dennis',\n",
        "  'Mary',\n",
        "  'Ogi',\n",
        "  'Victor',\n",
        "  'David',\n",
        "  'Robert',\n",
        "  'Chester',\n",
        "  'Todd',\n",
        "  'Gabrielle',\n",
        "  'Christine',\n",
        "  'Justin',\n",
        "  'Fernando',\n",
        "  'Julie',\n",
        "  'Paul',\n",
        "  'Noel',\n",
        "  'John',\n",
        "  'Saiyid',\n",
        "  'Lolly',\n",
        "  'Vanessa',\n",
        "  'David',\n",
        "  'L.',\n",
        "  'Richard',\n",
        "  'Meredith',\n",
        "  'Noah',\n",
        "  'James',\n",
        "  'Pasi',\n",
        "  'Mandy',\n",
        "  'Laura',\n",
        "  'Rhoda',\n",
        "  'Lisa',\n",
        "  'Matthew',\n",
        "  'Judah',\n",
        "  'Robert',\n",
        "  'Steven',\n",
        "  'Scott',\n",
        "  'Robert',\n",
        "  'Eric',\n",
        "  'Margaret',\n",
        "  'Jack',\n",
        "  'Beth',\n",
        "  'Karl',\n",
        "  'Judith',\n",
        "  'Jonathan',\n",
        "  'Mike',\n",
        "  'Catherine',\n",
        "  'Nancy',\n",
        "  'Yingquan',\n",
        "  'Elizabeth',\n",
        "  'Jon',\n",
        "  'Eric',\n",
        "  'Lee',\n",
        "  'Meredith',\n",
        "  'Shari',\n",
        "  'Terrence',\n",
        "  'Barbara',\n",
        "  'Kimberly',\n",
        "  'Michael',\n",
        "  'Michael',\n",
        "  'Paola',\n",
        "  'David',\n",
        "  'Marcus',\n",
        "  'Minhong',\n",
        "  'Natasha',\n",
        "  'Christina',\n",
        "  'Richard',\n",
        "  'Martin',\n",
        "  'Dean',\n",
        "  'John',\n",
        "  'Charles'],\n",
        " 'grad_school': [' Massachusetts Institute of Technology',\n",
        "  ' Arizona State University',\n",
        "  ' Simmons College',\n",
        "  'NO INFO AVAILABLE',\n",
        "  ' Harvard University',\n",
        "  'NO INFO AVAILABLE',\n",
        "  'NO INFO AVAILABLE',\n",
        "  ' Harvard University',\n",
        "  ' University of Maryland',\n",
        "  ' Case Western Reserve University',\n",
        "  ' Harvard University',\n",
        "  ' Harvard University',\n",
        "  ' Harvard University',\n",
        "  ' Harvard University',\n",
        "  ' Harvard University',\n",
        "  ' Harvard University',\n",
        "  ' Harvard University',\n",
        "  ' Harvard University',\n",
        "  'NO INFO AVAILABLE',\n",
        "  ' Massachusetts Institute of Technology',\n",
        "  ' New York University',\n",
        "  ' Harvard Graduate School of Education',\n",
        "  ' Pace University',\n",
        "  'NO INFO AVAILABLE',\n",
        "  ' Harvard University',\n",
        "  ' Harvard University',\n",
        "  ' University of Wisconsin',\n",
        "  'NO INFO AVAILABLE',\n",
        "  'NO INFO AVAILABLE',\n",
        "  ' Harvard University',\n",
        "  ' Harvard University',\n",
        "  ' Harvard University',\n",
        "  ' Harvard University',\n",
        "  ' Harvard University',\n",
        "  'NO INFO AVAILABLE',\n",
        "  ' Harvard University',\n",
        "  ' University of Ottawa',\n",
        "  ' Harvard University',\n",
        "  ' University of Massachusetts',\n",
        "  'NO INFO AVAILABLE',\n",
        "  ' Harvard University',\n",
        "  'NO INFO AVAILABLE',\n",
        "  ' Harvard University',\n",
        "  ' Harvard University',\n",
        "  ' Universit\\xc3\\xa9 de Gen\\xc3\\xa8ve',\n",
        "  ' Harvard University',\n",
        "  ' Harvard University',\n",
        "  'NO INFO AVAILABLE',\n",
        "  ' Harvard University',\n",
        "  ' Brandeis University',\n",
        "  ' Harvard University',\n",
        "  ' Harvard University',\n",
        "  'NO INFO AVAILABLE',\n",
        "  ' Harvard University',\n",
        "  ' Massachusetts Institute of Technology',\n",
        "  'NO INFO AVAILABLE',\n",
        "  ' Harvard University',\n",
        "  ' University of Maine',\n",
        "  ' The Pennsylvania State University',\n",
        "  ' Harvard University',\n",
        "  'NO INFO AVAILABLE',\n",
        "  ' University of Z\\xc3\\xbcrich',\n",
        "  ' ',\n",
        "  ' Massachusetts Institute of Technology',\n",
        "  ' Harvard University',\n",
        "  ' Harvard University',\n",
        "  ' Harvard University',\n",
        "  ' Stanford University',\n",
        "  ' Columbia University',\n",
        "  ' University of California',\n",
        "  'NO INFO AVAILABLE',\n",
        "  ' Harvard University',\n",
        "  ' Boston College',\n",
        "  'NO INFO AVAILABLE',\n",
        "  ' Columbia University',\n",
        "  ' Harvard University',\n",
        "  ' Harvard University',\n",
        "  ' Boston University',\n",
        "  'NO INFO AVAILABLE',\n",
        "  ' Harvard University',\n",
        "  'NO INFO AVAILABLE',\n",
        "  ' Oxford University',\n",
        "  ' University of Bath',\n",
        "  ' Harvard University',\n",
        "  ' Harvard Graduate School of Education',\n",
        "  ' Harvard University',\n",
        "  ' Amos Tuck School of Business Administration;\\xc2\\xa0M.A.',\n",
        "  ' University of Michigan',\n",
        "  ' Michigan State University',\n",
        "  ' Harvard University',\n",
        "  ' Stanford University',\n",
        "  ' Yale University',\n",
        "  ' University of California',\n",
        "  'NO INFO AVAILABLE',\n",
        "  ' Harvard University',\n",
        "  ' Harvard University',\n",
        "  ' University of Virginia',\n",
        "  ' Harvard University',\n",
        "  ' New York University',\n",
        "  ' Harvard University',\n",
        "  ' Harvard University',\n",
        "  ' Yale University',\n",
        "  ' Harvard University',\n",
        "  ' University of California',\n",
        "  ' Harvard University',\n",
        "  ' Harvard University',\n",
        "  'NO INFO AVAILABLE',\n",
        "  ' Harvard University',\n",
        "  'NO INFO AVAILABLE',\n",
        "  ' Harvard University',\n",
        "  ' University of Virginia',\n",
        "  ' Cornell University',\n",
        "  ' Harvard University',\n",
        "  'NA',\n",
        "  ' Harvard University',\n",
        "  ' Harvard University',\n",
        "  ' Harvard University',\n",
        "  ' New School for Social Research',\n",
        "  ' The Ohio State University',\n",
        "  ' University of British Columbia',\n",
        "  ' Harvard University',\n",
        "  ' University of Oxford',\n",
        "  ' Harvard University',\n",
        "  ' Harvard University',\n",
        "  'NO INFO AVAILABLE',\n",
        "  ' Harvard University',\n",
        "  ' York University',\n",
        "  ' Boston College',\n",
        "  ' Harvard University',\n",
        "  ' Harvard University',\n",
        "  ' Harvard University',\n",
        "  ' Yale University',\n",
        "  ' New York University',\n",
        "  ' Harvard University',\n",
        "  ' University of Michigan',\n",
        "  ' Harvard University',\n",
        "  ' Harvard University',\n",
        "  ' Harvard University',\n",
        "  ' University of Witwatersrand',\n",
        "  ' Columbia University',\n",
        "  ' Harvard University',\n",
        "  ' Harvard Univesity',\n",
        "  ' Harvard University;\\xc2\\xa0B.A.',\n",
        "  ' Yale University; Ed.M.',\n",
        "  ' Harvard University',\n",
        "  ' City University of New York',\n",
        "  ' Harvard University',\n",
        "  ' Georgetown University',\n",
        "  ' Yale University',\n",
        "  ' Harvard University',\n",
        "  ' Harvard University',\n",
        "  ' University of Kansas',\n",
        "  ' Columbia University',\n",
        "  ' University of Chicago',\n",
        "  ' Harvard University',\n",
        "  ' University of Massachusetts',\n",
        "  'NO INFO AVAILABLE',\n",
        "  ' Boston College',\n",
        "  ' Massachusetts Institute of Technology',\n",
        "  ' University of Massachusetts',\n",
        "  ' Harvard University',\n",
        "  ' Harvard University',\n",
        "  ' Harvard University',\n",
        "  ' Lesley University',\n",
        "  'NO INFO AVAILABLE',\n",
        "  ' Harvard University',\n",
        "  ' Stanford University',\n",
        "  ' Stanford University',\n",
        "  ' University of Massachusetts',\n",
        "  ' SUNY Buffalo',\n",
        "  ' New School for Social Research',\n",
        "  ' Simmons College',\n",
        "  'NO INFO AVAILABLE',\n",
        "  ' Harvard University',\n",
        "  ' Harvard University',\n",
        "  ' Harvard College',\n",
        "  ' Harvard University',\n",
        "  ' Harvard University;\\xc2\\xa0M.Sc.',\n",
        "  ' University of Virginia',\n",
        "  ' University of Jyvaskyla',\n",
        "  ' Boston College',\n",
        "  ' Harvard University',\n",
        "  'NO INFO AVAILABLE',\n",
        "  ' Harvard University',\n",
        "  'NO INFO AVAILABLE',\n",
        "  ' New York University',\n",
        "  ' Brandeis University',\n",
        "  ' Harvard University',\n",
        "  ' Harvard University',\n",
        "  ' Boston University',\n",
        "  ' Stanford University',\n",
        "  'NO INFO AVAILABLE',\n",
        "  ' New York University',\n",
        "  ' Harvard University',\n",
        "  ' Harvard University',\n",
        "  ' Harvard University',\n",
        "  'NO INFO AVAILABLE',\n",
        "  ' Harvard University',\n",
        "  ' McGill University',\n",
        "  ' Boston University',\n",
        "  'NO INFO AVAILABLE',\n",
        "  ' Cornell University',\n",
        "  ' University of Michigan',\n",
        "  'NO INFO AVAILABLE',\n",
        "  ' Harvard University',\n",
        "  'NO INFO AVAILABLE',\n",
        "  ' Harvard University',\n",
        "  ' Harvard University',\n",
        "  ' Harvard University',\n",
        "  ' University of Pennsylvania',\n",
        "  ' Massachusetts Institute of Technology',\n",
        "  'NO INFO AVAILABLE',\n",
        "  ' Harvard University',\n",
        "  ' Stanford University',\n",
        "  'NO INFO AVAILABLE',\n",
        "  'NO INFO AVAILABLE',\n",
        "  ' Harvard University',\n",
        "  'NO INFO AVAILABLE',\n",
        "  ' Harvard University',\n",
        "  ' Harvard University',\n",
        "  ' University of Nebraska',\n",
        "  ' Stanford University',\n",
        "  ' Syracuse University'],\n",
        " 'highest_degree': ['Ph.D.',\n",
        "  'Ph.D.',\n",
        "  'M.A.',\n",
        "  'NO INFO AVAILABLE',\n",
        "  'Ed.D.',\n",
        "  'NO INFO AVAILABLE',\n",
        "  'NO INFO AVAILABLE',\n",
        "  'Ed.D.',\n",
        "  'Ph.D.',\n",
        "  'M.D.',\n",
        "  'Ed.D.',\n",
        "  'Ed.M.',\n",
        "  'Ed.M.',\n",
        "  'Ed.M.',\n",
        "  'Ed.D.',\n",
        "  'Ed.D.',\n",
        "  'Ed.D.',\n",
        "  'Ph.D.',\n",
        "  'NO INFO AVAILABLE',\n",
        "  'Ph.D.',\n",
        "  'Ph.D.',\n",
        "  'Ed.D.',\n",
        "  'M.A.T.',\n",
        "  'NO INFO AVAILABLE',\n",
        "  'Ph.D.',\n",
        "  'Ed.D.',\n",
        "  'Ph.D.',\n",
        "  'NO INFO AVAILABLE',\n",
        "  'NO INFO AVAILABLE',\n",
        "  'Ph.D.',\n",
        "  'Ed.D.',\n",
        "  'Ed.D.',\n",
        "  'Ed.D.',\n",
        "  'Ed.M.',\n",
        "  'NO INFO AVAILABLE',\n",
        "  'Ed.M.',\n",
        "  'Ph.D.',\n",
        "  'Ed.D.',\n",
        "  'Ed.D.',\n",
        "  'NO INFO AVAILABLE',\n",
        "  'Ph.D.',\n",
        "  'NO INFO AVAILABLE',\n",
        "  'Ed.D.',\n",
        "  'Ed.D.',\n",
        "  'Ph.D.',\n",
        "  'Ed.D.',\n",
        "  'Ed.D.',\n",
        "  'NO INFO AVAILABLE',\n",
        "  'Ed.M.',\n",
        "  'Ph.D.',\n",
        "  'Ed.M.',\n",
        "  'Ed.D.',\n",
        "  'NO INFO AVAILABLE',\n",
        "  'Ed.D.',\n",
        "  'Ph.D.',\n",
        "  'NO INFO AVAILABLE',\n",
        "  'Ph.D.',\n",
        "  'Ph.D.',\n",
        "  'Ph.D.',\n",
        "  'Ph.D.',\n",
        "  'NO INFO AVAILABLE',\n",
        "  'Ph.D.',\n",
        "  'A.B.',\n",
        "  'Ph.D.',\n",
        "  'Ph.D.',\n",
        "  'Ph.D.',\n",
        "  'Ed.M.',\n",
        "  'Ph.D.',\n",
        "  'Ph.D.',\n",
        "  'Ph.D.',\n",
        "  'NO INFO AVAILABLE',\n",
        "  'Ed.D.',\n",
        "  'Ph.D.',\n",
        "  'NO INFO AVAILABLE',\n",
        "  'Ph.D.',\n",
        "  'Ed.D.',\n",
        "  'Ed.D.',\n",
        "  'M.S.W.',\n",
        "  'NO INFO AVAILABLE',\n",
        "  'Ed.D.',\n",
        "  'NO INFO AVAILABLE',\n",
        "  'D.Phil.',\n",
        "  'Ph.D.',\n",
        "  'Ed.D.',\n",
        "  'Ed.D.',\n",
        "  'Ph.D.',\n",
        "  'M.B.A.',\n",
        "  'Ph.D.',\n",
        "  'Ph.D.',\n",
        "  'Ed.D.',\n",
        "  'Ph.D.',\n",
        "  'Ph.D.',\n",
        "  'Ph.D.',\n",
        "  'NO INFO AVAILABLE',\n",
        "  'Ed.D.',\n",
        "  'Ed.D.',\n",
        "  'J.D.',\n",
        "  'Ed.D.',\n",
        "  'Ph.D.',\n",
        "  'Ed.D.',\n",
        "  'Ed.D.',\n",
        "  'Ph.D.',\n",
        "  'Ed.M.',\n",
        "  'Ph.D.',\n",
        "  'Ph.D.',\n",
        "  'Ph.D.',\n",
        "  'NO INFO AVAILABLE',\n",
        "  'Ph.D.',\n",
        "  'NO INFO AVAILABLE',\n",
        "  'Ed.D.',\n",
        "  'Ph.D.',\n",
        "  'Ph.D.',\n",
        "  'Ed.D.',\n",
        "  'Larsen 512 ',\n",
        "  'Ed.M.',\n",
        "  'Ed.D.',\n",
        "  'Ed.D.',\n",
        "  'Ph.D.',\n",
        "  'M.A.',\n",
        "  'Ph.D.',\n",
        "  'Ph.D.',\n",
        "  'Ph.D.',\n",
        "  'Ph.D.',\n",
        "  'Ed.D.',\n",
        "  'NO INFO AVAILABLE',\n",
        "  'Ph.D.',\n",
        "  'Ph.D.',\n",
        "  'Ed.D.',\n",
        "  'Ph.D.',\n",
        "  'Ed.D.',\n",
        "  'Ed.D.',\n",
        "  'Ph.D.',\n",
        "  'Ph.D.',\n",
        "  'Ed.D.',\n",
        "  'Ph.D.',\n",
        "  'Ed.D.',\n",
        "  'Ed.D.',\n",
        "  'Ph.D.',\n",
        "  'Ph.D.',\n",
        "  'Ph.D.',\n",
        "  'Ed.D.',\n",
        "  'Ed.M.',\n",
        "  'Ed.D.',\n",
        "  'J.D.',\n",
        "  'Ed.D.',\n",
        "  'Ph.D.',\n",
        "  'Ph.D.',\n",
        "  'J.D.',\n",
        "  'Ph.D.',\n",
        "  'Ed.D.',\n",
        "  'Ed.D.',\n",
        "  'Ph.D.',\n",
        "  'Ph.D.',\n",
        "  'Ph.D.',\n",
        "  'Ed.D.',\n",
        "  'Ed.D.',\n",
        "  'NO INFO AVAILABLE',\n",
        "  'M.A.',\n",
        "  'Ph.D.',\n",
        "  'Ed.D.',\n",
        "  'M.D.',\n",
        "  'Ph.D.',\n",
        "  'Ed.D.',\n",
        "  'M.Ed.',\n",
        "  'NO INFO AVAILABLE',\n",
        "  'Ed.D.',\n",
        "  'Ph.D.',\n",
        "  'Ed.M.',\n",
        "  'M.Ed.',\n",
        "  'Ph.D.',\n",
        "  'Ph.D.',\n",
        "  'M.A.',\n",
        "  'NO INFO AVAILABLE',\n",
        "  'Ed.D.',\n",
        "  'Ed.D.',\n",
        "  'B.A.',\n",
        "  'Ed.D.',\n",
        "  'Ed.D.',\n",
        "  'J.D.',\n",
        "  'Ph.D.',\n",
        "  'Ph.D.',\n",
        "  'Ed.D.',\n",
        "  'NO INFO AVAILABLE',\n",
        "  'Ed.D.',\n",
        "  'NO INFO AVAILABLE',\n",
        "  'Ph.D.',\n",
        "  'M.A.',\n",
        "  'Ed.D.',\n",
        "  'Ed.D.',\n",
        "  'Ph.D.',\n",
        "  'Ph.D.',\n",
        "  'NO INFO AVAILABLE',\n",
        "  'M.D.',\n",
        "  'Ed.M.',\n",
        "  'M.T.S.',\n",
        "  'Ph.D.',\n",
        "  'NO INFO AVAILABLE',\n",
        "  'Ed.D.',\n",
        "  'Ph.D.',\n",
        "  'Ed.D.',\n",
        "  'NO INFO AVAILABLE',\n",
        "  'Ph.D.',\n",
        "  'Ph.D.',\n",
        "  'NO INFO AVAILABLE',\n",
        "  'Ed.D.',\n",
        "  'NO INFO AVAILABLE',\n",
        "  'Ed.D.',\n",
        "  'Ed.D.',\n",
        "  'Ed.M.',\n",
        "  'Ph.D.',\n",
        "  'Ph.D.',\n",
        "  'NO INFO AVAILABLE',\n",
        "  'Ed.D.',\n",
        "  'M.D.',\n",
        "  'NO INFO AVAILABLE',\n",
        "  'NO INFO AVAILABLE',\n",
        "  'Ph.D.',\n",
        "  'NO INFO AVAILABLE',\n",
        "  'Ed.D.',\n",
        "  'Ph.D.',\n",
        "  'Ph.D.',\n",
        "  'Ph.D.',\n",
        "  'Ph.D.'],\n",
        " 'lastname': ['Abadie',\n",
        "  'Ackman',\n",
        "  'Adams',\n",
        "  'Allen-Tamai',\n",
        "  'Alonso',\n",
        "  'Altun',\n",
        "  'Bao',\n",
        "  'Barr',\n",
        "  'Barrera-Osorio',\n",
        "  'Beardslee',\n",
        "  'Bempechat',\n",
        "  'Berger',\n",
        "  'Blatt',\n",
        "  'Blythe',\n",
        "  'Bocala',\n",
        "  'Boes',\n",
        "  'Boles',\n",
        "  'Boudett',\n",
        "  'Bowne',\n",
        "  'Brennan',\n",
        "  'Bridwell-Mitchell',\n",
        "  'Brion-Meisels',\n",
        "  'Burkhauser',\n",
        "  'Oliveira',\n",
        "  'Carey',\n",
        "  'Cazden',\n",
        "  'Chait',\n",
        "  'Chen',\n",
        "  'Chen',\n",
        "  'Chetty',\n",
        "  'Christodoulou',\n",
        "  'City',\n",
        "  'Clapp',\n",
        "  'Coffin',\n",
        "  'Cohen',\n",
        "  'Jr',\n",
        "  'Cotnam-Kappel',\n",
        "  'Currie-Rubin',\n",
        "  'Dede',\n",
        "  'Chiesa',\n",
        "  'Deming',\n",
        "  'Denny',\n",
        "  'Dockterman',\n",
        "  'Dryden-Peterson',\n",
        "  'Duckworth',\n",
        "  'Duraisingh',\n",
        "  'Eaton',\n",
        "  'Eidelman',\n",
        "  'El-Amin',\n",
        "  'Elgin',\n",
        "  'Elizabeth',\n",
        "  'Elmore',\n",
        "  'Fadel',\n",
        "  'Faller',\n",
        "  'Ferguson',\n",
        "  'Fiarman',\n",
        "  'Fischer',\n",
        "  'Fliss',\n",
        "  'Fryer',\n",
        "  'Fullerton',\n",
        "  'Fung',\n",
        "  'Gaab',\n",
        "  'Gabrieli',\n",
        "  'Gabrieli',\n",
        "  'Ganz',\n",
        "  'Gardner',\n",
        "  'Garson',\n",
        "  'Gehlbach',\n",
        "  'Glazer',\n",
        "  'Gonzales',\n",
        "  'Goodman',\n",
        "  'Goodman',\n",
        "  'Goodson',\n",
        "  'Goulon',\n",
        "  'Graham',\n",
        "  'Graves',\n",
        "  'Grotzer',\n",
        "  'Groves',\n",
        "  'Gunn',\n",
        "  'Harbour',\n",
        "  'Harouni',\n",
        "  'Harris',\n",
        "  'Haste',\n",
        "  'Hehir',\n",
        "  'Helsing',\n",
        "  'Hess',\n",
        "  'Higgins',\n",
        "  'Hill',\n",
        "  'Hill',\n",
        "  'Hinton',\n",
        "  'Ho',\n",
        "  'Hochschild',\n",
        "  'Hoffman',\n",
        "  'Holtschneider',\n",
        "  'Honan',\n",
        "  'Hua',\n",
        "  'Iuliano',\n",
        "  'Jacobs',\n",
        "  'James',\n",
        "  'Jewell-Sherman',\n",
        "  'Johnson',\n",
        "  'Jones',\n",
        "  'Kahle',\n",
        "  'Kalt',\n",
        "  'Kane',\n",
        "  'Kegan',\n",
        "  'Khan',\n",
        "  'Khanna',\n",
        "  'Kim',\n",
        "  'Kim',\n",
        "  'Kim',\n",
        "  'Koretz',\n",
        "  'Lahey',\n",
        "  'Lane',\n",
        "  'Lang',\n",
        "  'Lawrence-Lightfoot',\n",
        "  'Leith',\n",
        "  'Lem',\n",
        "  'Lerner',\n",
        "  'Lesaux',\n",
        "  'LeVine',\n",
        "  'Levinson',\n",
        "  'Light',\n",
        "  'Lippard',\n",
        "  'Liu',\n",
        "  'Long',\n",
        "  'Luk',\n",
        "  'Mahoney',\n",
        "  'Malan',\n",
        "  'Mapp',\n",
        "  'Mason',\n",
        "  'McCartney',\n",
        "  'McCoy',\n",
        "  'McGarvey',\n",
        "  'McGinn',\n",
        "  'McGowan',\n",
        "  'McLaughlin',\n",
        "  'Mehta',\n",
        "  'Meltzer',\n",
        "  'Menand',\n",
        "  'Merseth',\n",
        "  'Messina',\n",
        "  'Miller',\n",
        "  'Minow',\n",
        "  'Mitchell',\n",
        "  'Mody',\n",
        "  'Moore',\n",
        "  'Mundy-Shephard',\n",
        "  'Murnane',\n",
        "  'Murphy',\n",
        "  'Nathan',\n",
        "  'III',\n",
        "  'New',\n",
        "  'Nordmann',\n",
        "  'Norman',\n",
        "  \"O'Neill\",\n",
        "  'Ogas',\n",
        "  'Jr.',\n",
        "  'Perkins',\n",
        "  'Peterkin',\n",
        "  'Pierce',\n",
        "  'Pittinsky',\n",
        "  'Rappolt-Schlichtmann',\n",
        "  'Reich',\n",
        "  'Reich',\n",
        "  'Reimers',\n",
        "  'Reuben',\n",
        "  'Reville',\n",
        "  'Reyes',\n",
        "  'Richards',\n",
        "  'Rizvi',\n",
        "  'Robinson',\n",
        "  'Rodriguez',\n",
        "  'Rose',\n",
        "  'Rose',\n",
        "  'Rothstein',\n",
        "  'Rowe',\n",
        "  'Rubin',\n",
        "  'Ryan',\n",
        "  'Sahlberg',\n",
        "  'Savitz-Romer',\n",
        "  'Schifter',\n",
        "  'Schneider',\n",
        "  'Schneier',\n",
        "  'Schneps',\n",
        "  'Schwartz',\n",
        "  'Schwartz',\n",
        "  'Seidel',\n",
        "  'Seider',\n",
        "  'Selman',\n",
        "  'Shed',\n",
        "  'Sheridan',\n",
        "  'M.D.',\n",
        "  'Simpson',\n",
        "  'Sineath',\n",
        "  'Singer',\n",
        "  'Slater',\n",
        "  'Smith',\n",
        "  'Snow',\n",
        "  'Sommers',\n",
        "  'Song',\n",
        "  'Spelke',\n",
        "  'Star',\n",
        "  'Taylor',\n",
        "  'Teitel',\n",
        "  'Thompson',\n",
        "  'Tishman',\n",
        "  'Tivnan',\n",
        "  'Treacy',\n",
        "  'Truong',\n",
        "  'Tushman',\n",
        "  'Tutwiler',\n",
        "  'Uccelli',\n",
        "  'Urion',\n",
        "  'Walker',\n",
        "  'Wang',\n",
        "  'Warikoo',\n",
        "  'Weiland',\n",
        "  'Weissbourd',\n",
        "  'West',\n",
        "  'Whitla',\n",
        "  'Willett',\n",
        "  'Willie'],\n",
        " 'title': ['Member of the Faculty of Education',\n",
        "  'Postdoctoral Fellow in Education',\n",
        "  'Adjunct Lecturer on Education',\n",
        "  'Professor of Practice',\n",
        "  'Visiting Scholar in Education',\n",
        "  'Visiting Fellow in Education',\n",
        "  'Adjunct Lecturer on Education',\n",
        "  'Assistant Professor of Education and Economics',\n",
        "  'Member of the Faculty of Education',\n",
        "  'Visiting Scholar in Education',\n",
        "  'Adjunct Lecturer on Education',\n",
        "  'Senior Lecturer on Education',\n",
        "  'Adjunct Lecturer on Education',\n",
        "  'Adjunct Lecturer on Education',\n",
        "  'Adjunct Lecturer on Education',\n",
        "  'Senior Lecturer on Education',\n",
        "  'Lecturer on Education',\n",
        "  'Postdoctoral Fellow in Education',\n",
        "  'Assistant Professor of Education',\n",
        "  'Assistant Professor of Education',\n",
        "  'Lecturer on Education',\n",
        "  'Instructor in Education',\n",
        "  'Visiting Scholar in Education',\n",
        "  'Member of the Faculty of Education',\n",
        "  'Charles William Eliot Professor of Education, Emerita',\n",
        "  'Professor of Education, Emeritus',\n",
        "  'Postdoctoral Fellow in Education',\n",
        "  'Visiting Scholar in Education',\n",
        "  'Member of the Faculty of Education',\n",
        "  'Adjunct Lecturer on Education',\n",
        "  'Lecturer on Education',\n",
        "  'Lecturer on Education',\n",
        "  'Adjunct Lecturer on Education',\n",
        "  'Visiting Professor of Education',\n",
        "  'Instructor in Education',\n",
        "  'Postdoctoral Fellow in Education',\n",
        "  'Adjunct Lecturer on Education',\n",
        "  'Timothy E. Wirth Professor in Learning Technologies',\n",
        "  'Visiting Lecturer on Education',\n",
        "  'Associate Professor of Education and Economics',\n",
        "  'Visiting Scholar in Education',\n",
        "  'Adjunct Lecturer on Education',\n",
        "  'Assistant Professor of Education',\n",
        "  'Research Professor of Education',\n",
        "  'Adjunct Lecturer on Education',\n",
        "  'Adjunct Lecturer on Education',\n",
        "  'Instructor in Education',\n",
        "  'Instructor in Education',\n",
        "  'Professor of Education',\n",
        "  'Instructor in Education',\n",
        "  'Gregory R. Anrig Research Professor of Educational Leadership',\n",
        "  'Visiting Practitioner in Education',\n",
        "  'Adjunct Lecturer on Education',\n",
        "  'Lecturer on Education',\n",
        "  'Charles Bigelow Research Professor of Education',\n",
        "  'Member of the Faculty of Education',\n",
        "  'Member of the Faculty of Education',\n",
        "  'Lecturer on Education',\n",
        "  'Member of the Faculty of Education',\n",
        "  'Member of the Faculty of Education',\n",
        "  'Adjunct Lecturer on Education',\n",
        "  'Member of the Faculty of Education',\n",
        "  'Member of the Faculty of Education',\n",
        "  'The John H. and Elisabeth A. Hobbs Professor of Cognition and Education',\n",
        "  'Lecturer on Education',\n",
        "  'Associate Professor of Education',\n",
        "  'Professor of Education, Emeritus',\n",
        "  'Assistant Professor of Education',\n",
        "  'Member of the Faculty of Education',\n",
        "  'Adjunct Lecturer on Education',\n",
        "  'Adjunct Lecturer on Education',\n",
        "  'Visiting Scholar in Education',\n",
        "  'Charles Warren Professor of the History of American Education, Emerita',\n",
        "  'Adjunct Lecturer on Education',\n",
        "  'Associate Professor of Education',\n",
        "  'Lecturer on Education',\n",
        "  'Preceptor in Entrepreneurship and Innovation',\n",
        "  'Adjunct Lecturer on Education',\n",
        "  'Instructor in Education',\n",
        "  'Victor S. Thomas Professor of Education',\n",
        "  'Visiting Professor of Education',\n",
        "  'Silvana and Christopher Pascucci Professor of Practice in Learning Differences',\n",
        "  'Adjunct Lecturer on Education',\n",
        "  'Adjunct Lecturer on Education',\n",
        "  'Kathleen McCartney Professor in Education Leadership',\n",
        "  'Jerome T. Murphy Professor in Education',\n",
        "  'Professor of Education',\n",
        "  'Adjunct Lecturer on Education',\n",
        "  'Professor of Education',\n",
        "  'Member of the Faculty of Education',\n",
        "  'Adjunct Lecturer on Education',\n",
        "  'President in Residence',\n",
        "  'Senior Lecturer on Education',\n",
        "  'Lecturer on Education',\n",
        "  'Adjunct Lecturer on Education',\n",
        "  'Lecturer on Education',\n",
        "  'Lecturer on Education',\n",
        "  'Professor of Practice',\n",
        "  'Jerome T. Murphy Research Professor in Education',\n",
        "  'Marie and Max Kargman Associate Professor in Human Development and Urban Education Advancement',\n",
        "  'Adjunct Lecturer on Education',\n",
        "  'Member of the Faculty of Education',\n",
        "  'Walter H. Gale Professor of Education and Economics',\n",
        "  'The William and Miriam Meehan Professor in Adult Learning and Professional Development',\n",
        "  'Visiting Professor of Education',\n",
        "  'Member of the Faculty of Education',\n",
        "  'Postdoctoral Fellow in Education',\n",
        "  'Associate Professor of Education',\n",
        "  'Lecturer on Education',\n",
        "  'Henry Lee Shattuck Professor of Education',\n",
        "  'Lecturer on Education',\n",
        "  'Postdoctoral Fellow in Education',\n",
        "  'Instructor in Education',\n",
        "  'Emily Hargroves Fisher Professor of Education',\n",
        "  'Adjunct Lecturer on Education',\n",
        "  'Lecturer on Education',\n",
        "  'Adjunct Lecturer on Education',\n",
        "  'Juliana W. and William Foss Thompson Professor of Education and Society',\n",
        "  'Roy Edward Larsen Professor of Education and Human Development, Emeritus',\n",
        "  'Associate Professor of Education',\n",
        "  'Carl H. Pforzheimer, Jr. Professor of Teaching and Learning',\n",
        "  'Adjunct Lecturer on Education',\n",
        "  'Visiting Scholar in Education',\n",
        "  'Saris Professor of Education and Economics, Academic Dean',\n",
        "  'Assistant Professor of Education',\n",
        "  'Lecturer on Education',\n",
        "  'Member of the Faculty of Education',\n",
        "  'Senior Lecturer on Education',\n",
        "  'Lecturer on Education',\n",
        "  'Professor of Education, Emerita',\n",
        "  'Postdoctoral Fellow in Education',\n",
        "  'Visiting Fellow in Education',\n",
        "  'Professor of Education, Emeritus',\n",
        "  'Lecturer on Education',\n",
        "  'Senior Lecturer on Education',\n",
        "  'Associate Professor of Education',\n",
        "  'Associate in Education',\n",
        "  'Member of the Faculty of Education',\n",
        "  'Senior Lecturer on Education',\n",
        "  'Adjunct Lecturer on Education',\n",
        "  'Lecturer on Education, Associate Dean for Learning and Teaching',\n",
        "  'Member of the Faculty of Education',\n",
        "  'Adjunct Lecturer on Education',\n",
        "  'Member of the Faculty of Education',\n",
        "  'Herbert A. Simon Professor in Education, Management, and Organizational Behavior',\n",
        "  'Instructor in Education',\n",
        "  'Juliana W. and William Foss Thompson Research Professor of Education and Society',\n",
        "  'Harold Howe II Professor of Education, Emeritus',\n",
        "  'Adjunct Lecturer on Education',\n",
        "  'Professor of Education',\n",
        "  'Member of the Faculty of Education',\n",
        "  'Visiting Scholar in Education',\n",
        "  'Member of the Faculty of Education',\n",
        "  'Senior Lecturer on Education',\n",
        "  'Visiting Scholar in Education',\n",
        "  'Adjunct Lecturer on Education',\n",
        "  'Carl H. Pforzheimer, Jr. Research Professor of Teaching and Learning',\n",
        "  'Professor of Practice, Emeritus',\n",
        "  'Professor of Education and Psychiatry, Emeritus',\n",
        "  'Senior Lecturer on Education',\n",
        "  'Adjunct Lecturer on Education',\n",
        "  'Adjunct Lecturer on Education',\n",
        "  'Adjunct Lecturer on Education',\n",
        "  'Ford Foundation Professor of Practice in International Education',\n",
        "  'Charles Warren Professor of the History of American Education',\n",
        "  'Francis Keppel Professor of Practice of Educational Policy and Administration',\n",
        "  'Adjunct Lecturer on Education',\n",
        "  'Adjunct Lecturer on Education',\n",
        "  'Visiting Scholar in Education',\n",
        "  'Adjunct Lecturer on Education',\n",
        "  'Instructor in Education',\n",
        "  'Lecturer on Education',\n",
        "  'Lecturer on Education',\n",
        "  'Visiting Scholar in Education',\n",
        "  'Associate Professor of Education',\n",
        "  'Adjunct Lecturer on Education',\n",
        "  'Charles William Eliot Professor of Education',\n",
        "  'Visiting Professor of Practice in Education, Visiting Professor of Practice in Education',\n",
        "  'Senior Lecturer on Education',\n",
        "  'Adjunct Lecturer on Education',\n",
        "  'Adjunct Lecturer on Education',\n",
        "  'Adjunct Lecturer on Education',\n",
        "  'Visiting Fellow in Education',\n",
        "  'Professor of Practice, Emeritus',\n",
        "  'The Patricia Bauman and John Landrum Bryant Senior Lecturer on Arts in Education',\n",
        "  'Adjunct Lecturer on Education',\n",
        "  'Roy Edward Larsen Professor of Education and Human Development',\n",
        "  'Lecturer on Education',\n",
        "  'Member of the Faculty of Education',\n",
        "  'Julius B. Richmond FAMRI Professor of Child Health and Development, Harvard School of Public Health and Harvard Graduate School of Education',\n",
        "  'Lecturer on Education',\n",
        "  'Adjunct Lecturer on Education',\n",
        "  'James Bryant Conant Professor of Education, Senior Vice Provost for Faculty Development and Diversity',\n",
        "  'Patricia Albjerg Graham Professor of Education',\n",
        "  'Adjunct Lecturer on Education',\n",
        "  'Visiting Scholar in Education',\n",
        "  'Member of the Faculty of Education',\n",
        "  'Nancy Pforzheimer Aronson Associate Professor in Human Development and Education',\n",
        "  'Lecturer on Education',\n",
        "  'Postdoctoral Fellow in Education',\n",
        "  'Lecturer on Education',\n",
        "  'Lecturer on Education',\n",
        "  'Adjunct Lecturer on Education',\n",
        "  'Adjunct Lecturer on Education',\n",
        "  'Member of the Faculty of Education',\n",
        "  'Lecturer on Education, Postdoctoral Fellow in Education',\n",
        "  'Associate Professor of Education',\n",
        "  'Member of the Faculty of Education',\n",
        "  'Adjunct Lecturer on Education',\n",
        "  'Visiting Scholar in Education',\n",
        "  'Associate Professor of Education',\n",
        "  'Visiting Scholar in Education',\n",
        "  'Senior Lecturer on Education',\n",
        "  'Associate Professor of Education',\n",
        "  'Charles William Eliot Research Professor of Education',\n",
        "  'Charles William Eliot Professor of Education, Emeritus',\n",
        "  'Lecturer on Education',\n",
        "  'Senior Research Associate in Education',\n",
        "  'Visiting Scholar in Education',\n",
        "  'Visiting Scholar in Education',\n",
        "  'Lecturer on Education',\n",
        "  'Visiting Scholar in Education',\n",
        "  'Visiting Scholar in Education'],\n",
        " 'university': ['HARVARD UNIVERSITY',\n",
        "  'HARVARD UNIVERSITY',\n",
        "  'HARVARD UNIVERSITY',\n",
        "  'HARVARD UNIVERSITY',\n",
        "  'HARVARD UNIVERSITY',\n",
        "  'HARVARD UNIVERSITY',\n",
        "  'HARVARD UNIVERSITY',\n",
        "  'HARVARD UNIVERSITY',\n",
        "  'HARVARD UNIVERSITY',\n",
        "  'HARVARD UNIVERSITY',\n",
        "  'HARVARD UNIVERSITY',\n",
        "  'HARVARD UNIVERSITY',\n",
        "  'HARVARD UNIVERSITY',\n",
        "  'HARVARD UNIVERSITY',\n",
        "  'HARVARD UNIVERSITY',\n",
        "  'HARVARD UNIVERSITY',\n",
        "  'HARVARD UNIVERSITY',\n",
        "  'HARVARD UNIVERSITY',\n",
        "  'HARVARD UNIVERSITY',\n",
        "  'HARVARD UNIVERSITY',\n",
        "  'HARVARD UNIVERSITY',\n",
        "  'HARVARD UNIVERSITY',\n",
        "  'HARVARD UNIVERSITY',\n",
        "  'HARVARD UNIVERSITY',\n",
        "  'HARVARD UNIVERSITY',\n",
        "  'HARVARD UNIVERSITY',\n",
        "  'HARVARD UNIVERSITY',\n",
        "  'HARVARD UNIVERSITY',\n",
        "  'HARVARD UNIVERSITY',\n",
        "  'HARVARD UNIVERSITY',\n",
        "  'HARVARD UNIVERSITY',\n",
        "  'HARVARD UNIVERSITY',\n",
        "  'HARVARD UNIVERSITY',\n",
        "  'HARVARD UNIVERSITY',\n",
        "  'HARVARD UNIVERSITY',\n",
        "  'HARVARD UNIVERSITY',\n",
        "  'HARVARD UNIVERSITY',\n",
        "  'HARVARD UNIVERSITY',\n",
        "  'HARVARD UNIVERSITY',\n",
        "  'HARVARD UNIVERSITY',\n",
        "  'HARVARD UNIVERSITY',\n",
        "  'HARVARD UNIVERSITY',\n",
        "  'HARVARD UNIVERSITY',\n",
        "  'HARVARD UNIVERSITY',\n",
        "  'HARVARD UNIVERSITY',\n",
        "  'HARVARD UNIVERSITY',\n",
        "  'HARVARD UNIVERSITY',\n",
        "  'HARVARD UNIVERSITY',\n",
        "  'HARVARD UNIVERSITY',\n",
        "  'HARVARD UNIVERSITY',\n",
        "  'HARVARD UNIVERSITY',\n",
        "  'HARVARD UNIVERSITY',\n",
        "  'HARVARD UNIVERSITY',\n",
        "  'HARVARD UNIVERSITY',\n",
        "  'HARVARD UNIVERSITY',\n",
        "  'HARVARD UNIVERSITY',\n",
        "  'HARVARD UNIVERSITY',\n",
        "  'HARVARD UNIVERSITY',\n",
        "  'HARVARD UNIVERSITY',\n",
        "  'HARVARD UNIVERSITY',\n",
        "  'HARVARD UNIVERSITY',\n",
        "  'HARVARD UNIVERSITY',\n",
        "  'HARVARD UNIVERSITY',\n",
        "  'HARVARD UNIVERSITY',\n",
        "  'HARVARD UNIVERSITY',\n",
        "  'HARVARD UNIVERSITY',\n",
        "  'HARVARD UNIVERSITY',\n",
        "  'HARVARD UNIVERSITY',\n",
        "  'HARVARD UNIVERSITY',\n",
        "  'HARVARD UNIVERSITY',\n",
        "  'HARVARD UNIVERSITY',\n",
        "  'HARVARD UNIVERSITY',\n",
        "  'HARVARD UNIVERSITY',\n",
        "  'HARVARD UNIVERSITY',\n",
        "  'HARVARD UNIVERSITY',\n",
        "  'HARVARD UNIVERSITY',\n",
        "  'HARVARD UNIVERSITY',\n",
        "  'HARVARD UNIVERSITY',\n",
        "  'HARVARD UNIVERSITY',\n",
        "  'HARVARD UNIVERSITY',\n",
        "  'HARVARD UNIVERSITY',\n",
        "  'HARVARD UNIVERSITY',\n",
        "  'HARVARD UNIVERSITY',\n",
        "  'HARVARD UNIVERSITY',\n",
        "  'HARVARD UNIVERSITY',\n",
        "  'HARVARD UNIVERSITY',\n",
        "  'HARVARD UNIVERSITY',\n",
        "  'HARVARD UNIVERSITY',\n",
        "  'HARVARD UNIVERSITY',\n",
        "  'HARVARD UNIVERSITY',\n",
        "  'HARVARD UNIVERSITY',\n",
        "  'HARVARD UNIVERSITY',\n",
        "  'HARVARD UNIVERSITY',\n",
        "  'HARVARD UNIVERSITY',\n",
        "  'HARVARD UNIVERSITY',\n",
        "  'HARVARD UNIVERSITY',\n",
        "  'HARVARD UNIVERSITY',\n",
        "  'HARVARD UNIVERSITY',\n",
        "  'HARVARD UNIVERSITY',\n",
        "  'HARVARD UNIVERSITY',\n",
        "  'HARVARD UNIVERSITY',\n",
        "  'HARVARD UNIVERSITY',\n",
        "  'HARVARD UNIVERSITY',\n",
        "  'HARVARD UNIVERSITY',\n",
        "  'HARVARD UNIVERSITY',\n",
        "  'HARVARD UNIVERSITY',\n",
        "  'HARVARD UNIVERSITY',\n",
        "  'HARVARD UNIVERSITY',\n",
        "  'HARVARD UNIVERSITY',\n",
        "  'HARVARD UNIVERSITY',\n",
        "  'HARVARD UNIVERSITY',\n",
        "  'HARVARD UNIVERSITY',\n",
        "  'HARVARD UNIVERSITY',\n",
        "  'HARVARD UNIVERSITY',\n",
        "  'HARVARD UNIVERSITY',\n",
        "  'HARVARD UNIVERSITY',\n",
        "  'HARVARD UNIVERSITY',\n",
        "  'HARVARD UNIVERSITY',\n",
        "  'HARVARD UNIVERSITY',\n",
        "  'HARVARD UNIVERSITY',\n",
        "  'HARVARD UNIVERSITY',\n",
        "  'HARVARD UNIVERSITY',\n",
        "  'HARVARD UNIVERSITY',\n",
        "  'HARVARD UNIVERSITY',\n",
        "  'HARVARD UNIVERSITY',\n",
        "  'HARVARD UNIVERSITY',\n",
        "  'HARVARD UNIVERSITY',\n",
        "  'HARVARD UNIVERSITY',\n",
        "  'HARVARD UNIVERSITY',\n",
        "  'HARVARD UNIVERSITY',\n",
        "  'HARVARD UNIVERSITY',\n",
        "  'HARVARD UNIVERSITY',\n",
        "  'HARVARD UNIVERSITY',\n",
        "  'HARVARD UNIVERSITY',\n",
        "  'HARVARD UNIVERSITY',\n",
        "  'HARVARD UNIVERSITY',\n",
        "  'HARVARD UNIVERSITY',\n",
        "  'HARVARD UNIVERSITY',\n",
        "  'HARVARD UNIVERSITY',\n",
        "  'HARVARD UNIVERSITY',\n",
        "  'HARVARD UNIVERSITY',\n",
        "  'HARVARD UNIVERSITY',\n",
        "  'HARVARD UNIVERSITY',\n",
        "  'HARVARD UNIVERSITY',\n",
        "  'HARVARD UNIVERSITY',\n",
        "  'HARVARD UNIVERSITY',\n",
        "  'HARVARD UNIVERSITY',\n",
        "  'HARVARD UNIVERSITY',\n",
        "  'HARVARD UNIVERSITY',\n",
        "  'HARVARD UNIVERSITY',\n",
        "  'HARVARD UNIVERSITY',\n",
        "  'HARVARD UNIVERSITY',\n",
        "  'HARVARD UNIVERSITY',\n",
        "  'HARVARD UNIVERSITY',\n",
        "  'HARVARD UNIVERSITY',\n",
        "  'HARVARD UNIVERSITY',\n",
        "  'HARVARD UNIVERSITY',\n",
        "  'HARVARD UNIVERSITY',\n",
        "  'HARVARD UNIVERSITY',\n",
        "  'HARVARD UNIVERSITY',\n",
        "  'HARVARD UNIVERSITY',\n",
        "  'HARVARD UNIVERSITY',\n",
        "  'HARVARD UNIVERSITY',\n",
        "  'HARVARD UNIVERSITY',\n",
        "  'HARVARD UNIVERSITY',\n",
        "  'HARVARD UNIVERSITY',\n",
        "  'HARVARD UNIVERSITY',\n",
        "  'HARVARD UNIVERSITY',\n",
        "  'HARVARD UNIVERSITY',\n",
        "  'HARVARD UNIVERSITY',\n",
        "  'HARVARD UNIVERSITY',\n",
        "  'HARVARD UNIVERSITY',\n",
        "  'HARVARD UNIVERSITY',\n",
        "  'HARVARD UNIVERSITY',\n",
        "  'HARVARD UNIVERSITY',\n",
        "  'HARVARD UNIVERSITY',\n",
        "  'HARVARD UNIVERSITY',\n",
        "  'HARVARD UNIVERSITY',\n",
        "  'HARVARD UNIVERSITY',\n",
        "  'HARVARD UNIVERSITY',\n",
        "  'HARVARD UNIVERSITY',\n",
        "  'HARVARD UNIVERSITY',\n",
        "  'HARVARD UNIVERSITY',\n",
        "  'HARVARD UNIVERSITY',\n",
        "  'HARVARD UNIVERSITY',\n",
        "  'HARVARD UNIVERSITY',\n",
        "  'HARVARD UNIVERSITY',\n",
        "  'HARVARD UNIVERSITY',\n",
        "  'HARVARD UNIVERSITY',\n",
        "  'HARVARD UNIVERSITY',\n",
        "  'HARVARD UNIVERSITY',\n",
        "  'HARVARD UNIVERSITY',\n",
        "  'HARVARD UNIVERSITY',\n",
        "  'HARVARD UNIVERSITY',\n",
        "  'HARVARD UNIVERSITY',\n",
        "  'HARVARD UNIVERSITY',\n",
        "  'HARVARD UNIVERSITY',\n",
        "  'HARVARD UNIVERSITY',\n",
        "  'HARVARD UNIVERSITY',\n",
        "  'HARVARD UNIVERSITY',\n",
        "  'HARVARD UNIVERSITY',\n",
        "  'HARVARD UNIVERSITY',\n",
        "  'HARVARD UNIVERSITY',\n",
        "  'HARVARD UNIVERSITY',\n",
        "  'HARVARD UNIVERSITY',\n",
        "  'HARVARD UNIVERSITY',\n",
        "  'HARVARD UNIVERSITY',\n",
        "  'HARVARD UNIVERSITY',\n",
        "  'HARVARD UNIVERSITY',\n",
        "  'HARVARD UNIVERSITY',\n",
        "  'HARVARD UNIVERSITY',\n",
        "  'HARVARD UNIVERSITY',\n",
        "  'HARVARD UNIVERSITY',\n",
        "  'HARVARD UNIVERSITY',\n",
        "  'HARVARD UNIVERSITY',\n",
        "  'HARVARD UNIVERSITY',\n",
        "  'HARVARD UNIVERSITY',\n",
        "  'HARVARD UNIVERSITY',\n",
        "  'HARVARD UNIVERSITY',\n",
        "  'HARVARD UNIVERSITY',\n",
        "  'HARVARD UNIVERSITY',\n",
        "  'HARVARD UNIVERSITY',\n",
        "  'HARVARD UNIVERSITY']}"
       ]
      }
     ],
     "prompt_number": 220
    },
    {
     "cell_type": "code",
     "collapsed": false,
     "input": [
      " tanmay_csv = pd.DataFrame(dict, columns=['firstname','lastname','university','department','grad_school','title','highest_degree','Grad_Yr'])\n",
      " tanmay_csv.to_csv(\"tanmay_575_A1.csv\")    "
     ],
     "language": "python",
     "metadata": {},
     "outputs": [],
     "prompt_number": 221
    },
    {
     "cell_type": "code",
     "collapsed": false,
     "input": [
      "tanmay_csv"
     ],
     "language": "python",
     "metadata": {},
     "outputs": [
      {
       "html": [
        "<div style=\"max-height:1000px;max-width:1500px;overflow:auto;\">\n",
        "<table border=\"1\" class=\"dataframe\">\n",
        "  <thead>\n",
        "    <tr style=\"text-align: right;\">\n",
        "      <th></th>\n",
        "      <th>firstname</th>\n",
        "      <th>lastname</th>\n",
        "      <th>university</th>\n",
        "      <th>department</th>\n",
        "      <th>grad_school</th>\n",
        "      <th>title</th>\n",
        "      <th>highest_degree</th>\n",
        "      <th>Grad_Yr</th>\n",
        "    </tr>\n",
        "  </thead>\n",
        "  <tbody>\n",
        "    <tr>\n",
        "      <th>0  </th>\n",
        "      <td>   Alberto</td>\n",
        "      <td>            Abadie</td>\n",
        "      <td> HARVARD UNIVERSITY</td>\n",
        "      <td>  Harvard Graduate School of Education</td>\n",
        "      <td>  Massachusetts Institute of Technology</td>\n",
        "      <td>                Member of the Faculty of Education</td>\n",
        "      <td>             Ph.D.</td>\n",
        "      <td> 1999</td>\n",
        "    </tr>\n",
        "    <tr>\n",
        "      <th>1  </th>\n",
        "      <td>     Emily</td>\n",
        "      <td>            Ackman</td>\n",
        "      <td> HARVARD UNIVERSITY</td>\n",
        "      <td>  Harvard Graduate School of Education</td>\n",
        "      <td>               Arizona State University</td>\n",
        "      <td>                  Postdoctoral Fellow in Education</td>\n",
        "      <td>             Ph.D.</td>\n",
        "      <td> 2013</td>\n",
        "    </tr>\n",
        "    <tr>\n",
        "      <th>2  </th>\n",
        "      <td>    Lauren</td>\n",
        "      <td>             Adams</td>\n",
        "      <td> HARVARD UNIVERSITY</td>\n",
        "      <td>  Harvard Graduate School of Education</td>\n",
        "      <td>                        Simmons College</td>\n",
        "      <td>                     Adjunct Lecturer on Education</td>\n",
        "      <td>              M.A.</td>\n",
        "      <td> 1995</td>\n",
        "    </tr>\n",
        "    <tr>\n",
        "      <th>3  </th>\n",
        "      <td>    Mitsue</td>\n",
        "      <td>       Allen-Tamai</td>\n",
        "      <td> HARVARD UNIVERSITY</td>\n",
        "      <td>  Harvard Graduate School of Education</td>\n",
        "      <td>                      NO INFO AVAILABLE</td>\n",
        "      <td>                             Professor of Practice</td>\n",
        "      <td> NO INFO AVAILABLE</td>\n",
        "      <td>     </td>\n",
        "    </tr>\n",
        "    <tr>\n",
        "      <th>4  </th>\n",
        "      <td>    Andres</td>\n",
        "      <td>            Alonso</td>\n",
        "      <td> HARVARD UNIVERSITY</td>\n",
        "      <td>  Harvard Graduate School of Education</td>\n",
        "      <td>                     Harvard University</td>\n",
        "      <td>                     Visiting Scholar in Education</td>\n",
        "      <td>             Ed.D.</td>\n",
        "      <td> 2006</td>\n",
        "    </tr>\n",
        "    <tr>\n",
        "      <th>5  </th>\n",
        "      <td>      Arif</td>\n",
        "      <td>             Altun</td>\n",
        "      <td> HARVARD UNIVERSITY</td>\n",
        "      <td>  Harvard Graduate School of Education</td>\n",
        "      <td>                      NO INFO AVAILABLE</td>\n",
        "      <td>                      Visiting Fellow in Education</td>\n",
        "      <td> NO INFO AVAILABLE</td>\n",
        "      <td>     </td>\n",
        "    </tr>\n",
        "    <tr>\n",
        "      <th>6  </th>\n",
        "      <td>    Chiwen</td>\n",
        "      <td>               Bao</td>\n",
        "      <td> HARVARD UNIVERSITY</td>\n",
        "      <td>  Harvard Graduate School of Education</td>\n",
        "      <td>                      NO INFO AVAILABLE</td>\n",
        "      <td>                     Adjunct Lecturer on Education</td>\n",
        "      <td> NO INFO AVAILABLE</td>\n",
        "      <td>     </td>\n",
        "    </tr>\n",
        "    <tr>\n",
        "      <th>7  </th>\n",
        "      <td>    Dennis</td>\n",
        "      <td>              Barr</td>\n",
        "      <td> HARVARD UNIVERSITY</td>\n",
        "      <td>  Harvard Graduate School of Education</td>\n",
        "      <td>                     Harvard University</td>\n",
        "      <td>    Assistant Professor of Education and Economics</td>\n",
        "      <td>             Ed.D.</td>\n",
        "      <td> 1993</td>\n",
        "    </tr>\n",
        "    <tr>\n",
        "      <th>8  </th>\n",
        "      <td>    Felipe</td>\n",
        "      <td>    Barrera-Osorio</td>\n",
        "      <td> HARVARD UNIVERSITY</td>\n",
        "      <td>  Harvard Graduate School of Education</td>\n",
        "      <td>                 University of Maryland</td>\n",
        "      <td>                Member of the Faculty of Education</td>\n",
        "      <td>             Ph.D.</td>\n",
        "      <td> 2003</td>\n",
        "    </tr>\n",
        "    <tr>\n",
        "      <th>9  </th>\n",
        "      <td>   William</td>\n",
        "      <td>         Beardslee</td>\n",
        "      <td> HARVARD UNIVERSITY</td>\n",
        "      <td>  Harvard Graduate School of Education</td>\n",
        "      <td>        Case Western Reserve University</td>\n",
        "      <td>                     Visiting Scholar in Education</td>\n",
        "      <td>              M.D.</td>\n",
        "      <td> 1971</td>\n",
        "    </tr>\n",
        "    <tr>\n",
        "      <th>10 </th>\n",
        "      <td>    Janine</td>\n",
        "      <td>         Bempechat</td>\n",
        "      <td> HARVARD UNIVERSITY</td>\n",
        "      <td>  Harvard Graduate School of Education</td>\n",
        "      <td>                     Harvard University</td>\n",
        "      <td>                     Adjunct Lecturer on Education</td>\n",
        "      <td>             Ed.D.</td>\n",
        "      <td> 1986</td>\n",
        "    </tr>\n",
        "    <tr>\n",
        "      <th>11 </th>\n",
        "      <td>       Ron</td>\n",
        "      <td>            Berger</td>\n",
        "      <td> HARVARD UNIVERSITY</td>\n",
        "      <td>  Harvard Graduate School of Education</td>\n",
        "      <td>                     Harvard University</td>\n",
        "      <td>                      Senior Lecturer on Education</td>\n",
        "      <td>             Ed.M.</td>\n",
        "      <td> 1990</td>\n",
        "    </tr>\n",
        "    <tr>\n",
        "      <th>12 </th>\n",
        "      <td>    Joseph</td>\n",
        "      <td>             Blatt</td>\n",
        "      <td> HARVARD UNIVERSITY</td>\n",
        "      <td>  Harvard Graduate School of Education</td>\n",
        "      <td>                     Harvard University</td>\n",
        "      <td>                     Adjunct Lecturer on Education</td>\n",
        "      <td>             Ed.M.</td>\n",
        "      <td> 1977</td>\n",
        "    </tr>\n",
        "    <tr>\n",
        "      <th>13 </th>\n",
        "      <td>      Tina</td>\n",
        "      <td>            Blythe</td>\n",
        "      <td> HARVARD UNIVERSITY</td>\n",
        "      <td>  Harvard Graduate School of Education</td>\n",
        "      <td>                     Harvard University</td>\n",
        "      <td>                     Adjunct Lecturer on Education</td>\n",
        "      <td>             Ed.M.</td>\n",
        "      <td> 2002</td>\n",
        "    </tr>\n",
        "    <tr>\n",
        "      <th>14 </th>\n",
        "      <td>   Candice</td>\n",
        "      <td>            Bocala</td>\n",
        "      <td> HARVARD UNIVERSITY</td>\n",
        "      <td>  Harvard Graduate School of Education</td>\n",
        "      <td>                     Harvard University</td>\n",
        "      <td>                     Adjunct Lecturer on Education</td>\n",
        "      <td>             Ed.D.</td>\n",
        "      <td> 2014</td>\n",
        "    </tr>\n",
        "    <tr>\n",
        "      <th>15 </th>\n",
        "      <td>      Lisa</td>\n",
        "      <td>              Boes</td>\n",
        "      <td> HARVARD UNIVERSITY</td>\n",
        "      <td>  Harvard Graduate School of Education</td>\n",
        "      <td>                     Harvard University</td>\n",
        "      <td>                      Senior Lecturer on Education</td>\n",
        "      <td>             Ed.D.</td>\n",
        "      <td> 2006</td>\n",
        "    </tr>\n",
        "    <tr>\n",
        "      <th>16 </th>\n",
        "      <td> Katherine</td>\n",
        "      <td>             Boles</td>\n",
        "      <td> HARVARD UNIVERSITY</td>\n",
        "      <td>  Harvard Graduate School of Education</td>\n",
        "      <td>                     Harvard University</td>\n",
        "      <td>                             Lecturer on Education</td>\n",
        "      <td>             Ed.D.</td>\n",
        "      <td> 1991</td>\n",
        "    </tr>\n",
        "    <tr>\n",
        "      <th>17 </th>\n",
        "      <td>   Kathryn</td>\n",
        "      <td>           Boudett</td>\n",
        "      <td> HARVARD UNIVERSITY</td>\n",
        "      <td>  Harvard Graduate School of Education</td>\n",
        "      <td>                     Harvard University</td>\n",
        "      <td>                  Postdoctoral Fellow in Education</td>\n",
        "      <td>             Ph.D.</td>\n",
        "      <td> 1998</td>\n",
        "    </tr>\n",
        "    <tr>\n",
        "      <th>18 </th>\n",
        "      <td>   Jocelyn</td>\n",
        "      <td>             Bowne</td>\n",
        "      <td> HARVARD UNIVERSITY</td>\n",
        "      <td>  Harvard Graduate School of Education</td>\n",
        "      <td>                      NO INFO AVAILABLE</td>\n",
        "      <td>                  Assistant Professor of Education</td>\n",
        "      <td> NO INFO AVAILABLE</td>\n",
        "      <td>     </td>\n",
        "    </tr>\n",
        "    <tr>\n",
        "      <th>19 </th>\n",
        "      <td>     Karen</td>\n",
        "      <td>           Brennan</td>\n",
        "      <td> HARVARD UNIVERSITY</td>\n",
        "      <td>  Harvard Graduate School of Education</td>\n",
        "      <td>  Massachusetts Institute of Technology</td>\n",
        "      <td>                  Assistant Professor of Education</td>\n",
        "      <td>             Ph.D.</td>\n",
        "      <td> 2012</td>\n",
        "    </tr>\n",
        "    <tr>\n",
        "      <th>20 </th>\n",
        "      <td>     Ebony</td>\n",
        "      <td> Bridwell-Mitchell</td>\n",
        "      <td> HARVARD UNIVERSITY</td>\n",
        "      <td>  Harvard Graduate School of Education</td>\n",
        "      <td>                    New York University</td>\n",
        "      <td>                             Lecturer on Education</td>\n",
        "      <td>             Ph.D.</td>\n",
        "      <td> 2008</td>\n",
        "    </tr>\n",
        "    <tr>\n",
        "      <th>21 </th>\n",
        "      <td>  Gretchen</td>\n",
        "      <td>     Brion-Meisels</td>\n",
        "      <td> HARVARD UNIVERSITY</td>\n",
        "      <td>  Harvard Graduate School of Education</td>\n",
        "      <td>   Harvard Graduate School of Education</td>\n",
        "      <td>                           Instructor in Education</td>\n",
        "      <td>             Ed.D.</td>\n",
        "      <td> 2013</td>\n",
        "    </tr>\n",
        "    <tr>\n",
        "      <th>22 </th>\n",
        "      <td>      Mary</td>\n",
        "      <td>        Burkhauser</td>\n",
        "      <td> HARVARD UNIVERSITY</td>\n",
        "      <td>  Harvard Graduate School of Education</td>\n",
        "      <td>                        Pace University</td>\n",
        "      <td>                     Visiting Scholar in Education</td>\n",
        "      <td>            M.A.T.</td>\n",
        "      <td> 2007</td>\n",
        "    </tr>\n",
        "    <tr>\n",
        "      <th>23 </th>\n",
        "      <td>   Eduardo</td>\n",
        "      <td>          Oliveira</td>\n",
        "      <td> HARVARD UNIVERSITY</td>\n",
        "      <td>  Harvard Graduate School of Education</td>\n",
        "      <td>                      NO INFO AVAILABLE</td>\n",
        "      <td>                Member of the Faculty of Education</td>\n",
        "      <td> NO INFO AVAILABLE</td>\n",
        "      <td>     </td>\n",
        "    </tr>\n",
        "    <tr>\n",
        "      <th>24 </th>\n",
        "      <td>     Susan</td>\n",
        "      <td>             Carey</td>\n",
        "      <td> HARVARD UNIVERSITY</td>\n",
        "      <td>  Harvard Graduate School of Education</td>\n",
        "      <td>                     Harvard University</td>\n",
        "      <td> Charles William Eliot Professor of Education, ...</td>\n",
        "      <td>             Ph.D.</td>\n",
        "      <td> 1971</td>\n",
        "    </tr>\n",
        "    <tr>\n",
        "      <th>25 </th>\n",
        "      <td>  Courtney</td>\n",
        "      <td>            Cazden</td>\n",
        "      <td> HARVARD UNIVERSITY</td>\n",
        "      <td>  Harvard Graduate School of Education</td>\n",
        "      <td>                     Harvard University</td>\n",
        "      <td>                  Professor of Education, Emeritus</td>\n",
        "      <td>             Ed.D.</td>\n",
        "      <td> 1965</td>\n",
        "    </tr>\n",
        "    <tr>\n",
        "      <th>26 </th>\n",
        "      <td>   Richard</td>\n",
        "      <td>             Chait</td>\n",
        "      <td> HARVARD UNIVERSITY</td>\n",
        "      <td>  Harvard Graduate School of Education</td>\n",
        "      <td>                University of Wisconsin</td>\n",
        "      <td>                  Postdoctoral Fellow in Education</td>\n",
        "      <td>             Ph.D.</td>\n",
        "      <td> 1972</td>\n",
        "    </tr>\n",
        "    <tr>\n",
        "      <th>27 </th>\n",
        "      <td>        Si</td>\n",
        "      <td>              Chen</td>\n",
        "      <td> HARVARD UNIVERSITY</td>\n",
        "      <td>  Harvard Graduate School of Education</td>\n",
        "      <td>                      NO INFO AVAILABLE</td>\n",
        "      <td>                     Visiting Scholar in Education</td>\n",
        "      <td> NO INFO AVAILABLE</td>\n",
        "      <td>     </td>\n",
        "    </tr>\n",
        "    <tr>\n",
        "      <th>28 </th>\n",
        "      <td>    Xinkui</td>\n",
        "      <td>              Chen</td>\n",
        "      <td> HARVARD UNIVERSITY</td>\n",
        "      <td>  Harvard Graduate School of Education</td>\n",
        "      <td>                      NO INFO AVAILABLE</td>\n",
        "      <td>                Member of the Faculty of Education</td>\n",
        "      <td> NO INFO AVAILABLE</td>\n",
        "      <td>     </td>\n",
        "    </tr>\n",
        "    <tr>\n",
        "      <th>29 </th>\n",
        "      <td>       Raj</td>\n",
        "      <td>            Chetty</td>\n",
        "      <td> HARVARD UNIVERSITY</td>\n",
        "      <td>  Harvard Graduate School of Education</td>\n",
        "      <td>                     Harvard University</td>\n",
        "      <td>                     Adjunct Lecturer on Education</td>\n",
        "      <td>             Ph.D.</td>\n",
        "      <td> 2003</td>\n",
        "    </tr>\n",
        "    <tr>\n",
        "      <th>...</th>\n",
        "      <td>...</td>\n",
        "      <td>...</td>\n",
        "      <td>...</td>\n",
        "      <td>...</td>\n",
        "      <td>...</td>\n",
        "      <td>...</td>\n",
        "      <td>...</td>\n",
        "      <td>...</td>\n",
        "    </tr>\n",
        "    <tr>\n",
        "      <th>193</th>\n",
        "      <td>      Beth</td>\n",
        "      <td>           Simpson</td>\n",
        "      <td> HARVARD UNIVERSITY</td>\n",
        "      <td>  Harvard Graduate School of Education</td>\n",
        "      <td>                     Harvard University</td>\n",
        "      <td>    Patricia Albjerg Graham Professor of Education</td>\n",
        "      <td>             Ed.M.</td>\n",
        "      <td> 2010</td>\n",
        "    </tr>\n",
        "    <tr>\n",
        "      <th>194</th>\n",
        "      <td>      Karl</td>\n",
        "      <td>           Sineath</td>\n",
        "      <td> HARVARD UNIVERSITY</td>\n",
        "      <td>  Harvard Graduate School of Education</td>\n",
        "      <td>                     Harvard University</td>\n",
        "      <td>                     Adjunct Lecturer on Education</td>\n",
        "      <td>            M.T.S.</td>\n",
        "      <td> 2005</td>\n",
        "    </tr>\n",
        "    <tr>\n",
        "      <th>195</th>\n",
        "      <td>    Judith</td>\n",
        "      <td>            Singer</td>\n",
        "      <td> HARVARD UNIVERSITY</td>\n",
        "      <td>  Harvard Graduate School of Education</td>\n",
        "      <td>                     Harvard University</td>\n",
        "      <td>                     Visiting Scholar in Education</td>\n",
        "      <td>             Ph.D.</td>\n",
        "      <td> 1983</td>\n",
        "    </tr>\n",
        "    <tr>\n",
        "      <th>196</th>\n",
        "      <td>  Jonathan</td>\n",
        "      <td>            Slater</td>\n",
        "      <td> HARVARD UNIVERSITY</td>\n",
        "      <td>  Harvard Graduate School of Education</td>\n",
        "      <td>                      NO INFO AVAILABLE</td>\n",
        "      <td>                Member of the Faculty of Education</td>\n",
        "      <td> NO INFO AVAILABLE</td>\n",
        "      <td>     </td>\n",
        "    </tr>\n",
        "    <tr>\n",
        "      <th>197</th>\n",
        "      <td>      Mike</td>\n",
        "      <td>             Smith</td>\n",
        "      <td> HARVARD UNIVERSITY</td>\n",
        "      <td>  Harvard Graduate School of Education</td>\n",
        "      <td>                     Harvard University</td>\n",
        "      <td> Nancy Pforzheimer Aronson Associate Professor ...</td>\n",
        "      <td>             Ed.D.</td>\n",
        "      <td> 1970</td>\n",
        "    </tr>\n",
        "    <tr>\n",
        "      <th>198</th>\n",
        "      <td> Catherine</td>\n",
        "      <td>              Snow</td>\n",
        "      <td> HARVARD UNIVERSITY</td>\n",
        "      <td>  Harvard Graduate School of Education</td>\n",
        "      <td>                      McGill University</td>\n",
        "      <td>                             Lecturer on Education</td>\n",
        "      <td>             Ph.D.</td>\n",
        "      <td> 1971</td>\n",
        "    </tr>\n",
        "    <tr>\n",
        "      <th>199</th>\n",
        "      <td>     Nancy</td>\n",
        "      <td>           Sommers</td>\n",
        "      <td> HARVARD UNIVERSITY</td>\n",
        "      <td>  Harvard Graduate School of Education</td>\n",
        "      <td>                      Boston University</td>\n",
        "      <td>                  Postdoctoral Fellow in Education</td>\n",
        "      <td>             Ed.D.</td>\n",
        "      <td> 1978</td>\n",
        "    </tr>\n",
        "    <tr>\n",
        "      <th>200</th>\n",
        "      <td>  Yingquan</td>\n",
        "      <td>              Song</td>\n",
        "      <td> HARVARD UNIVERSITY</td>\n",
        "      <td>  Harvard Graduate School of Education</td>\n",
        "      <td>                      NO INFO AVAILABLE</td>\n",
        "      <td>                             Lecturer on Education</td>\n",
        "      <td> NO INFO AVAILABLE</td>\n",
        "      <td>     </td>\n",
        "    </tr>\n",
        "    <tr>\n",
        "      <th>201</th>\n",
        "      <td> Elizabeth</td>\n",
        "      <td>            Spelke</td>\n",
        "      <td> HARVARD UNIVERSITY</td>\n",
        "      <td>  Harvard Graduate School of Education</td>\n",
        "      <td>                     Cornell University</td>\n",
        "      <td>                             Lecturer on Education</td>\n",
        "      <td>             Ph.D.</td>\n",
        "      <td> 1978</td>\n",
        "    </tr>\n",
        "    <tr>\n",
        "      <th>202</th>\n",
        "      <td>       Jon</td>\n",
        "      <td>              Star</td>\n",
        "      <td> HARVARD UNIVERSITY</td>\n",
        "      <td>  Harvard Graduate School of Education</td>\n",
        "      <td>                 University of Michigan</td>\n",
        "      <td>                     Adjunct Lecturer on Education</td>\n",
        "      <td>             Ph.D.</td>\n",
        "      <td> 2001</td>\n",
        "    </tr>\n",
        "    <tr>\n",
        "      <th>203</th>\n",
        "      <td>      Eric</td>\n",
        "      <td>            Taylor</td>\n",
        "      <td> HARVARD UNIVERSITY</td>\n",
        "      <td>  Harvard Graduate School of Education</td>\n",
        "      <td>                      NO INFO AVAILABLE</td>\n",
        "      <td>                     Adjunct Lecturer on Education</td>\n",
        "      <td> NO INFO AVAILABLE</td>\n",
        "      <td>     </td>\n",
        "    </tr>\n",
        "    <tr>\n",
        "      <th>204</th>\n",
        "      <td>       Lee</td>\n",
        "      <td>            Teitel</td>\n",
        "      <td> HARVARD UNIVERSITY</td>\n",
        "      <td>  Harvard Graduate School of Education</td>\n",
        "      <td>                     Harvard University</td>\n",
        "      <td>                Member of the Faculty of Education</td>\n",
        "      <td>             Ed.D.</td>\n",
        "      <td> 1988</td>\n",
        "    </tr>\n",
        "    <tr>\n",
        "      <th>205</th>\n",
        "      <td>  Meredith</td>\n",
        "      <td>          Thompson</td>\n",
        "      <td> HARVARD UNIVERSITY</td>\n",
        "      <td>  Harvard Graduate School of Education</td>\n",
        "      <td>                      NO INFO AVAILABLE</td>\n",
        "      <td> Lecturer on Education, Postdoctoral Fellow in ...</td>\n",
        "      <td> NO INFO AVAILABLE</td>\n",
        "      <td>     </td>\n",
        "    </tr>\n",
        "    <tr>\n",
        "      <th>206</th>\n",
        "      <td>     Shari</td>\n",
        "      <td>           Tishman</td>\n",
        "      <td> HARVARD UNIVERSITY</td>\n",
        "      <td>  Harvard Graduate School of Education</td>\n",
        "      <td>                     Harvard University</td>\n",
        "      <td>                  Associate Professor of Education</td>\n",
        "      <td>             Ed.D.</td>\n",
        "      <td> 1991</td>\n",
        "    </tr>\n",
        "    <tr>\n",
        "      <th>207</th>\n",
        "      <td>  Terrence</td>\n",
        "      <td>            Tivnan</td>\n",
        "      <td> HARVARD UNIVERSITY</td>\n",
        "      <td>  Harvard Graduate School of Education</td>\n",
        "      <td>                     Harvard University</td>\n",
        "      <td>                Member of the Faculty of Education</td>\n",
        "      <td>             Ed.D.</td>\n",
        "      <td> 1980</td>\n",
        "    </tr>\n",
        "    <tr>\n",
        "      <th>208</th>\n",
        "      <td>   Barbara</td>\n",
        "      <td>            Treacy</td>\n",
        "      <td> HARVARD UNIVERSITY</td>\n",
        "      <td>  Harvard Graduate School of Education</td>\n",
        "      <td>                     Harvard University</td>\n",
        "      <td>                     Adjunct Lecturer on Education</td>\n",
        "      <td>             Ed.M.</td>\n",
        "      <td> 1998</td>\n",
        "    </tr>\n",
        "    <tr>\n",
        "      <th>209</th>\n",
        "      <td>  Kimberly</td>\n",
        "      <td>            Truong</td>\n",
        "      <td> HARVARD UNIVERSITY</td>\n",
        "      <td>  Harvard Graduate School of Education</td>\n",
        "      <td>             University of Pennsylvania</td>\n",
        "      <td>                     Visiting Scholar in Education</td>\n",
        "      <td>             Ph.D.</td>\n",
        "      <td> 2010</td>\n",
        "    </tr>\n",
        "    <tr>\n",
        "      <th>210</th>\n",
        "      <td>   Michael</td>\n",
        "      <td>           Tushman</td>\n",
        "      <td> HARVARD UNIVERSITY</td>\n",
        "      <td>  Harvard Graduate School of Education</td>\n",
        "      <td>  Massachusetts Institute of Technology</td>\n",
        "      <td>                  Associate Professor of Education</td>\n",
        "      <td>             Ph.D.</td>\n",
        "      <td> 1976</td>\n",
        "    </tr>\n",
        "    <tr>\n",
        "      <th>211</th>\n",
        "      <td>   Michael</td>\n",
        "      <td>          Tutwiler</td>\n",
        "      <td> HARVARD UNIVERSITY</td>\n",
        "      <td>  Harvard Graduate School of Education</td>\n",
        "      <td>                      NO INFO AVAILABLE</td>\n",
        "      <td>                     Visiting Scholar in Education</td>\n",
        "      <td> NO INFO AVAILABLE</td>\n",
        "      <td>     </td>\n",
        "    </tr>\n",
        "    <tr>\n",
        "      <th>212</th>\n",
        "      <td>     Paola</td>\n",
        "      <td>           Uccelli</td>\n",
        "      <td> HARVARD UNIVERSITY</td>\n",
        "      <td>  Harvard Graduate School of Education</td>\n",
        "      <td>                     Harvard University</td>\n",
        "      <td>                      Senior Lecturer on Education</td>\n",
        "      <td>             Ed.D.</td>\n",
        "      <td> 2003</td>\n",
        "    </tr>\n",
        "    <tr>\n",
        "      <th>213</th>\n",
        "      <td>     David</td>\n",
        "      <td>             Urion</td>\n",
        "      <td> HARVARD UNIVERSITY</td>\n",
        "      <td>  Harvard Graduate School of Education</td>\n",
        "      <td>                    Stanford University</td>\n",
        "      <td>                  Associate Professor of Education</td>\n",
        "      <td>              M.D.</td>\n",
        "      <td> 1980</td>\n",
        "    </tr>\n",
        "    <tr>\n",
        "      <th>214</th>\n",
        "      <td>    Marcus</td>\n",
        "      <td>            Walker</td>\n",
        "      <td> HARVARD UNIVERSITY</td>\n",
        "      <td>  Harvard Graduate School of Education</td>\n",
        "      <td>                      NO INFO AVAILABLE</td>\n",
        "      <td> Charles William Eliot Research Professor of Ed...</td>\n",
        "      <td> NO INFO AVAILABLE</td>\n",
        "      <td>     </td>\n",
        "    </tr>\n",
        "    <tr>\n",
        "      <th>215</th>\n",
        "      <td>   Minhong</td>\n",
        "      <td>              Wang</td>\n",
        "      <td> HARVARD UNIVERSITY</td>\n",
        "      <td>  Harvard Graduate School of Education</td>\n",
        "      <td>                      NO INFO AVAILABLE</td>\n",
        "      <td> Charles William Eliot Professor of Education, ...</td>\n",
        "      <td> NO INFO AVAILABLE</td>\n",
        "      <td>     </td>\n",
        "    </tr>\n",
        "    <tr>\n",
        "      <th>216</th>\n",
        "      <td>   Natasha</td>\n",
        "      <td>           Warikoo</td>\n",
        "      <td> HARVARD UNIVERSITY</td>\n",
        "      <td>  Harvard Graduate School of Education</td>\n",
        "      <td>                     Harvard University</td>\n",
        "      <td>                             Lecturer on Education</td>\n",
        "      <td>             Ph.D.</td>\n",
        "      <td> 2005</td>\n",
        "    </tr>\n",
        "    <tr>\n",
        "      <th>217</th>\n",
        "      <td> Christina</td>\n",
        "      <td>           Weiland</td>\n",
        "      <td> HARVARD UNIVERSITY</td>\n",
        "      <td>  Harvard Graduate School of Education</td>\n",
        "      <td>                      NO INFO AVAILABLE</td>\n",
        "      <td>            Senior Research Associate in Education</td>\n",
        "      <td> NO INFO AVAILABLE</td>\n",
        "      <td>     </td>\n",
        "    </tr>\n",
        "    <tr>\n",
        "      <th>218</th>\n",
        "      <td>   Richard</td>\n",
        "      <td>        Weissbourd</td>\n",
        "      <td> HARVARD UNIVERSITY</td>\n",
        "      <td>  Harvard Graduate School of Education</td>\n",
        "      <td>                     Harvard University</td>\n",
        "      <td>                     Visiting Scholar in Education</td>\n",
        "      <td>             Ed.D.</td>\n",
        "      <td> 1987</td>\n",
        "    </tr>\n",
        "    <tr>\n",
        "      <th>219</th>\n",
        "      <td>    Martin</td>\n",
        "      <td>              West</td>\n",
        "      <td> HARVARD UNIVERSITY</td>\n",
        "      <td>  Harvard Graduate School of Education</td>\n",
        "      <td>                     Harvard University</td>\n",
        "      <td>                     Visiting Scholar in Education</td>\n",
        "      <td>             Ph.D.</td>\n",
        "      <td> 2006</td>\n",
        "    </tr>\n",
        "    <tr>\n",
        "      <th>220</th>\n",
        "      <td>      Dean</td>\n",
        "      <td>            Whitla</td>\n",
        "      <td> HARVARD UNIVERSITY</td>\n",
        "      <td>  Harvard Graduate School of Education</td>\n",
        "      <td>                 University of Nebraska</td>\n",
        "      <td>                             Lecturer on Education</td>\n",
        "      <td>             Ph.D.</td>\n",
        "      <td> 1957</td>\n",
        "    </tr>\n",
        "    <tr>\n",
        "      <th>221</th>\n",
        "      <td>      John</td>\n",
        "      <td>           Willett</td>\n",
        "      <td> HARVARD UNIVERSITY</td>\n",
        "      <td>  Harvard Graduate School of Education</td>\n",
        "      <td>                    Stanford University</td>\n",
        "      <td>                     Visiting Scholar in Education</td>\n",
        "      <td>             Ph.D.</td>\n",
        "      <td> 1985</td>\n",
        "    </tr>\n",
        "    <tr>\n",
        "      <th>222</th>\n",
        "      <td>   Charles</td>\n",
        "      <td>            Willie</td>\n",
        "      <td> HARVARD UNIVERSITY</td>\n",
        "      <td>  Harvard Graduate School of Education</td>\n",
        "      <td>                    Syracuse University</td>\n",
        "      <td>                     Visiting Scholar in Education</td>\n",
        "      <td>             Ph.D.</td>\n",
        "      <td> 1957</td>\n",
        "    </tr>\n",
        "  </tbody>\n",
        "</table>\n",
        "<p>223 rows \u00d7 8 columns</p>\n",
        "</div>"
       ],
       "metadata": {},
       "output_type": "pyout",
       "prompt_number": 214,
       "text": [
        "     firstname           lastname          university  \\\n",
        "0      Alberto             Abadie  HARVARD UNIVERSITY   \n",
        "1        Emily             Ackman  HARVARD UNIVERSITY   \n",
        "2       Lauren              Adams  HARVARD UNIVERSITY   \n",
        "3       Mitsue        Allen-Tamai  HARVARD UNIVERSITY   \n",
        "4       Andres             Alonso  HARVARD UNIVERSITY   \n",
        "5         Arif              Altun  HARVARD UNIVERSITY   \n",
        "6       Chiwen                Bao  HARVARD UNIVERSITY   \n",
        "7       Dennis               Barr  HARVARD UNIVERSITY   \n",
        "8       Felipe     Barrera-Osorio  HARVARD UNIVERSITY   \n",
        "9      William          Beardslee  HARVARD UNIVERSITY   \n",
        "10      Janine          Bempechat  HARVARD UNIVERSITY   \n",
        "11         Ron             Berger  HARVARD UNIVERSITY   \n",
        "12      Joseph              Blatt  HARVARD UNIVERSITY   \n",
        "13        Tina             Blythe  HARVARD UNIVERSITY   \n",
        "14     Candice             Bocala  HARVARD UNIVERSITY   \n",
        "15        Lisa               Boes  HARVARD UNIVERSITY   \n",
        "16   Katherine              Boles  HARVARD UNIVERSITY   \n",
        "17     Kathryn            Boudett  HARVARD UNIVERSITY   \n",
        "18     Jocelyn              Bowne  HARVARD UNIVERSITY   \n",
        "19       Karen            Brennan  HARVARD UNIVERSITY   \n",
        "20       Ebony  Bridwell-Mitchell  HARVARD UNIVERSITY   \n",
        "21    Gretchen      Brion-Meisels  HARVARD UNIVERSITY   \n",
        "22        Mary         Burkhauser  HARVARD UNIVERSITY   \n",
        "23     Eduardo           Oliveira  HARVARD UNIVERSITY   \n",
        "24       Susan              Carey  HARVARD UNIVERSITY   \n",
        "25    Courtney             Cazden  HARVARD UNIVERSITY   \n",
        "26     Richard              Chait  HARVARD UNIVERSITY   \n",
        "27          Si               Chen  HARVARD UNIVERSITY   \n",
        "28      Xinkui               Chen  HARVARD UNIVERSITY   \n",
        "29         Raj             Chetty  HARVARD UNIVERSITY   \n",
        "..         ...                ...                 ...   \n",
        "193       Beth            Simpson  HARVARD UNIVERSITY   \n",
        "194       Karl            Sineath  HARVARD UNIVERSITY   \n",
        "195     Judith             Singer  HARVARD UNIVERSITY   \n",
        "196   Jonathan             Slater  HARVARD UNIVERSITY   \n",
        "197       Mike              Smith  HARVARD UNIVERSITY   \n",
        "198  Catherine               Snow  HARVARD UNIVERSITY   \n",
        "199      Nancy            Sommers  HARVARD UNIVERSITY   \n",
        "200   Yingquan               Song  HARVARD UNIVERSITY   \n",
        "201  Elizabeth             Spelke  HARVARD UNIVERSITY   \n",
        "202        Jon               Star  HARVARD UNIVERSITY   \n",
        "203       Eric             Taylor  HARVARD UNIVERSITY   \n",
        "204        Lee             Teitel  HARVARD UNIVERSITY   \n",
        "205   Meredith           Thompson  HARVARD UNIVERSITY   \n",
        "206      Shari            Tishman  HARVARD UNIVERSITY   \n",
        "207   Terrence             Tivnan  HARVARD UNIVERSITY   \n",
        "208    Barbara             Treacy  HARVARD UNIVERSITY   \n",
        "209   Kimberly             Truong  HARVARD UNIVERSITY   \n",
        "210    Michael            Tushman  HARVARD UNIVERSITY   \n",
        "211    Michael           Tutwiler  HARVARD UNIVERSITY   \n",
        "212      Paola            Uccelli  HARVARD UNIVERSITY   \n",
        "213      David              Urion  HARVARD UNIVERSITY   \n",
        "214     Marcus             Walker  HARVARD UNIVERSITY   \n",
        "215    Minhong               Wang  HARVARD UNIVERSITY   \n",
        "216    Natasha            Warikoo  HARVARD UNIVERSITY   \n",
        "217  Christina            Weiland  HARVARD UNIVERSITY   \n",
        "218    Richard         Weissbourd  HARVARD UNIVERSITY   \n",
        "219     Martin               West  HARVARD UNIVERSITY   \n",
        "220       Dean             Whitla  HARVARD UNIVERSITY   \n",
        "221       John            Willett  HARVARD UNIVERSITY   \n",
        "222    Charles             Willie  HARVARD UNIVERSITY   \n",
        "\n",
        "                                department  \\\n",
        "0     Harvard Graduate School of Education   \n",
        "1     Harvard Graduate School of Education   \n",
        "2     Harvard Graduate School of Education   \n",
        "3     Harvard Graduate School of Education   \n",
        "4     Harvard Graduate School of Education   \n",
        "5     Harvard Graduate School of Education   \n",
        "6     Harvard Graduate School of Education   \n",
        "7     Harvard Graduate School of Education   \n",
        "8     Harvard Graduate School of Education   \n",
        "9     Harvard Graduate School of Education   \n",
        "10    Harvard Graduate School of Education   \n",
        "11    Harvard Graduate School of Education   \n",
        "12    Harvard Graduate School of Education   \n",
        "13    Harvard Graduate School of Education   \n",
        "14    Harvard Graduate School of Education   \n",
        "15    Harvard Graduate School of Education   \n",
        "16    Harvard Graduate School of Education   \n",
        "17    Harvard Graduate School of Education   \n",
        "18    Harvard Graduate School of Education   \n",
        "19    Harvard Graduate School of Education   \n",
        "20    Harvard Graduate School of Education   \n",
        "21    Harvard Graduate School of Education   \n",
        "22    Harvard Graduate School of Education   \n",
        "23    Harvard Graduate School of Education   \n",
        "24    Harvard Graduate School of Education   \n",
        "25    Harvard Graduate School of Education   \n",
        "26    Harvard Graduate School of Education   \n",
        "27    Harvard Graduate School of Education   \n",
        "28    Harvard Graduate School of Education   \n",
        "29    Harvard Graduate School of Education   \n",
        "..                                     ...   \n",
        "193   Harvard Graduate School of Education   \n",
        "194   Harvard Graduate School of Education   \n",
        "195   Harvard Graduate School of Education   \n",
        "196   Harvard Graduate School of Education   \n",
        "197   Harvard Graduate School of Education   \n",
        "198   Harvard Graduate School of Education   \n",
        "199   Harvard Graduate School of Education   \n",
        "200   Harvard Graduate School of Education   \n",
        "201   Harvard Graduate School of Education   \n",
        "202   Harvard Graduate School of Education   \n",
        "203   Harvard Graduate School of Education   \n",
        "204   Harvard Graduate School of Education   \n",
        "205   Harvard Graduate School of Education   \n",
        "206   Harvard Graduate School of Education   \n",
        "207   Harvard Graduate School of Education   \n",
        "208   Harvard Graduate School of Education   \n",
        "209   Harvard Graduate School of Education   \n",
        "210   Harvard Graduate School of Education   \n",
        "211   Harvard Graduate School of Education   \n",
        "212   Harvard Graduate School of Education   \n",
        "213   Harvard Graduate School of Education   \n",
        "214   Harvard Graduate School of Education   \n",
        "215   Harvard Graduate School of Education   \n",
        "216   Harvard Graduate School of Education   \n",
        "217   Harvard Graduate School of Education   \n",
        "218   Harvard Graduate School of Education   \n",
        "219   Harvard Graduate School of Education   \n",
        "220   Harvard Graduate School of Education   \n",
        "221   Harvard Graduate School of Education   \n",
        "222   Harvard Graduate School of Education   \n",
        "\n",
        "                                grad_school  \\\n",
        "0     Massachusetts Institute of Technology   \n",
        "1                  Arizona State University   \n",
        "2                           Simmons College   \n",
        "3                         NO INFO AVAILABLE   \n",
        "4                        Harvard University   \n",
        "5                         NO INFO AVAILABLE   \n",
        "6                         NO INFO AVAILABLE   \n",
        "7                        Harvard University   \n",
        "8                    University of Maryland   \n",
        "9           Case Western Reserve University   \n",
        "10                       Harvard University   \n",
        "11                       Harvard University   \n",
        "12                       Harvard University   \n",
        "13                       Harvard University   \n",
        "14                       Harvard University   \n",
        "15                       Harvard University   \n",
        "16                       Harvard University   \n",
        "17                       Harvard University   \n",
        "18                        NO INFO AVAILABLE   \n",
        "19    Massachusetts Institute of Technology   \n",
        "20                      New York University   \n",
        "21     Harvard Graduate School of Education   \n",
        "22                          Pace University   \n",
        "23                        NO INFO AVAILABLE   \n",
        "24                       Harvard University   \n",
        "25                       Harvard University   \n",
        "26                  University of Wisconsin   \n",
        "27                        NO INFO AVAILABLE   \n",
        "28                        NO INFO AVAILABLE   \n",
        "29                       Harvard University   \n",
        "..                                      ...   \n",
        "193                      Harvard University   \n",
        "194                      Harvard University   \n",
        "195                      Harvard University   \n",
        "196                       NO INFO AVAILABLE   \n",
        "197                      Harvard University   \n",
        "198                       McGill University   \n",
        "199                       Boston University   \n",
        "200                       NO INFO AVAILABLE   \n",
        "201                      Cornell University   \n",
        "202                  University of Michigan   \n",
        "203                       NO INFO AVAILABLE   \n",
        "204                      Harvard University   \n",
        "205                       NO INFO AVAILABLE   \n",
        "206                      Harvard University   \n",
        "207                      Harvard University   \n",
        "208                      Harvard University   \n",
        "209              University of Pennsylvania   \n",
        "210   Massachusetts Institute of Technology   \n",
        "211                       NO INFO AVAILABLE   \n",
        "212                      Harvard University   \n",
        "213                     Stanford University   \n",
        "214                       NO INFO AVAILABLE   \n",
        "215                       NO INFO AVAILABLE   \n",
        "216                      Harvard University   \n",
        "217                       NO INFO AVAILABLE   \n",
        "218                      Harvard University   \n",
        "219                      Harvard University   \n",
        "220                  University of Nebraska   \n",
        "221                     Stanford University   \n",
        "222                     Syracuse University   \n",
        "\n",
        "                                                 title     highest_degree  \\\n",
        "0                   Member of the Faculty of Education              Ph.D.   \n",
        "1                     Postdoctoral Fellow in Education              Ph.D.   \n",
        "2                        Adjunct Lecturer on Education               M.A.   \n",
        "3                                Professor of Practice  NO INFO AVAILABLE   \n",
        "4                        Visiting Scholar in Education              Ed.D.   \n",
        "5                         Visiting Fellow in Education  NO INFO AVAILABLE   \n",
        "6                        Adjunct Lecturer on Education  NO INFO AVAILABLE   \n",
        "7       Assistant Professor of Education and Economics              Ed.D.   \n",
        "8                   Member of the Faculty of Education              Ph.D.   \n",
        "9                        Visiting Scholar in Education               M.D.   \n",
        "10                       Adjunct Lecturer on Education              Ed.D.   \n",
        "11                        Senior Lecturer on Education              Ed.M.   \n",
        "12                       Adjunct Lecturer on Education              Ed.M.   \n",
        "13                       Adjunct Lecturer on Education              Ed.M.   \n",
        "14                       Adjunct Lecturer on Education              Ed.D.   \n",
        "15                        Senior Lecturer on Education              Ed.D.   \n",
        "16                               Lecturer on Education              Ed.D.   \n",
        "17                    Postdoctoral Fellow in Education              Ph.D.   \n",
        "18                    Assistant Professor of Education  NO INFO AVAILABLE   \n",
        "19                    Assistant Professor of Education              Ph.D.   \n",
        "20                               Lecturer on Education              Ph.D.   \n",
        "21                             Instructor in Education              Ed.D.   \n",
        "22                       Visiting Scholar in Education             M.A.T.   \n",
        "23                  Member of the Faculty of Education  NO INFO AVAILABLE   \n",
        "24   Charles William Eliot Professor of Education, ...              Ph.D.   \n",
        "25                    Professor of Education, Emeritus              Ed.D.   \n",
        "26                    Postdoctoral Fellow in Education              Ph.D.   \n",
        "27                       Visiting Scholar in Education  NO INFO AVAILABLE   \n",
        "28                  Member of the Faculty of Education  NO INFO AVAILABLE   \n",
        "29                       Adjunct Lecturer on Education              Ph.D.   \n",
        "..                                                 ...                ...   \n",
        "193     Patricia Albjerg Graham Professor of Education              Ed.M.   \n",
        "194                      Adjunct Lecturer on Education             M.T.S.   \n",
        "195                      Visiting Scholar in Education              Ph.D.   \n",
        "196                 Member of the Faculty of Education  NO INFO AVAILABLE   \n",
        "197  Nancy Pforzheimer Aronson Associate Professor ...              Ed.D.   \n",
        "198                              Lecturer on Education              Ph.D.   \n",
        "199                   Postdoctoral Fellow in Education              Ed.D.   \n",
        "200                              Lecturer on Education  NO INFO AVAILABLE   \n",
        "201                              Lecturer on Education              Ph.D.   \n",
        "202                      Adjunct Lecturer on Education              Ph.D.   \n",
        "203                      Adjunct Lecturer on Education  NO INFO AVAILABLE   \n",
        "204                 Member of the Faculty of Education              Ed.D.   \n",
        "205  Lecturer on Education, Postdoctoral Fellow in ...  NO INFO AVAILABLE   \n",
        "206                   Associate Professor of Education              Ed.D.   \n",
        "207                 Member of the Faculty of Education              Ed.D.   \n",
        "208                      Adjunct Lecturer on Education              Ed.M.   \n",
        "209                      Visiting Scholar in Education              Ph.D.   \n",
        "210                   Associate Professor of Education              Ph.D.   \n",
        "211                      Visiting Scholar in Education  NO INFO AVAILABLE   \n",
        "212                       Senior Lecturer on Education              Ed.D.   \n",
        "213                   Associate Professor of Education               M.D.   \n",
        "214  Charles William Eliot Research Professor of Ed...  NO INFO AVAILABLE   \n",
        "215  Charles William Eliot Professor of Education, ...  NO INFO AVAILABLE   \n",
        "216                              Lecturer on Education              Ph.D.   \n",
        "217             Senior Research Associate in Education  NO INFO AVAILABLE   \n",
        "218                      Visiting Scholar in Education              Ed.D.   \n",
        "219                      Visiting Scholar in Education              Ph.D.   \n",
        "220                              Lecturer on Education              Ph.D.   \n",
        "221                      Visiting Scholar in Education              Ph.D.   \n",
        "222                      Visiting Scholar in Education              Ph.D.   \n",
        "\n",
        "    Grad_Yr  \n",
        "0      1999  \n",
        "1      2013  \n",
        "2      1995  \n",
        "3            \n",
        "4      2006  \n",
        "5            \n",
        "6            \n",
        "7      1993  \n",
        "8      2003  \n",
        "9      1971  \n",
        "10     1986  \n",
        "11     1990  \n",
        "12     1977  \n",
        "13     2002  \n",
        "14     2014  \n",
        "15     2006  \n",
        "16     1991  \n",
        "17     1998  \n",
        "18           \n",
        "19     2012  \n",
        "20     2008  \n",
        "21     2013  \n",
        "22     2007  \n",
        "23           \n",
        "24     1971  \n",
        "25     1965  \n",
        "26     1972  \n",
        "27           \n",
        "28           \n",
        "29     2003  \n",
        "..      ...  \n",
        "193    2010  \n",
        "194    2005  \n",
        "195    1983  \n",
        "196          \n",
        "197    1970  \n",
        "198    1971  \n",
        "199    1978  \n",
        "200          \n",
        "201    1978  \n",
        "202    2001  \n",
        "203          \n",
        "204    1988  \n",
        "205          \n",
        "206    1991  \n",
        "207    1980  \n",
        "208    1998  \n",
        "209    2010  \n",
        "210    1976  \n",
        "211          \n",
        "212    2003  \n",
        "213    1980  \n",
        "214          \n",
        "215          \n",
        "216    2005  \n",
        "217          \n",
        "218    1987  \n",
        "219    2006  \n",
        "220    1957  \n",
        "221    1985  \n",
        "222    1957  \n",
        "\n",
        "[223 rows x 8 columns]"
       ]
      }
     ],
     "prompt_number": 214
    },
    {
     "cell_type": "code",
     "collapsed": false,
     "input": [],
     "language": "python",
     "metadata": {},
     "outputs": []
    }
   ],
   "metadata": {}
  }
 ]
}