{
 "metadata": {
  "name": "",
  "signature": "sha256:91496e00515ad507e21ecdfdf8252380a759bf311899aebccbe73eb0ca566d11"
 },
 "nbformat": 3,
 "nbformat_minor": 0,
 "worksheets": [
  {
   "cells": [
    {
     "cell_type": "code",
     "collapsed": false,
     "input": [
      "%matplotlib inline\n",
      "import nltk\n",
      "from nltk.corpus import stopwords\n",
      "import math\n",
      "import collections\n",
      "import numpy as np\n",
      "import scipy as sp\n",
      "import cProfile\n",
      "import scipy.cluster.hierarchy as hier\n",
      "import scipy.spatial.distance as dist\n",
      "import matplotlib.pyplot as plt\n",
      "import time"
     ],
     "language": "python",
     "metadata": {},
     "outputs": [],
     "prompt_number": 60
    },
    {
     "cell_type": "code",
     "collapsed": false,
     "input": [
      "\n",
      "start1 = time.clock()\n",
      "#function to organize abstracts in their respective groups given the abstract content and the group number of each abstract.\n",
      "def organize_by_group(abstract_groups, abstracts, field,group_number):\n",
      "    for i in range(len(abstract_groups)):\n",
      "        if(groups[i][1])==group_number:\n",
      "            for j in range(len(abstracts[i])):\n",
      "                field.append(abstracts[i][j])\n",
      "\n",
      "\n",
      "#function to calculate cultural hole between two sets of fields which are sets of unigrams, x and y\n",
      "def cultural_Hole(x, y):\n",
      "    alp ,kld_x_y, shannon_x = 0.01,0,0\n",
      "    prob_xy, prob_x, prob_y = {},{},{}#probabilities of a given word across both sets\n",
      "    \n",
      "    #map that stores the number of occurences of a given word in set x\n",
      "    count_x, count_y, count_xy = collections.defaultdict(int),collections.defaultdict(int),collections.defaultdict(int)\n",
      "    xy_words = []#array that stores all words across both sets including repeated ones.\n",
      "    n1,n2 = len(x), len(y)\n",
      "    \n",
      "    for word1, word2 in map(None,x,y):\n",
      "        xy_words.append(word1)#populating array xy_words\n",
      "        xy_words.append(word2)\n",
      "    \n",
      "    for i,j,k in map(None, xy_words,x, y):\n",
      "        count_xy[i]+=1\n",
      "        count_x[j]+=1\n",
      "        count_y[k]+=1\n",
      "        \n",
      "    for word in x:\n",
      "        prob_x[word] = float(count_x[word])/n1#populating dictionaries that keeps track of probabilities of each across sets x, y and xy\n",
      "    for word in y:\n",
      "        prob_y[word] = float(count_y[word])/n2\n",
      "    for word in count_xy:\n",
      "        prob_xy[word] = float(count_xy[word])/(n1+n2)\n",
      "    \n",
      "    for word in prob_x:\n",
      "        shannon_x += float(prob_x[word])*math.log(prob_x[word],2)*(-1)#calculation of shannon entropy\n",
      "    \n",
      "    for word in prob_xy:\n",
      "        if word in prob_x:\n",
      "            p_1=(1-alp)*prob_x[word] + alp*prob_xy[word]\n",
      "        else:\n",
      "            p_1 = alp*prob_xy[word]\n",
      "        if word in prob_y:\n",
      "            p_2=(1-alp)*prob_y[word] + alp*prob_xy[word]\n",
      "        else:\n",
      "            p_2 = alp*prob_xy[word]\n",
      "        kld_x_y+= p_1*math.log(p_2,2)*(-1)#calculation of KLD\n",
      "    E_xy = shannon_x/kld_x_y\n",
      "    C_xy = 1 - E_xy#calculation of cultural hole\n",
      "    return C_xy\n",
      "\n",
      "#function to calculate cultural holes between all pairwise combination of fields in a given list of fields.\n",
      "def all_Cultural_Holes(list_of_fields):\n",
      "    count = 0\n",
      "    matrix = np.zeros((10,10))\n",
      "    for i in range(len(list_of_fields)):\n",
      "        for j in range(len(list_of_fields)):\n",
      "            if i!=j:\n",
      "                count+=1\n",
      "                matrix[i][j] = cultural_Hole(list_of_fields[i],list_of_fields[j])\n",
      "                print str(count)+\"  Cultural Hole \"+str(i+1)+\" to \"+str(j+1)+\" :  \", matrix[i][j]\n",
      "    return matrix\n",
      "\n",
      "#function that returns the dendogram by taking the entire dataset as input. The matrix returned from the previous function has been used.\n",
      "def dendrogram(list_of_fields):\n",
      "    mat = all_Cultural_Holes(list_of_fields)\n",
      "    distMatrix = dist.pdist(mat)\n",
      "    distSquareMatrix = dist.squareform(distMatrix)\n",
      "    linkageMatrix = hier.linkage(distSquareMatrix)\n",
      "    hier.dendrogram(linkageMatrix,color_threshold=1,labels=[\"Eco/Evo\", \"Mol/Cell Bio\", \"Econ\",\"Soc\", \"Prob/Stat\", \"Org& Mkt\", \"Law\", \"Anthro\",\"Politics\", \"Education\"],show_leaf_counts=True)\n",
      "    plt.show()\n",
      "    \n",
      "def calculate_time_taken(a,b,c):\n",
      "    print \"Time taken is  \", (a+b+c), \" seconds\"\n",
      "    \n",
      "t1 = time.clock() -start1"
     ],
     "language": "python",
     "metadata": {},
     "outputs": [],
     "prompt_number": 61
    },
    {
     "cell_type": "code",
     "collapsed": false,
     "input": [],
     "language": "python",
     "metadata": {},
     "outputs": [],
     "prompt_number": 61
    },
    {
     "cell_type": "code",
     "collapsed": false,
     "input": [
      "start2 = time.clock()\n",
      "\n",
      "stopwords_list = [\"all\",\"just\",\"being\",\"over\",\"both\",\"through\",\"yourselves\",\"its\",\"before\",\"herself\",\"had\",\"should\",\"to\",\"only\",\"under\",\"ours\",\"has\",\"do\",\"them\",\"his\",\"very\",\"they\",\"not\",\"during\",\"now\",\"him\",\"nor\",\"did\",\"this\",\"she\",\"each\",\"further\",\"where\",\"few\",\"because\",\"doing\",\"some\",\"are\",\"our\",\"ourselves\",\"out\",\"what\",\"for\",\"while\",\"does\",\"above\",\"between\",\"t\",\"be\",\"we\",\"who\",\"were\",\"here\",\"hers\",\"by\",\"on\",\"about\",\"of\",\"against\",\"s\",\"or\",\"own\",\"into\",\"yourself\",\"down\",\"your\",\"from\",\"her\",\"their\",\"there\",\"been\",\"whom\",\"too\",\"themselves\",\"was\",\"until\",\"more\",\"himself\",\"that\",\"but\",\"don\",\"with\",\"than\",\"those\",\"he\",\"me\",\"myself\",\"these\",\"up\",\"will\",\"below\",\"can\",\"theirs\",\"my\",\"and\",\"then\",\"is\",\"am\",\"it\",\"an\",\"as\",\"itself\",\"at\",\"have\",\"in\",\"any\",\"if\",\"again\",\"no\",\"when\",\"same\",\"how\",\"other\",\"which\",\"you\",\"after\",\"most\",\"such\",\"why\",\"a\",\"off\",\"i\",\"yours\",\"so\",\"the\",\"having\",\"once\"]\n",
      "\n",
      "abstract_keys, abstract_value = [],[]\n",
      "\n",
      "Array = []\n",
      "with open(\"abstracts2.txt\") as f:\n",
      "    for l in f:\n",
      "        Array.append(l.strip().split(\"\\t\"))# splitting the given dataset by /t\n",
      "Array = Array[1:]#discarding the first row which is the title\n",
      "\n",
      "x = []\n",
      "with open(\"groups2.txt\") as f:\n",
      "    for l in f:\n",
      "        x.append(l.strip().split(\"\\t\"))# splitting the given dataset by /t\n",
      "groups = x[1:]#discardinf the first row which is the title\n",
      "\n",
      "#abstract_keys = []#stores the keys of the abstracts\n",
      "for i in range(len(Array)):\n",
      "    abstract_keys.append(Array[i][0])\n",
      "    abstract_value.append(Array[i][1])\n",
      "    abstract_value[i] = [w for w in abstract_value[i].split() if not w in stopwords_list]\n",
      "\n",
      "#arrays to store words in each of the 10 fields\n",
      "field_1,field_2,field_3,field_4,field_5, field_6,field_7,field_8,field_9,field_10= [],[],[],[],[],[],[],[],[],[]\n",
      "\n",
      "#organizing all 10 abstracts into their groups                \n",
      "organize_by_group(groups,abstract_value, field_1, '1')\n",
      "organize_by_group(groups,abstract_value, field_2, '2')\n",
      "organize_by_group(groups,abstract_value, field_3, '3')\n",
      "organize_by_group(groups,abstract_value, field_4, '4')\n",
      "organize_by_group(groups,abstract_value, field_5, '5')\n",
      "organize_by_group(groups,abstract_value, field_6, '6')\n",
      "organize_by_group(groups,abstract_value, field_7, '7')\n",
      "organize_by_group(groups,abstract_value, field_8, '8')\n",
      "organize_by_group(groups,abstract_value, field_9, '9')\n",
      "organize_by_group(groups,abstract_value, field_10,'10')\n",
      "\n",
      "fields = [field_1,field_2,field_3,field_4,field_5,field_6,field_7,field_8,field_9,field_10]#list of lists, each list a group(1 to 10)\n",
      "\n",
      "t2 = time.clock()-start2"
     ],
     "language": "python",
     "metadata": {},
     "outputs": [],
     "prompt_number": 62
    },
    {
     "cell_type": "code",
     "collapsed": false,
     "input": [
      "start3 = time.clock()\n",
      "dendrogram(fields)\n",
      "t3 = time.clock()-start3\n",
      "calculate_time_taken(t1, t2, t3)"
     ],
     "language": "python",
     "metadata": {},
     "outputs": [
      {
       "output_type": "stream",
       "stream": "stdout",
       "text": [
        "1  Cultural Hole 1 to 2 :   0.177048269447\n",
        "2  Cultural Hole 1 to 3 :  "
       ]
      },
      {
       "output_type": "stream",
       "stream": "stdout",
       "text": [
        " 0.193333752089\n",
        "3  Cultural Hole 1 to 4 :  "
       ]
      },
      {
       "output_type": "stream",
       "stream": "stdout",
       "text": [
        " 0.194180789045\n",
        "4  Cultural Hole 1 to 5 :  "
       ]
      },
      {
       "output_type": "stream",
       "stream": "stdout",
       "text": [
        " 0.196877581916\n",
        "5  Cultural Hole 1 to 6 :  "
       ]
      },
      {
       "output_type": "stream",
       "stream": "stdout",
       "text": [
        " 0.211336887669\n",
        "6  Cultural Hole 1 to 7 :  "
       ]
      },
      {
       "output_type": "stream",
       "stream": "stdout",
       "text": [
        " 0.240658629918\n",
        "7  Cultural Hole 1 to 8 :  "
       ]
      },
      {
       "output_type": "stream",
       "stream": "stdout",
       "text": [
        " 0.213785275616\n",
        "8  Cultural Hole 1 to 9 :  "
       ]
      },
      {
       "output_type": "stream",
       "stream": "stdout",
       "text": [
        " 0.225201146306\n",
        "9  Cultural Hole 1 to 10 :  "
       ]
      },
      {
       "output_type": "stream",
       "stream": "stdout",
       "text": [
        " 0.214430132041\n",
        "10  Cultural Hole 2 to 1 :  "
       ]
      },
      {
       "output_type": "stream",
       "stream": "stdout",
       "text": [
        " 0.1885162993\n",
        "11  Cultural Hole 2 to 3 :  "
       ]
      },
      {
       "output_type": "stream",
       "stream": "stdout",
       "text": [
        " 0.238236552976\n",
        "12  Cultural Hole 2 to 4 :  "
       ]
      },
      {
       "output_type": "stream",
       "stream": "stdout",
       "text": [
        " 0.232950443702\n",
        "13  Cultural Hole 2 to 5 :  "
       ]
      },
      {
       "output_type": "stream",
       "stream": "stdout",
       "text": [
        " 0.224222371972\n",
        "14  Cultural Hole 2 to 6 :  "
       ]
      },
      {
       "output_type": "stream",
       "stream": "stdout",
       "text": [
        " 0.242745680849\n",
        "15  Cultural Hole 2 to 7 :  "
       ]
      },
      {
       "output_type": "stream",
       "stream": "stdout",
       "text": [
        " 0.263603169848\n",
        "16  Cultural Hole 2 to 8 :  "
       ]
      },
      {
       "output_type": "stream",
       "stream": "stdout",
       "text": [
        " 0.252536790374\n",
        "17  Cultural Hole 2 to 9 :  "
       ]
      },
      {
       "output_type": "stream",
       "stream": "stdout",
       "text": [
        " 0.253592300517\n",
        "18  Cultural Hole 2 to 10 :  "
       ]
      },
      {
       "output_type": "stream",
       "stream": "stdout",
       "text": [
        " 0.250157277006\n",
        "19  Cultural Hole 3 to 1 :  "
       ]
      },
      {
       "output_type": "stream",
       "stream": "stdout",
       "text": [
        " 0.205476402092\n",
        "20  Cultural Hole 3 to 2 :  "
       ]
      },
      {
       "output_type": "stream",
       "stream": "stdout",
       "text": [
        " 0.252364518366\n",
        "21  Cultural Hole 3 to 4 :  "
       ]
      },
      {
       "output_type": "stream",
       "stream": "stdout",
       "text": [
        " 0.166239139211\n",
        "22  Cultural Hole 3 to 5 :  "
       ]
      },
      {
       "output_type": "stream",
       "stream": "stdout",
       "text": [
        " 0.182038384017\n",
        "23  Cultural Hole 3 to 6 :  "
       ]
      },
      {
       "output_type": "stream",
       "stream": "stdout",
       "text": [
        " 0.165189945737\n",
        "24  Cultural Hole 3 to 7 :  "
       ]
      },
      {
       "output_type": "stream",
       "stream": "stdout",
       "text": [
        " 0.208985069027\n",
        "25  Cultural Hole 3 to 8 :  "
       ]
      },
      {
       "output_type": "stream",
       "stream": "stdout",
       "text": [
        " 0.189199906654\n",
        "26  Cultural Hole 3 to 9 :  "
       ]
      },
      {
       "output_type": "stream",
       "stream": "stdout",
       "text": [
        " 0.190266316675\n",
        "27  Cultural Hole 3 to 10 :  "
       ]
      },
      {
       "output_type": "stream",
       "stream": "stdout",
       "text": [
        " 0.192163464169\n",
        "28  Cultural Hole 4 to 1 :  "
       ]
      },
      {
       "output_type": "stream",
       "stream": "stdout",
       "text": [
        " 0.212237516073\n",
        "29  Cultural Hole 4 to 2 :  "
       ]
      },
      {
       "output_type": "stream",
       "stream": "stdout",
       "text": [
        " 0.249672053714\n",
        "30  Cultural Hole 4 to 3 :  "
       ]
      },
      {
       "output_type": "stream",
       "stream": "stdout",
       "text": [
        " 0.170342858546\n",
        "31  Cultural Hole 4 to 5 :  "
       ]
      },
      {
       "output_type": "stream",
       "stream": "stdout",
       "text": [
        " 0.201748013668\n",
        "32  Cultural Hole 4 to 6 :  "
       ]
      },
      {
       "output_type": "stream",
       "stream": "stdout",
       "text": [
        " 0.167598634773\n",
        "33  Cultural Hole 4 to 7 :  "
       ]
      },
      {
       "output_type": "stream",
       "stream": "stdout",
       "text": [
        " 0.207974859886\n",
        "34  Cultural Hole 4 to 8 :  "
       ]
      },
      {
       "output_type": "stream",
       "stream": "stdout",
       "text": [
        " 0.185241924764\n",
        "35  Cultural Hole 4 to 9 :  "
       ]
      },
      {
       "output_type": "stream",
       "stream": "stdout",
       "text": [
        " 0.185783323473\n",
        "36  Cultural Hole 4 to 10 :  "
       ]
      },
      {
       "output_type": "stream",
       "stream": "stdout",
       "text": [
        " 0.175125324587\n",
        "37  Cultural Hole 5 to 1 :  "
       ]
      },
      {
       "output_type": "stream",
       "stream": "stdout",
       "text": [
        " 0.206093335854\n",
        "38  Cultural Hole 5 to 2 :  "
       ]
      },
      {
       "output_type": "stream",
       "stream": "stdout",
       "text": [
        " 0.239486541374\n",
        "39  Cultural Hole 5 to 3 :  "
       ]
      },
      {
       "output_type": "stream",
       "stream": "stdout",
       "text": [
        " 0.174826041699\n",
        "40  Cultural Hole 5 to 4 :  "
       ]
      },
      {
       "output_type": "stream",
       "stream": "stdout",
       "text": [
        " 0.200789624887\n",
        "41  Cultural Hole 5 to 6 :  "
       ]
      },
      {
       "output_type": "stream",
       "stream": "stdout",
       "text": [
        " 0.205440112451\n",
        "42  Cultural Hole 5 to 7 :  "
       ]
      },
      {
       "output_type": "stream",
       "stream": "stdout",
       "text": [
        " 0.240618667701\n",
        "43  Cultural Hole 5 to 8 :  "
       ]
      },
      {
       "output_type": "stream",
       "stream": "stdout",
       "text": [
        " 0.232421360391\n",
        "44  Cultural Hole 5 to 9 :  "
       ]
      },
      {
       "output_type": "stream",
       "stream": "stdout",
       "text": [
        " 0.220982276049\n",
        "45  Cultural Hole 5 to 10 :  "
       ]
      },
      {
       "output_type": "stream",
       "stream": "stdout",
       "text": [
        " 0.213035615527\n",
        "46  Cultural Hole 6 to 1 :  "
       ]
      },
      {
       "output_type": "stream",
       "stream": "stdout",
       "text": [
        " 0.236826045401\n",
        "47  Cultural Hole 6 to 2 :  "
       ]
      },
      {
       "output_type": "stream",
       "stream": "stdout",
       "text": [
        " 0.271988493974\n",
        "48  Cultural Hole 6 to 3 :  "
       ]
      },
      {
       "output_type": "stream",
       "stream": "stdout",
       "text": [
        " 0.164770014318\n",
        "49  Cultural Hole 6 to 4 :  "
       ]
      },
      {
       "output_type": "stream",
       "stream": "stdout",
       "text": [
        " 0.163968885001\n",
        "50  Cultural Hole 6 to 5 :  "
       ]
      },
      {
       "output_type": "stream",
       "stream": "stdout",
       "text": [
        " 0.213226167237\n",
        "51  Cultural Hole 6 to 7 :  "
       ]
      },
      {
       "output_type": "stream",
       "stream": "stdout",
       "text": [
        " 0.209876633401\n",
        "52  Cultural Hole 6 to 8 :  "
       ]
      },
      {
       "output_type": "stream",
       "stream": "stdout",
       "text": [
        " 0.203396686479\n",
        "53  Cultural Hole 6 to 9 :  "
       ]
      },
      {
       "output_type": "stream",
       "stream": "stdout",
       "text": [
        " 0.190866088141\n",
        "54  Cultural Hole 6 to 10 :  "
       ]
      },
      {
       "output_type": "stream",
       "stream": "stdout",
       "text": [
        " 0.187624816591\n",
        "55  Cultural Hole 7 to 1 :  "
       ]
      },
      {
       "output_type": "stream",
       "stream": "stdout",
       "text": [
        " 0.304066058457\n",
        "56  Cultural Hole 7 to 2 :  "
       ]
      },
      {
       "output_type": "stream",
       "stream": "stdout",
       "text": [
        " 0.336413273152\n",
        "57  Cultural Hole 7 to 3 :  "
       ]
      },
      {
       "output_type": "stream",
       "stream": "stdout",
       "text": [
        " 0.231213670425\n",
        "58  Cultural Hole 7 to 4 :  "
       ]
      },
      {
       "output_type": "stream",
       "stream": "stdout",
       "text": [
        " 0.227439621842\n",
        "59  Cultural Hole 7 to 5 :  "
       ]
      },
      {
       "output_type": "stream",
       "stream": "stdout",
       "text": [
        " 0.275131941449\n",
        "60  Cultural Hole 7 to 6 :  "
       ]
      },
      {
       "output_type": "stream",
       "stream": "stdout",
       "text": [
        " 0.234339638181\n",
        "61  Cultural Hole 7 to 8 :  "
       ]
      },
      {
       "output_type": "stream",
       "stream": "stdout",
       "text": [
        " 0.236446061664\n",
        "62  Cultural Hole 7 to 9 :  "
       ]
      },
      {
       "output_type": "stream",
       "stream": "stdout",
       "text": [
        " 0.228109490623\n",
        "63  Cultural Hole 7 to 10 :  "
       ]
      },
      {
       "output_type": "stream",
       "stream": "stdout",
       "text": [
        " 0.253495454978\n",
        "64  Cultural Hole 8 to 1 :  "
       ]
      },
      {
       "output_type": "stream",
       "stream": "stdout",
       "text": [
        " 0.258832927721\n",
        "65  Cultural Hole 8 to 2 :  "
       ]
      },
      {
       "output_type": "stream",
       "stream": "stdout",
       "text": [
        " 0.308568665456\n",
        "66  Cultural Hole 8 to 3 :  "
       ]
      },
      {
       "output_type": "stream",
       "stream": "stdout",
       "text": [
        " 0.209814154185\n",
        "67  Cultural Hole 8 to 4 :  "
       ]
      },
      {
       "output_type": "stream",
       "stream": "stdout",
       "text": [
        " 0.202809626591\n",
        "68  Cultural Hole 8 to 5 :  "
       ]
      },
      {
       "output_type": "stream",
       "stream": "stdout",
       "text": [
        " 0.244763496898\n",
        "69  Cultural Hole 8 to 6 :  "
       ]
      },
      {
       "output_type": "stream",
       "stream": "stdout",
       "text": [
        " 0.218514924027\n",
        "70  Cultural Hole 8 to 7 :  "
       ]
      },
      {
       "output_type": "stream",
       "stream": "stdout",
       "text": [
        " 0.227611731468\n",
        "71  Cultural Hole 8 to 9 :  "
       ]
      },
      {
       "output_type": "stream",
       "stream": "stdout",
       "text": [
        " 0.224654339018\n",
        "72  Cultural Hole 8 to 10 :  "
       ]
      },
      {
       "output_type": "stream",
       "stream": "stdout",
       "text": [
        " 0.214535000925\n",
        "73  Cultural Hole 9 to 1 :  "
       ]
      },
      {
       "output_type": "stream",
       "stream": "stdout",
       "text": [
        " 0.270166183508\n",
        "74  Cultural Hole 9 to 2 :  "
       ]
      },
      {
       "output_type": "stream",
       "stream": "stdout",
       "text": [
        " 0.307717369301\n",
        "75  Cultural Hole 9 to 3 :  "
       ]
      },
      {
       "output_type": "stream",
       "stream": "stdout",
       "text": [
        " 0.198475150315\n",
        "76  Cultural Hole 9 to 4 :  "
       ]
      },
      {
       "output_type": "stream",
       "stream": "stdout",
       "text": [
        " 0.186511880601\n",
        "77  Cultural Hole 9 to 5 :  "
       ]
      },
      {
       "output_type": "stream",
       "stream": "stdout",
       "text": [
        " 0.246768558566\n",
        "78  Cultural Hole 9 to 6 :  "
       ]
      },
      {
       "output_type": "stream",
       "stream": "stdout",
       "text": [
        " 0.200266848364\n",
        "79  Cultural Hole 9 to 7 :  "
       ]
      },
      {
       "output_type": "stream",
       "stream": "stdout",
       "text": [
        " 0.216193418762\n",
        "80  Cultural Hole 9 to 8 :  "
       ]
      },
      {
       "output_type": "stream",
       "stream": "stdout",
       "text": [
        " 0.220046832343\n",
        "81  Cultural Hole 9 to 10 :  "
       ]
      },
      {
       "output_type": "stream",
       "stream": "stdout",
       "text": [
        " 0.222360838149\n",
        "82  Cultural Hole 10 to 1 :  "
       ]
      },
      {
       "output_type": "stream",
       "stream": "stdout",
       "text": [
        " 0.254310436973\n",
        "83  Cultural Hole 10 to 2 :  "
       ]
      },
      {
       "output_type": "stream",
       "stream": "stdout",
       "text": [
        " 0.296851943758\n",
        "84  Cultural Hole 10 to 3 :  "
       ]
      },
      {
       "output_type": "stream",
       "stream": "stdout",
       "text": [
        " 0.203959156668\n",
        "85  Cultural Hole 10 to 4 :  "
       ]
      },
      {
       "output_type": "stream",
       "stream": "stdout",
       "text": [
        " 0.181253873066\n",
        "86  Cultural Hole 10 to 5 :  "
       ]
      },
      {
       "output_type": "stream",
       "stream": "stdout",
       "text": [
        " 0.23117158946\n",
        "87  Cultural Hole 10 to 6 :  "
       ]
      },
      {
       "output_type": "stream",
       "stream": "stdout",
       "text": [
        " 0.195996253361\n",
        "88  Cultural Hole 10 to 7 :  "
       ]
      },
      {
       "output_type": "stream",
       "stream": "stdout",
       "text": [
        " 0.236410340197\n",
        "89  Cultural Hole 10 to 8 :  "
       ]
      },
      {
       "output_type": "stream",
       "stream": "stdout",
       "text": [
        " 0.210862072867\n",
        "90  Cultural Hole 10 to 9 :  "
       ]
      },
      {
       "output_type": "stream",
       "stream": "stdout",
       "text": [
        " 0.220170690771\n"
       ]
      },
      {
       "metadata": {},
       "output_type": "display_data",
       "png": "[encoded data removed]",
       "text": [
        "<matplotlib.figure.Figure at 0x152b0610>"
       ]
      },
      {
       "output_type": "stream",
       "stream": "stdout",
       "text": [
        "Time taken is   104.753299207  seconds\n"
       ]
      }
     ],
     "prompt_number": 63
    },
    {
     "cell_type": "code",
     "collapsed": false,
     "input": [],
     "language": "python",
     "metadata": {},
     "outputs": [],
     "prompt_number": 47
    },
    {
     "cell_type": "code",
     "collapsed": false,
     "input": [],
     "language": "python",
     "metadata": {},
     "outputs": [],
     "prompt_number": 59
    },
    {
     "cell_type": "code",
     "collapsed": false,
     "input": [],
     "language": "python",
     "metadata": {},
     "outputs": [],
     "prompt_number": 2
    },
    {
     "cell_type": "code",
     "collapsed": false,
     "input": [],
     "language": "python",
     "metadata": {},
     "outputs": [
      {
       "metadata": {},
       "output_type": "pyout",
       "prompt_number": 2,
       "text": [
        "5"
       ]
      }
     ],
     "prompt_number": 2
    },
    {
     "cell_type": "code",
     "collapsed": false,
     "input": [],
     "language": "python",
     "metadata": {},
     "outputs": []
    }
   ],
   "metadata": {}
  }
 ]
}